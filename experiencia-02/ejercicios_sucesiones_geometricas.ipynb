{
 "cells": [
  {
   "cell_type": "code",
   "execution_count": 3,
   "metadata": {},
   "outputs": [],
   "source": [
    "def a(n):\n",
    "   return a_1 * r ** (n - 1)"
   ]
  },
  {
   "cell_type": "markdown",
   "metadata": {},
   "source": [
    "# Problema 1"
   ]
  },
  {
   "cell_type": "markdown",
   "metadata": {},
   "source": [
    "Considere la sucesión geométrica $4,6,9,...$\n",
    "\n",
    "a) Determine el término de lugar 60.\n",
    "\n",
    "b) Calcule la suma de los 30 primeros términos"
   ]
  },
  {
   "cell_type": "markdown",
   "metadata": {},
   "source": [
    "# Solución"
   ]
  },
  {
   "cell_type": "code",
   "execution_count": 32,
   "metadata": {},
   "outputs": [],
   "source": [
    "a_1 = 4\n",
    "r = 6 / 4"
   ]
  },
  {
   "cell_type": "markdown",
   "metadata": {},
   "source": [
    "**a)**"
   ]
  },
  {
   "cell_type": "code",
   "execution_count": 33,
   "metadata": {},
   "outputs": [
    {
     "name": "stdout",
     "output_type": "stream",
     "text": [
      "El término de lugar 60 es 98_049_249_911.82\n"
     ]
    }
   ],
   "source": [
    "print(f\"El término de lugar 60 es {a(60):_.2f}\")"
   ]
  },
  {
   "cell_type": "markdown",
   "metadata": {},
   "source": [
    "**b)**"
   ]
  },
  {
   "cell_type": "code",
   "execution_count": 34,
   "metadata": {},
   "outputs": [
    {
     "name": "stdout",
     "output_type": "stream",
     "text": [
      "La suma de los primeros 30 términos es 1_534_000.47\n"
     ]
    }
   ],
   "source": [
    "suma = 0\n",
    "for i in range(1, 31):\n",
    "   suma += a(i)\n",
    "\n",
    "print(f\"La suma de los primeros 30 términos es {suma:_.2f}\")"
   ]
  },
  {
   "cell_type": "markdown",
   "metadata": {},
   "source": [
    "# Problema 2"
   ]
  },
  {
   "cell_type": "markdown",
   "metadata": {},
   "source": [
    "Considere la sucesión geométrica $200,100,50,...$\n",
    "\n",
    "a) Determine el término de lugar 25\n",
    "\n",
    "b) Calcule la suma de los 20 primeros términos"
   ]
  },
  {
   "cell_type": "markdown",
   "metadata": {},
   "source": [
    "# Solución"
   ]
  },
  {
   "cell_type": "code",
   "execution_count": 35,
   "metadata": {},
   "outputs": [],
   "source": [
    "a_1 = 200\n",
    "r = 100 / 200"
   ]
  },
  {
   "cell_type": "markdown",
   "metadata": {},
   "source": [
    "**a)**"
   ]
  },
  {
   "cell_type": "code",
   "execution_count": 36,
   "metadata": {},
   "outputs": [
    {
     "name": "stdout",
     "output_type": "stream",
     "text": [
      "El término de lugar 25 es 0.0000119209\n"
     ]
    }
   ],
   "source": [
    "print(f\"El término de lugar 25 es {a(25):.10f}\")"
   ]
  },
  {
   "cell_type": "markdown",
   "metadata": {},
   "source": [
    "**b)**"
   ]
  },
  {
   "cell_type": "code",
   "execution_count": 37,
   "metadata": {},
   "outputs": [
    {
     "name": "stdout",
     "output_type": "stream",
     "text": [
      "La suma de los 20 primeros términos es 400.00\n"
     ]
    }
   ],
   "source": [
    "suma = 0\n",
    "for i in range(1, 21):\n",
    "   suma += a(i)\n",
    "\n",
    "print(f\"La suma de los 20 primeros términos es {suma:.2f}\")"
   ]
  },
  {
   "cell_type": "markdown",
   "metadata": {},
   "source": [
    "# Problema 3"
   ]
  },
  {
   "cell_type": "markdown",
   "metadata": {},
   "source": [
    "El tercer término de una sucesión geométrica es $5$ y es sexto término es $40$. Determine:\n",
    "\n",
    "a) El octavo término.\n",
    "\n",
    "b) La suma de los 20 primeros términos."
   ]
  },
  {
   "cell_type": "markdown",
   "metadata": {},
   "source": [
    "# Solución"
   ]
  },
  {
   "cell_type": "markdown",
   "metadata": {},
   "source": [
    "$a_3 = 5$ y $a_6 = 40$\n",
    "\n",
    "Calculando $r$:\n",
    "$$\\begin{cases}\n",
    "5 = a_1 \\cdot r^{(3 - 1)} \\\\ \\\\\n",
    "40 = a_1 \\cdot r^{(6 - 1)}\n",
    "\\end{cases}$$\n",
    "\n",
    "$$\\begin{align}\n",
    "\\frac{40}{5} = \\frac{a_1 \\cdot r^{(6 - 1)}}{a_1 \\cdot r^{(3 - 1)}} \\\\ \n",
    "r^3 = 8 \\\\ \n",
    "r = 2\n",
    "\\end{align}$$\n",
    "\n",
    "Calculando $a_1$\n",
    "$$\\begin{align}\n",
    "5 = a_1 \\cdot 2 ^ 2 \\\\\n",
    "a_1 = \\frac{5}{4} \\\\\n",
    "a_1 = 1,25\n",
    "\\end{align}$$"
   ]
  },
  {
   "cell_type": "code",
   "execution_count": 38,
   "metadata": {},
   "outputs": [],
   "source": [
    "a_1 = 1.25\n",
    "r = 2"
   ]
  },
  {
   "cell_type": "markdown",
   "metadata": {},
   "source": [
    "**a)**"
   ]
  },
  {
   "cell_type": "code",
   "execution_count": 39,
   "metadata": {},
   "outputs": [
    {
     "name": "stdout",
     "output_type": "stream",
     "text": [
      "El octavo término es 160.0\n"
     ]
    }
   ],
   "source": [
    "print(f\"El octavo término es {a(8)}\")"
   ]
  },
  {
   "cell_type": "markdown",
   "metadata": {},
   "source": [
    "**b)**"
   ]
  },
  {
   "cell_type": "code",
   "execution_count": 44,
   "metadata": {},
   "outputs": [
    {
     "name": "stdout",
     "output_type": "stream",
     "text": [
      "La suma de los 20 primeros términos es 1_310_718.75\n"
     ]
    }
   ],
   "source": [
    "suma = 0\n",
    "for i in range(1, 21):\n",
    "   suma += a(i)\n",
    "\n",
    "print(f\"La suma de los 20 primeros términos es {suma:_}\")"
   ]
  },
  {
   "cell_type": "markdown",
   "metadata": {},
   "source": [
    "# Problema 4"
   ]
  },
  {
   "cell_type": "markdown",
   "metadata": {},
   "source": [
    "La razón de una sucesión geométrica es $\\frac{3}{2}$ y el quinto término es 1. Calcule los tres primeros términos de la sucesión."
   ]
  },
  {
   "cell_type": "markdown",
   "metadata": {},
   "source": [
    "# Solución"
   ]
  },
  {
   "cell_type": "markdown",
   "metadata": {},
   "source": [
    "$r = \\frac{3}{2}$ y $a_5 = 1$\n",
    "\n",
    "Calculando $a_1$:\n",
    "$$\\begin{array}{l}\n",
    "1 = a_1 \\cdot (\\frac{3}{2}) ^{(5 - 1)} \\\\\n",
    "a_1 = \\frac{16}{81} \\\\\n",
    "a_1 \\approx 0,1975\n",
    "\\end{array}$$"
   ]
  },
  {
   "cell_type": "code",
   "execution_count": 51,
   "metadata": {},
   "outputs": [
    {
     "name": "stdout",
     "output_type": "stream",
     "text": [
      "a_1: 0.1975\n",
      "a_2: 0.2963\n",
      "a_3: 0.4444\n"
     ]
    }
   ],
   "source": [
    "a_1 = 16/81\n",
    "r = 3/2\n",
    "\n",
    "for i in range(1,4):\n",
    "   print(f\"a_{i}: {a(i):.4f}\")"
   ]
  },
  {
   "cell_type": "markdown",
   "metadata": {},
   "source": [
    "# Problema 5"
   ]
  },
  {
   "cell_type": "markdown",
   "metadata": {},
   "source": [
    "Considere la sucesión geométrica $10, 50, 250,...$ ¿El número $31.250$ es un término de esta sucesión? En caso afirmativo, ¿Qué término es?"
   ]
  },
  {
   "cell_type": "markdown",
   "metadata": {},
   "source": [
    "# Solución"
   ]
  },
  {
   "cell_type": "code",
   "execution_count": 52,
   "metadata": {},
   "outputs": [],
   "source": [
    "a_1 = 10\n",
    "r = 50/10"
   ]
  },
  {
   "cell_type": "code",
   "execution_count": 53,
   "metadata": {},
   "outputs": [
    {
     "name": "stdout",
     "output_type": "stream",
     "text": [
      "31250 es el 6 término en la sucesión\n"
     ]
    }
   ],
   "source": [
    "a_n = 31250\n",
    "n = 1\n",
    "\n",
    "while a(n) <= a_n:\n",
    "   if a(n) == a_n:\n",
    "      print(f\"{a_n} es el {n} término en la sucesión\")\n",
    "      break\n",
    "   n += 1\n",
    "else:\n",
    "   print(f\"{a_n} no pertenece a la sucesión\")"
   ]
  },
  {
   "cell_type": "markdown",
   "metadata": {},
   "source": [
    "# Problema 6"
   ]
  },
  {
   "cell_type": "markdown",
   "metadata": {},
   "source": [
    "En una sucesión geométrica la razón es $1,1$ y el décimo término es $23,57947691$ Determine:\n",
    "\n",
    "a) El primer término.\n",
    "\n",
    "b) La suma de los $5$ primeros términos"
   ]
  },
  {
   "cell_type": "markdown",
   "metadata": {},
   "source": [
    "# Solución"
   ]
  },
  {
   "cell_type": "markdown",
   "metadata": {},
   "source": [
    "**a)**"
   ]
  },
  {
   "cell_type": "markdown",
   "metadata": {},
   "source": [
    "$r = 1,1$ y $a_{10} = 23,57947691$\n",
    "\n",
    "Calculando $a_1$\n",
    "$$\\begin{array}{l}\n",
    "23,57947691 = a_1 \\cdot 1,1 ^ {10 - 1} \\\\\n",
    "a_1 = \\frac{23,57947691}{1,1 ^ {10 - 1}} \\\\\n",
    "a_1 \\approx 10\n",
    "\\end{array}$$"
   ]
  },
  {
   "cell_type": "markdown",
   "metadata": {},
   "source": [
    "**b)**"
   ]
  },
  {
   "cell_type": "code",
   "execution_count": 56,
   "metadata": {},
   "outputs": [],
   "source": [
    "a_1 = 10\n",
    "r = 1.1"
   ]
  },
  {
   "cell_type": "code",
   "execution_count": 60,
   "metadata": {},
   "outputs": [
    {
     "name": "stdout",
     "output_type": "stream",
     "text": [
      "La suma de los 5 primeros términos es 61.0510\n"
     ]
    }
   ],
   "source": [
    "suma = 0\n",
    "for i in range(1,6):\n",
    "   suma += a(i)\n",
    "\n",
    "print(f\"La suma de los 5 primeros términos es {suma:.4f}\")"
   ]
  },
  {
   "cell_type": "markdown",
   "metadata": {},
   "source": [
    "# Problema 7"
   ]
  },
  {
   "cell_type": "markdown",
   "metadata": {},
   "source": [
    "La sucesión geométrica $\\frac{1}{8}, \\frac{1}{4}, \\frac{1}{2}, ...$, tiene un número finito de términos y su último término es $1.024$\n",
    "\n",
    "a) ¿Cuántos términos tiene la sucesión?\n",
    "\n",
    "b) Determine la suma de los últimos $7$ términos de la sucesión"
   ]
  },
  {
   "cell_type": "markdown",
   "metadata": {},
   "source": [
    "# Solución"
   ]
  },
  {
   "cell_type": "code",
   "execution_count": 61,
   "metadata": {},
   "outputs": [],
   "source": [
    "a_1 = 1/8\n",
    "r = (1/4)/(1/8)"
   ]
  },
  {
   "cell_type": "markdown",
   "metadata": {},
   "source": [
    "**a)**"
   ]
  },
  {
   "cell_type": "code",
   "execution_count": 67,
   "metadata": {},
   "outputs": [
    {
     "name": "stdout",
     "output_type": "stream",
     "text": [
      "La sucesión tiene 14 términos\n"
     ]
    }
   ],
   "source": [
    "n = 1\n",
    "a_n = 1024\n",
    "\n",
    "while a(n) != a_n:\n",
    "   n += 1\n",
    "\n",
    "print(f\"La sucesión tiene {n} términos\")"
   ]
  },
  {
   "cell_type": "markdown",
   "metadata": {},
   "source": [
    "**b)**"
   ]
  },
  {
   "cell_type": "code",
   "execution_count": 71,
   "metadata": {},
   "outputs": [
    {
     "name": "stdout",
     "output_type": "stream",
     "text": [
      "La suma de los últimos 7 términos de la sucesión es 2032.0\n"
     ]
    }
   ],
   "source": [
    "suma = 0\n",
    "for i in range(14, 14-7, -1):\n",
    "   suma += a(i)\n",
    "\n",
    "print(f\"La suma de los últimos 7 términos de la sucesión es {suma}\")"
   ]
  },
  {
   "cell_type": "markdown",
   "metadata": {},
   "source": [
    "# Problema 8"
   ]
  },
  {
   "cell_type": "markdown",
   "metadata": {},
   "source": [
    "En un laboratorio de biotecnología se estudia la reproducción de una bacteria desconocida, los investigadores determinaron que la población inicial es de $2$ bacterias. Si la cantidad de bacterias se triplica cada $15$ minutos, determina:\n",
    "\n",
    "a) De acuerdo a los datos proporcionados en el enunciado, ¿A qué tipo de progresión corresponde?, ¿Por qué?, ¿Qué datos te permiten reconocerla y clasificarla?\n",
    "\n",
    "b) ¿Cuántas bacterias hay después de transcurridas 3 horas?\n",
    "\n",
    "c) ¿Cuántas bacterias hay después de transcurridas 6 horas?"
   ]
  },
  {
   "cell_type": "markdown",
   "metadata": {},
   "source": [
    "# Solución"
   ]
  },
  {
   "cell_type": "code",
   "execution_count": 72,
   "metadata": {},
   "outputs": [],
   "source": [
    "a_1 = 2\n",
    "r = 3"
   ]
  },
  {
   "cell_type": "markdown",
   "metadata": {},
   "source": [
    "**a)**"
   ]
  },
  {
   "cell_type": "markdown",
   "metadata": {},
   "source": [
    "Es una progresión geométrica porque, según el enunciado, el siguiente término en la sucesión se obtiene triplicando el término anterior."
   ]
  },
  {
   "cell_type": "markdown",
   "metadata": {},
   "source": [
    "**b)**"
   ]
  },
  {
   "cell_type": "code",
   "execution_count": 80,
   "metadata": {},
   "outputs": [
    {
     "name": "stdout",
     "output_type": "stream",
     "text": [
      "Hay 354_294 bacterias después de transcurridas 3 horas\n"
     ]
    }
   ],
   "source": [
    "n = 60 * 3 / 15\n",
    "print(f\"Hay {a(n):_.0f} bacterias después de transcurridas 3 horas\")"
   ]
  },
  {
   "cell_type": "markdown",
   "metadata": {},
   "source": [
    "**c)**"
   ]
  },
  {
   "cell_type": "code",
   "execution_count": 79,
   "metadata": {},
   "outputs": [
    {
     "name": "stdout",
     "output_type": "stream",
     "text": [
      "Hay 188_286_357_654 bacterias después de transcurridas 6 horas\n"
     ]
    }
   ],
   "source": [
    "n = 60 * 6 / 15\n",
    "print(f\"Hay {a(n):_.0f} bacterias después de transcurridas 6 horas\")"
   ]
  },
  {
   "cell_type": "markdown",
   "metadata": {},
   "source": [
    "# Problema 9"
   ]
  },
  {
   "cell_type": "markdown",
   "metadata": {},
   "source": [
    "En un estudio realizado a los computadores de una empresa, se observó que debido a un gran virus computacional, el primer día se infectaron dos computadores, el segundo día cuatro computadores, el tercer día ocho computadores. Si el virus se sigue propagando de igual forma, determine:  \n",
    "\n",
    "a)\tDe acuerdo a los datos proporcionados en el enunciado, ¿A qué tipo de progresión corresponde?, ¿Por qué?, ¿Qué datos te permiten reconocerla y clasificarla?\n",
    "\n",
    "b)\t¿Cuál es la cantidad de computadores infectados el décimo quinto día?\n",
    "\n",
    "c)\t¿Cuál es el total de computadores infectados los 10 primeros días?\n"
   ]
  },
  {
   "cell_type": "markdown",
   "metadata": {},
   "source": [
    "# Solución"
   ]
  },
  {
   "cell_type": "markdown",
   "metadata": {},
   "source": [
    "**a)**"
   ]
  },
  {
   "cell_type": "markdown",
   "metadata": {},
   "source": [
    "Corresponde a una sucesión geométrica, debido a que el virus se multiplica a razón constante, duplicándose según el enunciado, con $a_1 = 2$, $a_2 = 4$ y $a_3 = 8$."
   ]
  },
  {
   "cell_type": "markdown",
   "metadata": {},
   "source": [
    "**b)**"
   ]
  },
  {
   "cell_type": "code",
   "execution_count": 1,
   "metadata": {},
   "outputs": [],
   "source": [
    "a_1 = 2\n",
    "r = 4/2"
   ]
  },
  {
   "cell_type": "code",
   "execution_count": 8,
   "metadata": {},
   "outputs": [
    {
     "name": "stdout",
     "output_type": "stream",
     "text": [
      "La cantidad de computadores infectados al décimo quinto día es 32768\n"
     ]
    }
   ],
   "source": [
    "print(f\"La cantidad de computadores infectados al décimo quinto día es {a(15):.0f}\")"
   ]
  },
  {
   "cell_type": "markdown",
   "metadata": {},
   "source": [
    "**c)**"
   ]
  },
  {
   "cell_type": "code",
   "execution_count": 7,
   "metadata": {},
   "outputs": [
    {
     "name": "stdout",
     "output_type": "stream",
     "text": [
      "La cantidad total de computadores infectados los 10 primeros días es 2056\n"
     ]
    }
   ],
   "source": [
    "suma = 10\n",
    "for i in range(1,11):\n",
    "   suma += a(i)\n",
    "\n",
    "print(f\"La cantidad total de computadores infectados los 10 primeros días es {suma:.0f}\")"
   ]
  },
  {
   "cell_type": "markdown",
   "metadata": {},
   "source": [
    "# Problema 10"
   ]
  },
  {
   "cell_type": "markdown",
   "metadata": {},
   "source": [
    "Al dejar caer una pelota desde una cierta altura (en metros) esta golpea contra el piso y rebota a una razón constante de la altura anterior. Si después del quinto rebote la altura alcanzada es de $9,8304$ metros y después del segundo rebote la altura es de $19,2$ metros. Determine: \n",
    "\n",
    "a)\tDe acuerdo a los datos proporcionados en el enunciado, ¿A qué tipo de progresión corresponde?, ¿Por qué?, ¿Qué datos te permiten reconocerla y clasificarla?\n",
    "\n",
    "b)\t¿Cuál es la altura que alcanzará después del octavo rebote?  \n"
   ]
  },
  {
   "cell_type": "markdown",
   "metadata": {},
   "source": [
    "# Solución"
   ]
  },
  {
   "cell_type": "markdown",
   "metadata": {},
   "source": [
    "**a)**"
   ]
  },
  {
   "cell_type": "markdown",
   "metadata": {},
   "source": [
    "Es una sucesión geométrica porque el enunciado señala que la pelota rebota a una razón constante."
   ]
  },
  {
   "cell_type": "markdown",
   "metadata": {},
   "source": [
    "**b)**"
   ]
  },
  {
   "cell_type": "markdown",
   "metadata": {},
   "source": [
    "Calculando $r$:\n",
    "\n",
    "$$\\begin{cases}\n",
    "9,8304 = a_1 \\cdot r^{(4)} \\\\\n",
    "19,2 = a_1 \\cdot r \\\\\n",
    "\\end{cases}$$\n",
    "\n",
    "$$\\begin{array}{l}\n",
    "\\frac{9,8304}{19,2} = r^3 \\\\\n",
    "r = \\sqrt[3]{0.512} \\\\ \n",
    "r = 0.8\n",
    "\\end{array}$$\n",
    "\n",
    "Calculando $a_1$:\n",
    "$$\\begin{array}{l}\n",
    "19,2 = a_1 \\cdot 0.8 \\\\\n",
    "a_1 = 24\n",
    "\\end{array}$$\n"
   ]
  },
  {
   "cell_type": "code",
   "execution_count": 13,
   "metadata": {},
   "outputs": [
    {
     "name": "stdout",
     "output_type": "stream",
     "text": [
      "La altura que alcanzará la pelota al octavo rebote es de 5.03 metros\n"
     ]
    }
   ],
   "source": [
    "a_1 = 24\n",
    "r = 0.8\n",
    "\n",
    "print(f\"La altura que alcanzará la pelota al octavo rebote es de {a(8):.2f} metros\")"
   ]
  },
  {
   "cell_type": "markdown",
   "metadata": {},
   "source": [
    "# Problema 11"
   ]
  },
  {
   "cell_type": "markdown",
   "metadata": {},
   "source": [
    "Alejandra le pidió dinero prestado a su amiga Patricia y le propone realizar el siguiente sistema de pago. El primer mes le cancelará $\\$12.000$, el segundo  mes le cancelará $\\$18.000$, el tercer mes le cancelará $\\$27.000$ y así sucesivamente siguiendo el mismo patrón de pago. De acuerdo a los datos:\n",
    "\n",
    "a)\tDe acuerdo a los datos proporcionados en el enunciado, ¿A qué tipo de progresión corresponde?, ¿Por qué?, ¿Qué datos te permiten reconocerla y clasificarla?\n",
    "\n",
    "b)\t¿Cuál será el monto que cancelará en noveno mes de pago?\n",
    "\t\n",
    "c)\tSi Alejandra paga toda su deuda en un total de $14$ meses, ¿Cuál es el total del dinero que pidió prestado?\n"
   ]
  },
  {
   "cell_type": "markdown",
   "metadata": {},
   "source": [
    "# Solución"
   ]
  },
  {
   "cell_type": "markdown",
   "metadata": {},
   "source": [
    "**a)**"
   ]
  },
  {
   "cell_type": "markdown",
   "metadata": {},
   "source": [
    "Es una sucesión geométrica debido a que los términos de la sucesión varían a razón constante, no posee una diferencia constante, y va siguiento el mismo patrón de pago."
   ]
  },
  {
   "cell_type": "markdown",
   "metadata": {},
   "source": [
    "**b)**"
   ]
  },
  {
   "cell_type": "code",
   "execution_count": 15,
   "metadata": {},
   "outputs": [],
   "source": [
    "a_1 = 12000\n",
    "r = 18000 / 12000"
   ]
  },
  {
   "cell_type": "code",
   "execution_count": 18,
   "metadata": {},
   "outputs": [
    {
     "name": "stdout",
     "output_type": "stream",
     "text": [
      "Al noveno mes cancelará $307_547\n"
     ]
    }
   ],
   "source": [
    "print(f\"Al noveno mes cancelará ${a(9):_.0f}\")"
   ]
  },
  {
   "cell_type": "markdown",
   "metadata": {},
   "source": [
    "**c)**"
   ]
  },
  {
   "cell_type": "code",
   "execution_count": 20,
   "metadata": {},
   "outputs": [
    {
     "name": "stdout",
     "output_type": "stream",
     "text": [
      "El total de dinero que pidió prestado es $6_982_302\n"
     ]
    }
   ],
   "source": [
    "suma = 0\n",
    "for i in range(1,15):\n",
    "   suma += a(i)\n",
    "\n",
    "print(f\"El total de dinero que pidió prestado es ${suma:_.0f}\")"
   ]
  },
  {
   "cell_type": "markdown",
   "metadata": {},
   "source": [
    "# Problema 12"
   ]
  },
  {
   "cell_type": "markdown",
   "metadata": {},
   "source": [
    "De un depósito de agua, se extrae diariamente su contenido a una razón constante. Se sabe que el día $5$ quedaron en el depósito $192$ litros y el que el día $9$ quedaron $12$ litros. Determine: \n",
    "\n",
    "a)\tDe acuerdo a los datos proporcionados en el enunciado, ¿A qué tipo de progresión corresponde?, ¿Por qué?, ¿Qué datos te permiten reconocerla y clasificarla?\n",
    "\n",
    "b)\t¿Cuántos litros de agua que quedaron en el depósito al segundo día?\n"
   ]
  },
  {
   "cell_type": "markdown",
   "metadata": {},
   "source": [
    "# Solución"
   ]
  },
  {
   "cell_type": "markdown",
   "metadata": {},
   "source": [
    "**a)**"
   ]
  },
  {
   "cell_type": "markdown",
   "metadata": {},
   "source": [
    "Es una sucesión geométrica debido a que el enunciado señala que los términos varían a una razón constante."
   ]
  },
  {
   "cell_type": "markdown",
   "metadata": {},
   "source": [
    "**b)**"
   ]
  },
  {
   "cell_type": "markdown",
   "metadata": {},
   "source": [
    "Calculando $r$:\n",
    "$$\\begin{cases}\n",
    "192 = a_1 \\cdot r^{(4)} \\\\\n",
    "12 = a_1 \\cdot r^{8} \\\\\n",
    "\\end{cases}$$\n",
    "\n",
    "$$\\begin{array}{l}\n",
    "\\frac{12}{192} = r^4 \\\\\n",
    "r = \\sqrt[4]{0.0625} \\\\ \n",
    "r = 0.5\n",
    "\\end{array}$$\n",
    "\n",
    "Calculando $a_1$:\n",
    "$$\\begin{array}{l}\n",
    "192 = a_1 \\cdot 0.5^4 \\\\\n",
    "a_1 = 3072\n",
    "\\end{array}$$"
   ]
  },
  {
   "cell_type": "code",
   "execution_count": 29,
   "metadata": {},
   "outputs": [
    {
     "name": "stdout",
     "output_type": "stream",
     "text": [
      "Al segundo día quedaron 1536 litros de agua\n"
     ]
    }
   ],
   "source": [
    "a_1 = 3072\n",
    "r = 0.5\n",
    "\n",
    "print(f\"Al segundo día quedaron {a(2):.0f} litros de agua\")"
   ]
  },
  {
   "cell_type": "markdown",
   "metadata": {},
   "source": [
    "# Problema 13"
   ]
  },
  {
   "cell_type": "markdown",
   "metadata": {},
   "source": [
    "Pedro tiene un minimarket, por ser un buen cliente y siempre pagar sus facturas a tiempo, uno de sus proveedores le ofrece el siguiente descuento a uno de los productos que lleva. Por el primer producto comprado le cobrará $\\$7.200$, por el segundo producto le cobrará $\\$6.480$, por el tercero $\\$5.832$ y así sucesivamente siguiendo el mismo patrón de descuento. El proveedor le señala que este patrón de descuento se lo podrá aplicar sólo por $20$ unidades. De acuerdo a esto:\n",
    "\n",
    "a)\tDe acuerdo a los datos proporcionados en el enunciado, ¿A qué tipo de progresión corresponde?, ¿Por qué?, ¿Qué datos te permiten reconocerla y clasificarla?\n",
    "\n",
    "b)\t¿Cuál es el valor que pagará por el décimo tercer producto comprado?\n",
    "\n",
    "c)\tSi Pedro compra las $20$ unidades que le ofrecen en oferta, ¿Cuál es el total que debe cancelar por todas ellas?\n"
   ]
  },
  {
   "cell_type": "markdown",
   "metadata": {},
   "source": [
    "# Solución"
   ]
  },
  {
   "cell_type": "markdown",
   "metadata": {},
   "source": [
    "**a)**"
   ]
  },
  {
   "cell_type": "markdown",
   "metadata": {},
   "source": [
    "Es una sucesión geométrica debido a que los términos siguen un patrón decreciente a razón constante."
   ]
  },
  {
   "cell_type": "markdown",
   "metadata": {},
   "source": [
    "**b)**"
   ]
  },
  {
   "cell_type": "code",
   "execution_count": 30,
   "metadata": {},
   "outputs": [],
   "source": [
    "a_1 = 7200\n",
    "r = 6480 / 7200"
   ]
  },
  {
   "cell_type": "code",
   "execution_count": 32,
   "metadata": {},
   "outputs": [
    {
     "name": "stdout",
     "output_type": "stream",
     "text": [
      "El valor que pagará el décimo tercer día es de $2033\n"
     ]
    }
   ],
   "source": [
    "print(f\"El valor que pagará el décimo tercer día es de ${a(13):.0f}\")"
   ]
  },
  {
   "cell_type": "markdown",
   "metadata": {},
   "source": [
    "**c)**"
   ]
  },
  {
   "cell_type": "code",
   "execution_count": 34,
   "metadata": {},
   "outputs": [
    {
     "name": "stdout",
     "output_type": "stream",
     "text": [
      "El total a pagar por 20 unidades es de $63_246\n"
     ]
    }
   ],
   "source": [
    "suma = 0 \n",
    "for i in range(1,21):\n",
    "   suma += a(i)\n",
    "\n",
    "print(f\"El total a pagar por 20 unidades es de ${suma:_.0f}\")"
   ]
  }
 ],
 "metadata": {
  "kernelspec": {
   "display_name": "Python 3",
   "language": "python",
   "name": "python3"
  },
  "language_info": {
   "codemirror_mode": {
    "name": "ipython",
    "version": 3
   },
   "file_extension": ".py",
   "mimetype": "text/x-python",
   "name": "python",
   "nbconvert_exporter": "python",
   "pygments_lexer": "ipython3",
   "version": "3.12.6"
  }
 },
 "nbformat": 4,
 "nbformat_minor": 2
}
