{
 "cells": [
  {
   "cell_type": "code",
   "execution_count": 1,
   "metadata": {},
   "outputs": [],
   "source": [
    "import numpy as np"
   ]
  },
  {
   "cell_type": "markdown",
   "metadata": {
    "id": "UCCOMbmnLfHY"
   },
   "source": [
    "# Problema 1"
   ]
  },
  {
   "cell_type": "markdown",
   "metadata": {
    "id": "AHPLM97ONSwR"
   },
   "source": [
    "Las matrices $A$ y $B$ representan las ventas en dos años, en millones de dólares, de los tres productos de una empresa en las cuatro regiones en que está disponible. Es decir, $a_{ij}$ y $b_{ij}$ representan el monto de las ventas del producto $i$ en la región $j$ el primer y segundo año, respectivamente:\n",
    "\n",
    "<br>\n",
    "\n",
    "\\begin{split}\n",
    "A = \\begin{pmatrix}\n",
    " 2,6 &  4,8 &  1,8 & 0,9 \\\\\n",
    " 3,2 &  4,4 &  2,5 & 2,8 \\\\\n",
    " 2,4 &  3,6 &  3,8 & 2,5 \\\\\n",
    "\\end{pmatrix} \\text{ } B= \\begin{pmatrix}\n",
    " 3,6 &  2,5 &  3,0 & 2,5 \\\\\n",
    " 4,5 &  5,0 &  3,5 & 3,8 \\\\\n",
    " 2,9 &  3,0 &  4,6 & 4,0 \\\\\n",
    "\\end{pmatrix}\n",
    "\\end{split}\n",
    "\n",
    "<br>\n",
    "\n",
    "1. Indique el orden de cada matriz.\n",
    "2. Calcule la matriz $S = A + B$.\n",
    "3. Calcule la matriz $D = B - A$.\n",
    "4. Indique el valor e interprete los elementos $s_{24}$ y $d_{24}$.\n",
    "5. Para el tercer año de funcionamiento, los tres productos ahora están disponibles en seis regiones. Durante este año, las ventas de esta empresa estarán registradas en una matriz $E$. ¿Es posible determinar la matriz $T = A + B + E$? Justifique su respuesta."
   ]
  },
  {
   "cell_type": "markdown",
   "metadata": {},
   "source": [
    "# Solución"
   ]
  },
  {
   "cell_type": "code",
   "execution_count": 5,
   "metadata": {},
   "outputs": [],
   "source": [
    "A = np.array([[2.6, 4.8, 1.8, 0.9],\n",
    "              [3.2, 4.4, 2.5, 2.8],\n",
    "              [2.4, 3.6, 3.8, 2.5]])\n",
    "\n",
    "B = np.array([[3.6, 2.5, 3.0, 2.5],\n",
    "              [4.5, 5.0, 3.5, 3.8],\n",
    "              [2.9, 3.0, 4.6, 4.0]])"
   ]
  },
  {
   "cell_type": "markdown",
   "metadata": {},
   "source": [
    "**1)**"
   ]
  },
  {
   "cell_type": "markdown",
   "metadata": {},
   "source": [
    "Ambas matrices son de orden $3$ x $4$"
   ]
  },
  {
   "cell_type": "markdown",
   "metadata": {},
   "source": [
    "**2)**"
   ]
  },
  {
   "cell_type": "code",
   "execution_count": 8,
   "metadata": {},
   "outputs": [
    {
     "name": "stdout",
     "output_type": "stream",
     "text": [
      "6.2  7.3  4.8  3.4\n",
      "7.7  9.4  6.0  6.6\n",
      "5.3  6.6  8.4  6.5\n"
     ]
    }
   ],
   "source": [
    "S = A + B\n",
    "for line in S:\n",
    "    print(\"  \".join([str(round(n,2 )) for n in line]))"
   ]
  },
  {
   "cell_type": "markdown",
   "metadata": {},
   "source": [
    "**3)**"
   ]
  },
  {
   "cell_type": "code",
   "execution_count": 9,
   "metadata": {},
   "outputs": [
    {
     "name": "stdout",
     "output_type": "stream",
     "text": [
      "1.0  -2.3  1.2  1.6\n",
      "1.3  0.6  1.0  1.0\n",
      "0.5  -0.6  0.8  1.5\n"
     ]
    }
   ],
   "source": [
    "D = B - A\n",
    "for line in D:\n",
    "    print(\"  \".join(str(round(n, 2)) for n in line))"
   ]
  },
  {
   "cell_type": "markdown",
   "metadata": {},
   "source": [
    "**4)**"
   ]
  },
  {
   "cell_type": "code",
   "execution_count": 11,
   "metadata": {},
   "outputs": [
    {
     "name": "stdout",
     "output_type": "stream",
     "text": [
      "S_24 = 6.6\n",
      "D_24 = 1.0\n"
     ]
    }
   ],
   "source": [
    "print(f\"S_24 = {S[1][3]}\")\n",
    "print(f\"D_24 = {D[1][3]}\")"
   ]
  },
  {
   "cell_type": "markdown",
   "metadata": {},
   "source": [
    "Se han vendido en total $6.6$ millones de dólares del producto 2 en la región 4 en los dos años.\n",
    "\n",
    "Han aumentado en $1$ millón de dolares la venta del producto 2 en la región 4 en el segundo año con respecto al primer año.\n"
   ]
  },
  {
   "cell_type": "markdown",
   "metadata": {},
   "source": [
    "**5)**"
   ]
  },
  {
   "cell_type": "markdown",
   "metadata": {
    "id": "MdVDj7xheCLm"
   },
   "source": [
    "# Problema 2"
   ]
  },
  {
   "cell_type": "markdown",
   "metadata": {
    "id": "CGrP79UpeM6k"
   },
   "source": [
    "Una fábrica con sucursales en Japón y China, produce tres tipos de componentes $j$, para cinco modelos de computador $i$. Los costos de producción mensual, en miles de dólares, de ambas sucursales se representan en las matrices $J$ y $C$, respectivamente:\n",
    "\n",
    "<br>\n",
    "\n",
    "\\begin{split}\n",
    "J = \\begin{pmatrix}\n",
    " 100 &  200 &  150  \\\\\n",
    " 120 &  210 &  170  \\\\\n",
    " 112 &  200 &  131  \\\\\n",
    " 124 &  310 &  170  \\\\\n",
    " 136 &  156 &  140  \\\\\n",
    "\\end{pmatrix} \\text{ } C = \\begin{pmatrix}\n",
    " 110 &  190 &  160  \\\\\n",
    " 130 &  220 &  180  \\\\\n",
    " 146 &  190 &  141  \\\\\n",
    " 143 &  312 &  163  \\\\\n",
    " 137 &  116 &  156  \\\\\n",
    "\\end{pmatrix}\n",
    "\\end{split}\n",
    "\n",
    "<br>\n",
    "\n",
    "1. ¿Cuál es el orden de las matrices?\n",
    "2. Inteprete el elemento $j_{21}$ y $c_{12}$ en el contexto del problema.\n",
    "3. Utilizando *Python*, calcule el costo total de producción para cada modelo, considerando ambas sucursales.\n",
    "4. Un trabajador indica que, en la sucursal japonesa, el costo de producción del producto $3$, modelo $4$ de computador, es más alto que en la sucursal china. ¿Tiene razón? Justifique apropiadamente."
   ]
  },
  {
   "cell_type": "markdown",
   "metadata": {},
   "source": [
    "# Solución"
   ]
  },
  {
   "cell_type": "code",
   "execution_count": 12,
   "metadata": {},
   "outputs": [],
   "source": [
    "J = np.array([[100, 200, 150],\n",
    "              [120, 210, 170],\n",
    "              [112, 200, 131],\n",
    "              [124, 310, 170],\n",
    "              [136, 156, 140]])\n",
    "\n",
    "C = np.array([[110, 190, 160],\n",
    "              [130, 220, 180],\n",
    "              [146, 190, 141],\n",
    "              [143, 312, 163],\n",
    "              [137, 116, 156]])"
   ]
  },
  {
   "cell_type": "markdown",
   "metadata": {},
   "source": [
    "**1)**"
   ]
  },
  {
   "cell_type": "markdown",
   "metadata": {},
   "source": [
    "El orden de las matrices es $5$ x $3$"
   ]
  },
  {
   "cell_type": "markdown",
   "metadata": {},
   "source": [
    "**2)**"
   ]
  },
  {
   "cell_type": "code",
   "execution_count": 13,
   "metadata": {},
   "outputs": [
    {
     "name": "stdout",
     "output_type": "stream",
     "text": [
      "J_21 = 120\n",
      "J_12 = 190\n"
     ]
    }
   ],
   "source": [
    "print(f\"J_21 = {J[1][0]}\")\n",
    "print(f\"J_12 = {C[0][1]}\")"
   ]
  },
  {
   "cell_type": "markdown",
   "metadata": {},
   "source": [
    "Mensualmente cuesta $120$ mil dólares producir el primer componente del segundo modelo de computador en Japón.\n",
    "\n",
    "Mensualmente cuesta $190$ mil dólares producir el segundo componente del primer modelo de computador en China."
   ]
  },
  {
   "cell_type": "markdown",
   "metadata": {},
   "source": [
    "**3)**"
   ]
  },
  {
   "cell_type": "code",
   "execution_count": 22,
   "metadata": {},
   "outputs": [
    {
     "name": "stdout",
     "output_type": "stream",
     "text": [
      "Suma de J + C: \n",
      "210  390  310\n",
      "250  430  350\n",
      "258  390  272\n",
      "267  622  333\n",
      "273  272  296\n",
      "\n",
      "El costo total del modelo 1 es 910 miles de dólares\n",
      "El costo total del modelo 2 es 1030 miles de dólares\n",
      "El costo total del modelo 3 es 920 miles de dólares\n",
      "El costo total del modelo 4 es 1222 miles de dólares\n",
      "El costo total del modelo 5 es 841 miles de dólares\n"
     ]
    }
   ],
   "source": [
    "S = J + C \n",
    "\n",
    "print(\"Suma de J + C: \")\n",
    "for line in S:\n",
    "    print(\"  \".join(str(n) for n in line))\n",
    "\n",
    "print()\n",
    "for i in range (0,5):\n",
    "    print(f\"El costo total del modelo {i+1} es {sum(S[i])} miles de dólares\")"
   ]
  },
  {
   "cell_type": "markdown",
   "metadata": {},
   "source": [
    "**4)**"
   ]
  },
  {
   "cell_type": "code",
   "execution_count": 23,
   "metadata": {},
   "outputs": [
    {
     "name": "stdout",
     "output_type": "stream",
     "text": [
      "J_43 = 170\n",
      "C_43 = 163\n"
     ]
    }
   ],
   "source": [
    "print(f\"J_43 = {J[3][2]}\")\n",
    "print(f\"C_43 = {C[3][2]}\")"
   ]
  },
  {
   "cell_type": "markdown",
   "metadata": {},
   "source": [
    "El trabajador tiene la razón"
   ]
  },
  {
   "cell_type": "markdown",
   "metadata": {
    "id": "d1kLjxmU8En9"
   },
   "source": [
    "# Problema 3"
   ]
  },
  {
   "cell_type": "markdown",
   "metadata": {
    "id": "kpido2Zy8zg0"
   },
   "source": [
    "La empresa Beta tiene cinco plantas en Chile, y en cada una de ellas fabrica siete productos. El número de unidades del producto $i$ fabricadas en la planta $j$ en una semana está representado en la matriz $C$ en el elemento $c_{ij}$.\n",
    "\n",
    "<br>\n",
    "\n",
    "\\begin{split}\n",
    "C = \\begin{pmatrix}\n",
    " 120 &  200 &  155 &  125  &  230 \\\\\n",
    " 155 &  130 &  110 &  160  &  180 \\\\\n",
    " 140 &  205 &  150 &  125  &  155 \\\\\n",
    " 130 &  120 &  230 &  225  &  125 \\\\\n",
    " 135 &  70  &  190 &  175  &  95  \\\\\n",
    " 110 &  265 &  180 &  230  &  180 \\\\\n",
    " 185 &  85  &  120 &  135  &  150 \\\\\n",
    "\\end{pmatrix}\n",
    "\\end{split}\n",
    "\n",
    "<br>\n",
    "\n",
    "La empresa se expande, creando cinco plantas en Ecuador que producen los mismos siete productos. La producción semanal de esta filial estará representada por una matriz $E$.\n",
    "\n",
    "1. Si se sabe que los volúmenes de producción semanal de la filial en Ecuador son un $20\\%$ menor que en Chile, calcule la matriz $E$ utilizando *Python*.\n",
    "2. Si representamos la producción semanal total de la empresa Beta, considerando ambas filiales, por la matriz $T$, escriba la expresión que calcula cada elemento de la matriz $T$ usando notación matricial.\n",
    "3. Calcule la matriz $T$ utilizando *Python*.\n",
    "4. Interprete los elementos $c_{34}$ y $t_{72}$ en el contexto del problema."
   ]
  },
  {
   "cell_type": "markdown",
   "metadata": {},
   "source": [
    "# Solución"
   ]
  },
  {
   "cell_type": "code",
   "execution_count": 24,
   "metadata": {},
   "outputs": [],
   "source": [
    "C = np.array([[120, 200, 155, 125, 230],\n",
    "              [155, 130, 110, 160, 180],\n",
    "              [140, 205, 150, 125, 155],\n",
    "              [130, 120, 230, 225, 125],\n",
    "              [135, 70, 190, 175, 95],\n",
    "              [110, 265, 180, 230, 180],\n",
    "              [185, 85, 120, 135, 150]])"
   ]
  },
  {
   "cell_type": "markdown",
   "metadata": {},
   "source": [
    "**1)**"
   ]
  },
  {
   "cell_type": "code",
   "execution_count": 28,
   "metadata": {},
   "outputs": [
    {
     "name": "stdout",
     "output_type": "stream",
     "text": [
      " 96 160 124 100 184\n",
      "124 104  88 128 144\n",
      "112 164 120 100 124\n",
      "104  96 184 180 100\n",
      "108  56 152 140  76\n",
      " 88 212 144 184 144\n",
      "148  68  96 108 120\n"
     ]
    }
   ],
   "source": [
    "E = 0.8 * C\n",
    "\n",
    "for line in E:\n",
    "    print(\" \".join(str(round(n)).rjust(3, \" \") for n in line))"
   ]
  },
  {
   "cell_type": "markdown",
   "metadata": {},
   "source": [
    "**2)**"
   ]
  },
  {
   "cell_type": "markdown",
   "metadata": {},
   "source": [
    "$T_{ij} = C_{ij} + E_{ij}$"
   ]
  },
  {
   "cell_type": "markdown",
   "metadata": {},
   "source": [
    "**3)**"
   ]
  },
  {
   "cell_type": "code",
   "execution_count": 30,
   "metadata": {},
   "outputs": [
    {
     "name": "stdout",
     "output_type": "stream",
     "text": [
      "216  360  279  225  414\n",
      "279  234  198  288  324\n",
      "252  369  270  225  279\n",
      "234  216  414  405  225\n",
      "243  126  342  315  171\n",
      "198  477  324  414  324\n",
      "333  153  216  243  270\n"
     ]
    }
   ],
   "source": [
    "T = C + E\n",
    "\n",
    "for line in T:\n",
    "    print(\"  \".join(str(round(n)) for n in line))"
   ]
  },
  {
   "cell_type": "markdown",
   "metadata": {},
   "source": [
    "**4)**"
   ]
  },
  {
   "cell_type": "code",
   "execution_count": 31,
   "metadata": {},
   "outputs": [
    {
     "name": "stdout",
     "output_type": "stream",
     "text": [
      "C_34 = 125\n",
      "T_72 = 153.0\n"
     ]
    }
   ],
   "source": [
    "print(f\"C_34 = {C[2][3]}\")\n",
    "print(f\"T_72 = {T[6][1]}\")"
   ]
  },
  {
   "cell_type": "markdown",
   "metadata": {},
   "source": [
    "En Chile se producen $125$ unidades del producto 3 en la planta 4\n",
    "En total la empresa produce $153$ unidades del producto 7 en la planta 2"
   ]
  },
  {
   "cell_type": "markdown",
   "metadata": {
    "id": "DZh7JytTJKsb"
   },
   "source": [
    "# Problema 4"
   ]
  },
  {
   "cell_type": "markdown",
   "metadata": {
    "id": "biNp7JeIJU2I"
   },
   "source": [
    "Una empresa que fabrica zapatos tiene dos plantas, una en Valparaíso y la otra en Temuco. La empresa produce zapatos de color negro, blanco y café, tanto para niños, damas como caballeros. La capacidad actual de producción mensual (en miles de pares) para Valparaíso y Temuco, están dadas por las matrices $V$ y $T$, respectivamente. Para ambas matrices, según el orden en que se mencionan, las filas corresponden al color del calzado y las columnas al tipo de persona que utilizará el calzado.\n",
    "\n",
    "<br>\n",
    "\n",
    "\\begin{split}\n",
    "V = \\begin{pmatrix}\n",
    " 30 &  34 &  20  \\\\\n",
    " 45 &  20 &  16  \\\\\n",
    " 14 &  26 &  25  \\\\\n",
    "\\end{pmatrix} \\text{ } T = \\begin{pmatrix}\n",
    " 35 &  30 &  26  \\\\\n",
    " 52 &  25 &  18  \\\\\n",
    " 23 &  24 &  32  \\\\\n",
    "\\end{pmatrix}\n",
    "\\end{split}\n",
    "\n",
    "<br>\n",
    "\n",
    "1. Determine la producción mensual total de ambas plantas, representándola en una matriz $A$. Utilice *Python* para resolver.\n",
    "2. Interprete el elemento $a_{21}$ en el contexto del problema.\n",
    "3. Si para el próximo año se estima que la producción en Valparaíso aumenta en un $30\\%$, mientras que la de Temuco se reduce en un $10\\%$, represente la nueva producción total en la matriz $B$.\n",
    "4. Interprete el elemento $b_{13}$ en el contexto del problema."
   ]
  },
  {
   "cell_type": "markdown",
   "metadata": {},
   "source": [
    "# Solución"
   ]
  },
  {
   "cell_type": "code",
   "execution_count": 32,
   "metadata": {},
   "outputs": [],
   "source": [
    "V = np.array([[30, 34, 20],\n",
    "              [45, 20, 16],\n",
    "              [14, 26, 25]])\n",
    "\n",
    "T = np.array([[35, 30, 26],\n",
    "              [52, 25, 18],\n",
    "              [23, 24, 32]])"
   ]
  },
  {
   "cell_type": "markdown",
   "metadata": {},
   "source": [
    "**1)**"
   ]
  },
  {
   "cell_type": "code",
   "execution_count": 36,
   "metadata": {},
   "outputs": [
    {
     "name": "stdout",
     "output_type": "stream",
     "text": [
      "Matriz resultante A:\n",
      "\n",
      "65 64 46\n",
      "97 45 34\n",
      "37 50 57\n"
     ]
    }
   ],
   "source": [
    "A = V + T\n",
    "\n",
    "print(\"Matriz resultante A:\\n\")\n",
    "for line in A:\n",
    "    print(\" \".join(str(n) for n in line))"
   ]
  },
  {
   "cell_type": "markdown",
   "metadata": {},
   "source": [
    "**2)**"
   ]
  },
  {
   "cell_type": "code",
   "execution_count": 37,
   "metadata": {},
   "outputs": [
    {
     "name": "stdout",
     "output_type": "stream",
     "text": [
      "A_21 = 97\n"
     ]
    }
   ],
   "source": [
    "print(f\"A_21 = {A[1][0]}\")"
   ]
  },
  {
   "cell_type": "markdown",
   "metadata": {},
   "source": [
    "La empresa fabrica mensualmente $97$ miles de pares de zapatos blancos para niños entre todas sus plantas."
   ]
  },
  {
   "cell_type": "markdown",
   "metadata": {},
   "source": [
    "**3)**"
   ]
  },
  {
   "cell_type": "code",
   "execution_count": 42,
   "metadata": {},
   "outputs": [
    {
     "name": "stdout",
     "output_type": "stream",
     "text": [
      " 70.5   71.2   49.4\n",
      "105.3   48.5   37.0\n",
      " 38.9   55.4   61.3\n"
     ]
    }
   ],
   "source": [
    "V2 = V * 1.3\n",
    "T2 = T * 0.9\n",
    "\n",
    "B = V2 + T2\n",
    "\n",
    "for line in B:\n",
    "    print(\"  \".join(str(round(n, 2)).rjust(5, \" \") for n in line))"
   ]
  },
  {
   "cell_type": "markdown",
   "metadata": {},
   "source": [
    "**4)**"
   ]
  },
  {
   "cell_type": "code",
   "execution_count": 45,
   "metadata": {},
   "outputs": [
    {
     "name": "stdout",
     "output_type": "stream",
     "text": [
      "B_13 = 49.4\n"
     ]
    }
   ],
   "source": [
    "print(f\"B_13 = {round(B[0][2],2)}\")"
   ]
  },
  {
   "cell_type": "markdown",
   "metadata": {},
   "source": [
    "El próximo año se estima que en total la empresa frabricará $49.4$ miles de pares de zapatos negros para caballeros."
   ]
  },
  {
   "cell_type": "markdown",
   "metadata": {
    "id": "eqY0UgBhQ1PL"
   },
   "source": [
    "# Problema 5"
   ]
  },
  {
   "cell_type": "markdown",
   "metadata": {
    "id": "6W2fcVlyU2Ze"
   },
   "source": [
    "Genere una matriz $M$ de orden $8 \\times 9$ donde cada término de la matriz está definido por:\n",
    "\n",
    "$$m_{ij} = 8i + 12j$$\n",
    "\n",
    "y calcule su transpuesta."
   ]
  },
  {
   "cell_type": "markdown",
   "metadata": {},
   "source": [
    "# Solución"
   ]
  },
  {
   "cell_type": "code",
   "execution_count": 62,
   "metadata": {},
   "outputs": [
    {
     "name": "stdout",
     "output_type": "stream",
     "text": [
      "Matriz M: \n",
      "\n",
      " 20   32   44   56   68   80   92  104  116\n",
      " 28   40   52   64   76   88  100  112  124\n",
      " 36   48   60   72   84   96  108  120  132\n",
      " 44   56   68   80   92  104  116  128  140\n",
      " 52   64   76   88  100  112  124  136  148\n",
      " 60   72   84   96  108  120  132  144  156\n",
      " 68   80   92  104  116  128  140  152  164\n",
      " 76   88  100  112  124  136  148  160  172\n",
      "\n",
      "\n",
      "Matriz M transpuesta: \n",
      "\n",
      " 20   28   36   44   52   60   68   76\n",
      " 32   40   48   56   64   72   80   88\n",
      " 44   52   60   68   76   84   92  100\n",
      " 56   64   72   80   88   96  104  112\n",
      " 68   76   84   92  100  108  116  124\n",
      " 80   88   96  104  112  120  128  136\n",
      " 92  100  108  116  124  132  140  148\n",
      "104  112  120  128  136  144  152  160\n",
      "116  124  132  140  148  156  164  172\n"
     ]
    }
   ],
   "source": [
    "M = np.fromfunction(lambda i,j: 8*(i+1)+ 12* (j+1), (8,9))\n",
    "\n",
    "print(\"Matriz M: \\n\")\n",
    "for line in M:\n",
    "    print(\"  \".join(str(round(n)).rjust(3, \" \") for n in line))\n",
    "\n",
    "MT = M.T\n",
    "\n",
    "print(\"\\n\\nMatriz M transpuesta: \\n\")\n",
    "for line in MT:\n",
    "    print(\"  \".join(str(round(n)).rjust(3, \" \") for n in line))"
   ]
  },
  {
   "cell_type": "markdown",
   "metadata": {
    "id": "GzG5888JV5Yc"
   },
   "source": [
    "# Problema 6"
   ]
  },
  {
   "cell_type": "markdown",
   "metadata": {
    "id": "dHbVKHuLV71S"
   },
   "source": [
    "Genere dos matrices:\n",
    "\n",
    "*   Una matriz $A$ de orden $5 \\times 7$, con $a_{ij} = i \\cdot j.$\n",
    "*   Una matriz $B$ de orden $7 \\times 5$, con $b_{ij} = 15i - 2j.$\n",
    "\n",
    "y calcule $C = A^{T} + \\dfrac{1}{2}B$.\n",
    "\n"
   ]
  },
  {
   "cell_type": "markdown",
   "metadata": {},
   "source": [
    "# Solución"
   ]
  },
  {
   "cell_type": "code",
   "execution_count": 67,
   "metadata": {},
   "outputs": [
    {
     "name": "stdout",
     "output_type": "stream",
     "text": [
      "Matriz A:\n",
      "\n",
      " 1   2   3   4   5   6   7\n",
      " 2   4   6   8  10  12  14\n",
      " 3   6   9  12  15  18  21\n",
      " 4   8  12  16  20  24  28\n",
      " 5  10  15  20  25  30  35\n",
      "\n",
      "\n",
      "\n",
      "Matriz B:\n",
      "\n",
      " 13   11    9    7    5\n",
      " 28   26   24   22   20\n",
      " 43   41   39   37   35\n",
      " 58   56   54   52   50\n",
      " 73   71   69   67   65\n",
      " 88   86   84   82   80\n",
      "103  101   99   97   95\n"
     ]
    }
   ],
   "source": [
    "A = np.fromfunction(lambda i,j: (i+1)*(j+1), (5,7))\n",
    "B = np.fromfunction(lambda i,j: 15*(i+1)- 2*(j+1), (7,5))\n",
    "\n",
    "print(\"Matriz A:\\n\")\n",
    "for line in A:\n",
    "    print(\"  \".join(str(round(n)).rjust(2, \" \") for n in line))\n",
    "\n",
    "print(\"\\n\\n\")\n",
    "\n",
    "print(\"Matriz B:\\n\")\n",
    "for line in B:\n",
    "    print(\"  \".join(str(round(n)).rjust(3, \" \") for n in line))"
   ]
  },
  {
   "cell_type": "code",
   "execution_count": 70,
   "metadata": {},
   "outputs": [
    {
     "name": "stdout",
     "output_type": "stream",
     "text": [
      "Matriz C:\n",
      "\n",
      "  7.5    7.5    7.5    7.5    7.5\n",
      " 16.0   17.0   18.0   19.0   20.0\n",
      " 24.5   26.5   28.5   30.5   32.5\n",
      " 33.0   36.0   39.0   42.0   45.0\n",
      " 41.5   45.5   49.5   53.5   57.5\n",
      " 50.0   55.0   60.0   65.0   70.0\n",
      " 58.5   64.5   70.5   76.5   82.5\n"
     ]
    }
   ],
   "source": [
    "C = A.T + (0.5) * B\n",
    "\n",
    "print(\"Matriz C:\\n\")\n",
    "for line in C:\n",
    "    print(\"  \".join(str(round(n,2)).rjust(5, \" \") for n in line))"
   ]
  },
  {
   "cell_type": "markdown",
   "metadata": {
    "id": "HZJfudDGXjic"
   },
   "source": [
    "# Problema 7"
   ]
  },
  {
   "cell_type": "markdown",
   "metadata": {
    "id": "Z-C9zGeKYQ11"
   },
   "source": [
    "Una red de sensores recoge datos de temperatura ($°C$), humedad (porcentaje) y presión (hPa) en cinco días distintos (de lunes a viernes). Los datos medidos se muestran en la matriz $D$:\n",
    "\n",
    "<br>\n",
    "\n",
    "\\begin{equation*}\n",
    "\\begin{matrix}\n",
    "& \\begin{matrix}\n",
    " & Lu  \\ \\ &Ma \\ \\ &Mi \\ \\ & Ju \\ \\ &Vi\n",
    "\\end{matrix} \\\\\n",
    "&D = \\begin{pmatrix}\n",
    "20    &  28    &  22    &  26     &  24   \\\\\n",
    "52    &  57    &  56    &  54     &  58   \\\\\n",
    "1.066 &  1.068 &  1.066 &  1.064  &  1.068 \\\\\n",
    "\\end{pmatrix} & \\ \\begin{matrix}\n",
    "Cº\\\\\n",
    "\\% \\\\\n",
    "hPa\n",
    "\\end{matrix}\\\\\n",
    "\\end{matrix}\n",
    "\\end{equation*}\n",
    "\n",
    "<br>\n",
    "\n",
    "Se sabe que por un error de calibración de los sensores, las medidas registradas deberían ser un $5\\%$ menores que las registradas.\n",
    "\n",
    "1. Calcule en una matriz $S$ los valores correctos de temperatura, humedad y presión. Utilice *Python* para calcular.\n",
    "2. Obtenga la matriz $S^{T}$.\n",
    "3. Interprete los elementos $s_{24}$ y $s_{31}^{T}$.\n"
   ]
  },
  {
   "cell_type": "markdown",
   "metadata": {},
   "source": [
    "# Solución"
   ]
  },
  {
   "cell_type": "code",
   "execution_count": 71,
   "metadata": {},
   "outputs": [],
   "source": [
    "D = np.array([[20, 28, 22, 26, 24],\n",
    "              [52, 57, 56, 54, 58],\n",
    "              [1066, 1068, 1066, 1064, 1068]])"
   ]
  },
  {
   "cell_type": "markdown",
   "metadata": {},
   "source": [
    "**1)**"
   ]
  },
  {
   "cell_type": "code",
   "execution_count": 77,
   "metadata": {},
   "outputs": [
    {
     "name": "stdout",
     "output_type": "stream",
     "text": [
      "Matriz S: \n",
      "\n",
      "  19.0    26.6    20.9    24.7    22.8\n",
      "  49.4   54.15    53.2    51.3    55.1\n",
      "1012.7  1014.6  1012.7  1010.8  1014.6\n"
     ]
    }
   ],
   "source": [
    "S = 0.95 * D\n",
    "\n",
    "print(\"Matriz S: \\n\")\n",
    "for line in S:\n",
    "    print(\"  \".join(str(round(n,2)).rjust(6, \" \") for n in line))"
   ]
  },
  {
   "cell_type": "markdown",
   "metadata": {},
   "source": [
    "**2)**"
   ]
  },
  {
   "cell_type": "code",
   "execution_count": 83,
   "metadata": {},
   "outputs": [
    {
     "name": "stdout",
     "output_type": "stream",
     "text": [
      "Matriz S transpuesta: \n",
      "\n",
      "  19.0    49.4  1012.7\n",
      "  26.6   54.15  1014.6\n",
      "  20.9    53.2  1012.7\n",
      "  24.7    51.3  1010.8\n",
      "  22.8    55.1  1014.6\n"
     ]
    }
   ],
   "source": [
    "ST = S.T\n",
    "\n",
    "print(\"Matriz S transpuesta: \\n\")\n",
    "\n",
    "for line in ST:\n",
    "    print(\"  \".join(str(round(n,2)).rjust(6, \" \") for n in line))"
   ]
  },
  {
   "cell_type": "markdown",
   "metadata": {},
   "source": [
    "**3)**"
   ]
  },
  {
   "cell_type": "code",
   "execution_count": 84,
   "metadata": {},
   "outputs": [
    {
     "name": "stdout",
     "output_type": "stream",
     "text": [
      "S_24 = 51.3\n",
      "ST_31 = 20.9\n"
     ]
    }
   ],
   "source": [
    "print(f\"S_24 = {S[1][3]}\")\n",
    "print(f\"ST_31 = {ST[2][0]}\")"
   ]
  },
  {
   "cell_type": "markdown",
   "metadata": {},
   "source": [
    "El porcentaje de humedad corregida del día Jueves fue de $51.3\\%$.\n",
    "\n",
    "La temperatura corregida del día Miércoles fue de $20.9 °C$"
   ]
  },
  {
   "cell_type": "markdown",
   "metadata": {
    "id": "9py029xQlSq6"
   },
   "source": [
    "# Problema 8"
   ]
  },
  {
   "cell_type": "markdown",
   "metadata": {
    "id": "icNvmShQmtrx"
   },
   "source": [
    "Una empresa tecnológica vende software y hardware en tres productos: $P_{1}$, $P_{2}$ y $P_{3}$, en cuatro zonas de la capital: norte, sur, este y oeste. Las ventas del mes, en millones de pesos, están registradas en las matrices $S$ y $H$, para software y hardware respectivamente.\n",
    "\n",
    "<br>\n",
    "\n",
    "\\begin{split}\n",
    "S = \\begin{pmatrix}\n",
    " 260 &  480 &  180  &  90  \\\\\n",
    " 320 &  440 &  250  &  280 \\\\\n",
    " 240 &  360 &  380  &  250  \\\\\n",
    "\\end{pmatrix} \\text{ } H = \\begin{pmatrix}\n",
    " 360 &  250 &  300  &  250  \\\\\n",
    " 450 &  500 &  350  &  380 \\\\\n",
    " 290 &  300 &  460  &  400  \\\\\n",
    "\\end{pmatrix}\n",
    "\\end{split}\n",
    "\n",
    "<br>\n",
    "\n",
    "1. Calcule en la matriz $T$, del total de ventas de la empresa tecnológica.\n",
    "2. Un trabajador indica que este mes, la sucursal de la zona sur recaudó más por la venta hardware que software, ¿es correcta su afirmación?\n",
    "3. Debido al black friday se espera que el siguiente mes, las ventas de software aumenten un $7\\%$ y las de hardware aumenten un $3\\%$ respecto al mes actual. Encuentra en total de ventas esperadas para el siguiente mes y almacénalo en la matriz $M$. Utiliza *Python* para realizar los cálculos.\n",
    "4. Interpreta los elementos $t_{24}$ y $m_{31}$ en el contexto del problema.\n",
    "5. Calcula la matriz $M^{T}$ e interpreta el elemento $m_{41}^{T}$ en el contexto del problema.\n"
   ]
  },
  {
   "cell_type": "markdown",
   "metadata": {},
   "source": [
    "# Solución"
   ]
  },
  {
   "cell_type": "code",
   "execution_count": 85,
   "metadata": {},
   "outputs": [],
   "source": [
    "S = np.array([[260, 480, 180, 90],\n",
    "              [320, 440, 250, 280],\n",
    "              [240, 360, 380, 250]])\n",
    "\n",
    "H = np.array([[360, 250, 300, 250],\n",
    "              [450, 500, 350, 380],\n",
    "              [290, 300, 460, 400]])"
   ]
  },
  {
   "cell_type": "markdown",
   "metadata": {},
   "source": [
    "**1)**"
   ]
  },
  {
   "cell_type": "code",
   "execution_count": 86,
   "metadata": {},
   "outputs": [
    {
     "name": "stdout",
     "output_type": "stream",
     "text": [
      "Matriz T:\n",
      "\n",
      "620  730  480  340\n",
      "770  940  600  660\n",
      "530  660  840  650\n"
     ]
    }
   ],
   "source": [
    "T = S + H\n",
    "print(\"Matriz T:\\n\")\n",
    "\n",
    "for line in T:\n",
    "    print(\"  \".join(str(round(n)) for n in line))"
   ]
  },
  {
   "cell_type": "markdown",
   "metadata": {},
   "source": [
    "**2)**"
   ]
  },
  {
   "cell_type": "code",
   "execution_count": 89,
   "metadata": {},
   "outputs": [
    {
     "name": "stdout",
     "output_type": "stream",
     "text": [
      "Las ventas totales de software de la zona sur es 1280 millones de pesos\n",
      "Las ventas totales de hardware de la zona sur es 1050 millones de pesos\n"
     ]
    }
   ],
   "source": [
    "sur_software = 0\n",
    "for i in range(0,3):\n",
    "    sur_software += S[i][1]\n",
    "\n",
    "sur_hardware = 0\n",
    "for i in range(0,3):\n",
    "    sur_hardware += H[i][1]\n",
    "\n",
    "print(f\"Las ventas totales de software de la zona sur es {sur_software} millones de pesos\")\n",
    "print(f\"Las ventas totales de hardware de la zona sur es {sur_hardware} millones de pesos\")"
   ]
  },
  {
   "cell_type": "markdown",
   "metadata": {},
   "source": [
    "El trabajador está equivocado."
   ]
  },
  {
   "cell_type": "markdown",
   "metadata": {},
   "source": [
    "**3)**"
   ]
  },
  {
   "cell_type": "code",
   "execution_count": 94,
   "metadata": {},
   "outputs": [
    {
     "name": "stdout",
     "output_type": "stream",
     "text": [
      "Matriz M: \n",
      "\n",
      "649.0  771.1  501.6  353.8\n",
      "805.9  985.8  628.0  691.0\n",
      "555.5  694.2  880.4  679.5\n"
     ]
    }
   ],
   "source": [
    "M = 1.07 * S + 1.03 * H\n",
    "\n",
    "print(\"Matriz M: \\n\")\n",
    "for line in M:\n",
    "    print(\"  \".join(str(round(n,2)) for n in line))"
   ]
  },
  {
   "cell_type": "markdown",
   "metadata": {},
   "source": [
    "**4)**"
   ]
  },
  {
   "cell_type": "code",
   "execution_count": 95,
   "metadata": {},
   "outputs": [
    {
     "name": "stdout",
     "output_type": "stream",
     "text": [
      "T_24 = 660\n",
      "M_31 = 555.5\n"
     ]
    }
   ],
   "source": [
    "print(f\"T_24 = {T[1][3]}\")\n",
    "print(f\"M_31 = {M[2][0]}\")"
   ]
  },
  {
   "cell_type": "markdown",
   "metadata": {},
   "source": [
    "El total de ventas de este mes del producto 2 en la zona oeste es de $660$ millones de pesos.\n",
    "\n",
    "Se espera que se vendan $555.5$ millones de pesos del producto 3 en la zona norte."
   ]
  },
  {
   "cell_type": "markdown",
   "metadata": {},
   "source": [
    "**5)**"
   ]
  },
  {
   "cell_type": "code",
   "execution_count": 99,
   "metadata": {},
   "outputs": [
    {
     "name": "stdout",
     "output_type": "stream",
     "text": [
      "Matriz M tranpuesta: \n",
      "\n",
      "649.0  805.9  555.5\n",
      "771.1  985.8  694.2\n",
      "501.6  628.0  880.4\n",
      "353.8  691.0  679.5\n",
      "\n",
      "\n",
      "MT_41 = 353.8\n"
     ]
    }
   ],
   "source": [
    "MT = M.T\n",
    "\n",
    "print(\"Matriz M tranpuesta: \\n\")\n",
    "for line in MT:\n",
    "    print(\"  \".join(str(round(n,2)) for n in line))\n",
    "\n",
    "print(\"\\n\")\n",
    "print(f\"MT_41 = {MT[3][0]}\")"
   ]
  },
  {
   "cell_type": "markdown",
   "metadata": {},
   "source": [
    "Se proyecta que se vendan $353.8$ millones de pesos del producto 1 en la zona oeste."
   ]
  }
 ],
 "metadata": {
  "colab": {
   "provenance": [],
   "toc_visible": true
  },
  "kernelspec": {
   "display_name": "Python 3",
   "name": "python3"
  },
  "language_info": {
   "codemirror_mode": {
    "name": "ipython",
    "version": 3
   },
   "file_extension": ".py",
   "mimetype": "text/x-python",
   "name": "python",
   "nbconvert_exporter": "python",
   "pygments_lexer": "ipython3",
   "version": "3.12.3"
  }
 },
 "nbformat": 4,
 "nbformat_minor": 0
}
