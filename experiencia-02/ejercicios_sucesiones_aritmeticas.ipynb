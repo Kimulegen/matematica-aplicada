{
 "cells": [
  {
   "cell_type": "markdown",
   "metadata": {},
   "source": [
    "# Problema 1"
   ]
  },
  {
   "cell_type": "markdown",
   "metadata": {},
   "source": [
    "Considere la sucesión aritmética $5$, $11$, $17$, ...\n",
    "\n",
    "a) Calcule la suma de los $200$ primeros términos.\n",
    "\n",
    "b) ¿Qué lugar ocupa el número $3.305$?"
   ]
  },
  {
   "cell_type": "markdown",
   "metadata": {},
   "source": [
    "# Solución"
   ]
  },
  {
   "cell_type": "markdown",
   "metadata": {},
   "source": [
    "$a_1 = 5$ y $d = 11 - 5 = 6$"
   ]
  },
  {
   "cell_type": "code",
   "execution_count": 1,
   "metadata": {},
   "outputs": [],
   "source": [
    "a_1 = 5\n",
    "d = 6\n",
    "def a(n):\n",
    "   return a_1 + d * (n - 1)"
   ]
  },
  {
   "cell_type": "markdown",
   "metadata": {},
   "source": [
    "**a)**"
   ]
  },
  {
   "cell_type": "code",
   "execution_count": 2,
   "metadata": {},
   "outputs": [
    {
     "name": "stdout",
     "output_type": "stream",
     "text": [
      "La suma de los 200 primeros tiempos es 120400\n"
     ]
    }
   ],
   "source": [
    "suma = 0\n",
    "for i in range(1, 201):\n",
    "   suma += a(i)\n",
    "\n",
    "print(f\"La suma de los 200 primeros tiempos es {suma}\")"
   ]
  },
  {
   "cell_type": "markdown",
   "metadata": {},
   "source": [
    "**b)**"
   ]
  },
  {
   "cell_type": "code",
   "execution_count": 3,
   "metadata": {},
   "outputs": [
    {
     "name": "stdout",
     "output_type": "stream",
     "text": [
      "3305 se encuentra en la posición 551\n"
     ]
    }
   ],
   "source": [
    "n = 1\n",
    "a_n = 3305\n",
    "\n",
    "while a(n) <= a_n:\n",
    "   if a(n) == a_n:\n",
    "      print(f\"{a_n} se encuentra en la posición {n}\")\n",
    "      break\n",
    "   n += 1\n",
    "else:\n",
    "   print(f\"{a_n} no se encuentra en la sucesión\")"
   ]
  },
  {
   "cell_type": "markdown",
   "metadata": {},
   "source": [
    "# Problema 2"
   ]
  },
  {
   "cell_type": "markdown",
   "metadata": {},
   "source": [
    "Considere la sucesión aritmética $25,72$; $26,93$; $28,14$; ... Determine:\n",
    "\n",
    "a) La uma de los 100 primeros términos.\n",
    "\n",
    "b) El término del lugar 50."
   ]
  },
  {
   "cell_type": "markdown",
   "metadata": {},
   "source": [
    "# Solución"
   ]
  },
  {
   "cell_type": "markdown",
   "metadata": {},
   "source": [
    "$a_1 = 25,72$ y $d = 26,93 - 25,72 = 1,21$"
   ]
  },
  {
   "cell_type": "code",
   "execution_count": 7,
   "metadata": {},
   "outputs": [],
   "source": [
    "a_1 = 25.72\n",
    "d = 1.21\n",
    "\n",
    "def a(n):\n",
    "   return a_1 + d * (n - 1)"
   ]
  },
  {
   "cell_type": "markdown",
   "metadata": {},
   "source": [
    "**a)**"
   ]
  },
  {
   "cell_type": "code",
   "execution_count": 8,
   "metadata": {},
   "outputs": [
    {
     "name": "stdout",
     "output_type": "stream",
     "text": [
      "La suma de los 100 primeros términos es 8561.5\n"
     ]
    }
   ],
   "source": [
    "suma = 0\n",
    "for i in range(1,101):\n",
    "   suma += a(i)\n",
    "\n",
    "print(f\"La suma de los 100 primeros términos es {suma}\")"
   ]
  },
  {
   "cell_type": "markdown",
   "metadata": {},
   "source": [
    "**b)**"
   ]
  },
  {
   "cell_type": "code",
   "execution_count": 10,
   "metadata": {},
   "outputs": [
    {
     "name": "stdout",
     "output_type": "stream",
     "text": [
      "El término del lugar 50 es 85.01\n"
     ]
    }
   ],
   "source": [
    "print(f\"El término del lugar 50 es {a(50):.2f}\")"
   ]
  },
  {
   "cell_type": "markdown",
   "metadata": {},
   "source": [
    "# Problema 3"
   ]
  },
  {
   "cell_type": "markdown",
   "metadata": {},
   "source": [
    "En una sucesión aritmética la diferencia es $4$ y el décimo término es $-20$. Determine:\n",
    "\n",
    "a) El primer término.\n",
    "\n",
    "b) La suma de los 50 primero términos"
   ]
  },
  {
   "cell_type": "markdown",
   "metadata": {},
   "source": [
    "# Solución"
   ]
  },
  {
   "cell_type": "markdown",
   "metadata": {},
   "source": [
    "**a)**"
   ]
  },
  {
   "cell_type": "markdown",
   "metadata": {},
   "source": [
    "$a_{10} = -20$ y $d = 4$.\n",
    "\n",
    "$$\n",
    "\\begin{array}{l}\n",
    "-20 = a_1 + 4 \\cdot (10 - 1) \\\\\n",
    "-20 = a_1 + 36 \\\\ \n",
    "a_1 = -56\n",
    "\\end{array}\n",
    "$$"
   ]
  },
  {
   "cell_type": "markdown",
   "metadata": {},
   "source": [
    "**b)**"
   ]
  },
  {
   "cell_type": "code",
   "execution_count": 4,
   "metadata": {},
   "outputs": [],
   "source": [
    "a_1 = -56\n",
    "d = 4\n",
    "\n",
    "def a(n):\n",
    "   return a_1 + d * (n - 1) "
   ]
  },
  {
   "cell_type": "code",
   "execution_count": 5,
   "metadata": {},
   "outputs": [
    {
     "name": "stdout",
     "output_type": "stream",
     "text": [
      "La suma de los 50 primeros términos es 2100\n"
     ]
    }
   ],
   "source": [
    "suma = 0\n",
    "for i in range(1,51):\n",
    "   suma += a(i)\n",
    "\n",
    "print(f\"La suma de los 50 primeros términos es {suma}\")"
   ]
  },
  {
   "cell_type": "markdown",
   "metadata": {},
   "source": [
    "# Problema 4"
   ]
  },
  {
   "cell_type": "markdown",
   "metadata": {},
   "source": [
    "En una sucesión aritmética el segundo término es 22 y el término del lugar 51 es 46,5. Determine el primer término y la diferencia."
   ]
  },
  {
   "cell_type": "markdown",
   "metadata": {},
   "source": [
    "# Solución"
   ]
  },
  {
   "cell_type": "markdown",
   "metadata": {},
   "source": [
    "$a_{2} = 22$ y $a_{51} = 46,5$\n",
    "\n",
    "Calculando $d$:\n",
    "$$\n",
    "\\begin{cases}\n",
    "22 = a_1 + d \\\\\n",
    "46,5 = a_1 + 50d \\\\\n",
    "\\end{cases}\n",
    "$$\n",
    "\n",
    "$$\n",
    "\\begin{array}{l}\n",
    "46,5 - 22 = 49d \\\\\n",
    "d = 0.5\n",
    "\\end{array}\n",
    "$$\n",
    "\n",
    "Calculando $a_1$:\n",
    "$$\n",
    "\\begin{array}{l}\n",
    "22 = a_1 + 0,5 \\\\\n",
    "a_1 = 21,5\n",
    "\\end{array}\n",
    "$$"
   ]
  },
  {
   "cell_type": "markdown",
   "metadata": {},
   "source": [
    "# Problema 5"
   ]
  },
  {
   "cell_type": "markdown",
   "metadata": {},
   "source": [
    "En una sucesión aritmética el cuarto término es 64 y el término del lugar 54 es -61. Determine el vigésimo tercer término."
   ]
  },
  {
   "cell_type": "markdown",
   "metadata": {},
   "source": [
    "# Solución"
   ]
  },
  {
   "cell_type": "markdown",
   "metadata": {},
   "source": [
    "Calculando $d$:\n",
    "\n",
    "$$\n",
    "\\begin{array}{l}\n",
    "d = \\frac{-61-64}{54-4} \\\\\n",
    "d = -2,5\n",
    "\\end{array}\n",
    "$$\n",
    "\n",
    "\n",
    "Calculando $a_1$:\n",
    "$$\n",
    "\\begin{array}{l}\n",
    "64 = a_1 + 3d \\\\\n",
    "64 = a_1 - 7,5 \\\\\n",
    "a_1 = 71,5\n",
    "\\end{array}\n",
    "$$"
   ]
  },
  {
   "cell_type": "code",
   "execution_count": 19,
   "metadata": {},
   "outputs": [
    {
     "name": "stdout",
     "output_type": "stream",
     "text": [
      "El vigésimo tercer término es 16.5\n"
     ]
    }
   ],
   "source": [
    "a_1 = 71.5\n",
    "d = -2.5\n",
    "\n",
    "def a(n):\n",
    "   return a_1 + d * (n - 1)\n",
    "\n",
    "print(f\"El vigésimo tercer término es {a(23)}\")"
   ]
  },
  {
   "cell_type": "markdown",
   "metadata": {},
   "source": [
    "# Problema 6"
   ]
  },
  {
   "cell_type": "markdown",
   "metadata": {},
   "source": [
    "En una sucesión aritmética, la suma de los 15 primeros términos es 600 y la diferencia es 5. Calcule el primer término."
   ]
  },
  {
   "cell_type": "markdown",
   "metadata": {},
   "source": [
    "# Solución"
   ]
  },
  {
   "cell_type": "markdown",
   "metadata": {},
   "source": [
    "En una sucesión aritmética, la suma de los primeros $n$ términos se puede calcular usando la fórmula:\n",
    "$$S_n = \\frac{n}{2} \\cdot (2a_1 + (n-1) \\cdot d)$$"
   ]
  },
  {
   "cell_type": "markdown",
   "metadata": {},
   "source": [
    "$a_1 + a_2 + a_3 + ... a_{15} = 600$ y $d = 15$.\n",
    "\n",
    "$$\n",
    "\\begin{array}{l}\n",
    "\\sum_{i=1}^{15}{a_1 + 5 \\cdot (i - 1)} = 600 \\\\ \\\\\n",
    "\\sum_{i=1}^{15}a_1 + \\sum_{i=1}^{15} {5 \\cdot (i - 1)} = 600 \\\\ \\\\\n",
    "15 \\cdot a_1 + \\sum_{i=1}^{15} {5 \\cdot (i - 1)} = 600 \\\\ \\\\\n",
    "15 a_1 + 5 \\cdot \\sum_{i=1}^{15}{i-1} = 600 \\\\ \\\\\n",
    "15 a_1 + 5 \\cdot \\frac{14 \\cdot 15}{2} = 600 \\\\ \\\\\n",
    "15 a_1 + 4 \\cdot 105 = 600 \\\\ \\\\\n",
    "15 a_1 + 525 = 600 \\\\ \\\\\n",
    "15 a_1 = 75 \\\\ \\\\\n",
    "a_1 = 5\n",
    "\\end{array}\n",
    "$$\n"
   ]
  },
  {
   "cell_type": "markdown",
   "metadata": {},
   "source": [
    "# Problema 7"
   ]
  },
  {
   "cell_type": "markdown",
   "metadata": {},
   "source": [
    "En una sucesión aritmética, la suma de los $100$ primeros términos es 9.625.000 y el término de lugar $15$ es $43.000$. Determine:\n",
    "\n",
    "a) El término de lugar $10$.\n",
    "\n",
    "b) La suma de los $50$ primeros términos."
   ]
  },
  {
   "cell_type": "markdown",
   "metadata": {},
   "source": [
    "# Solución"
   ]
  },
  {
   "cell_type": "markdown",
   "metadata": {},
   "source": [
    "En una sucesión aritmética, la suma de los primeros $n$ términos se puede calcular usando la fórmula:\n",
    "$$S_n = \\frac{n}{2} \\cdot (2a_1 + (n-1) \\cdot d)$$\n",
    "\n",
    "Calculando $a_1$:\n",
    "$$\\begin{array}{l}\n",
    "\\frac{100}{2} \\cdot (2\\cdot a_1 + (100 - 1) \\cdot d) = 9.625.000 \\\\ \\\\\n",
    "2 \\cdot a_1 + 99 \\cdot d = 192.500 \\\\ \\\\\n",
    "a_1 = \\frac{192.500 - 99d}{2}\n",
    "\\end{array}$$\n",
    "\n",
    "\n",
    "Reemplazando en $a_15$:\n",
    "$$\\begin{array}{l}\n",
    "43.000 = a_1 + 14d \\\\ \\\\\n",
    "43.000 = \\frac{192.500 - 99d}{2} + 14d \\\\ \\\\\n",
    "86.000 = 192.500 - 99d + 28d \\\\ \\\\\n",
    "-106.500 = -71d \\\\ \\\\\n",
    "d = 1.500\n",
    "\\end{array}$$\n",
    "\n",
    "y \n",
    "\n",
    "$$\\begin{array}{l}\n",
    "a_1 = \\frac{192.500 - 99 \\cdot 1.500}{2} \\\\ \\\\\n",
    "a_1 = 22.000\n",
    "\\end{array}$$"
   ]
  },
  {
   "cell_type": "code",
   "execution_count": 1,
   "metadata": {},
   "outputs": [],
   "source": [
    "a_1 = 22000\n",
    "d = 1500\n",
    "\n",
    "def a(n):\n",
    "   return a_1 + d * (n - 1)"
   ]
  },
  {
   "cell_type": "markdown",
   "metadata": {},
   "source": [
    "**a)**"
   ]
  },
  {
   "cell_type": "code",
   "execution_count": 2,
   "metadata": {},
   "outputs": [
    {
     "name": "stdout",
     "output_type": "stream",
     "text": [
      "El término del lugar 10 es 35500\n"
     ]
    }
   ],
   "source": [
    "print(f\"El término del lugar 10 es {a(10)}\")"
   ]
  },
  {
   "cell_type": "markdown",
   "metadata": {},
   "source": [
    "**2)**"
   ]
  },
  {
   "cell_type": "code",
   "execution_count": 4,
   "metadata": {},
   "outputs": [
    {
     "name": "stdout",
     "output_type": "stream",
     "text": [
      "La suma de los 50 primeros términos es 2_937_500\n"
     ]
    }
   ],
   "source": [
    "suma = 0\n",
    "for i in range(1, 51):\n",
    "   suma += a(i)\n",
    "\n",
    "print(f\"La suma de los 50 primeros términos es {suma:_}\")"
   ]
  },
  {
   "cell_type": "markdown",
   "metadata": {},
   "source": [
    "# Problema 8"
   ]
  },
  {
   "cell_type": "markdown",
   "metadata": {},
   "source": [
    "Un constructor quiere hacer una pirámide de ladrillos, para ello parte de una base de $270$ ladrillos. Si cada fila tiene un ladrillo menos que la fila anterior, determine:\n",
    "\n",
    "a) ¿Cuántos ladrillos tiene la fila número 81?\n",
    "\n",
    "b) Se sabe que la pirámide tiene $270$ filas. ¿Cuántos ladrillos necesita en total el constructor para construir la pirámide?"
   ]
  },
  {
   "cell_type": "markdown",
   "metadata": {},
   "source": [
    "# Solución"
   ]
  },
  {
   "cell_type": "markdown",
   "metadata": {},
   "source": [
    "$a_1 = 270$ y $d = -1$:\n",
    "\n",
    "$a_n = 270 - (n - 1)$"
   ]
  },
  {
   "cell_type": "code",
   "execution_count": 6,
   "metadata": {},
   "outputs": [],
   "source": [
    "a_1 = 270\n",
    "d = -1\n",
    "\n",
    "def a(n):\n",
    "   return a_1 + d * (n - 1)"
   ]
  },
  {
   "cell_type": "markdown",
   "metadata": {},
   "source": [
    "**a)**"
   ]
  },
  {
   "cell_type": "code",
   "execution_count": 7,
   "metadata": {},
   "outputs": [
    {
     "name": "stdout",
     "output_type": "stream",
     "text": [
      "La fila número 81 tiene 190 ladrillos\n"
     ]
    }
   ],
   "source": [
    "print(f\"La fila número 81 tiene {a(81)} ladrillos\")"
   ]
  },
  {
   "cell_type": "markdown",
   "metadata": {},
   "source": [
    "**b)**"
   ]
  },
  {
   "cell_type": "code",
   "execution_count": 8,
   "metadata": {},
   "outputs": [
    {
     "name": "stdout",
     "output_type": "stream",
     "text": [
      "Se necesitan 36585 ladrillos para construir la pirámide\n"
     ]
    }
   ],
   "source": [
    "suma = 0\n",
    "for i in range(1, 271):\n",
    "   suma += a(i)\n",
    "\n",
    "print(f\"Se necesitan {suma} ladrillos para construir la pirámide\")"
   ]
  },
  {
   "cell_type": "markdown",
   "metadata": {},
   "source": [
    "# Problema 9"
   ]
  },
  {
   "cell_type": "markdown",
   "metadata": {},
   "source": [
    "En una colonia de abejas, en el primer día de investigación, alumnos de Ingeniería Agrícola contabilizaron 3 abejas, el segundo día contabilizaron 9 y el tercero 15. Si la cantidad de abejas se fue incrementando de manera constante, responda:\n",
    "\n",
    "a) ¿Cuántas abejas había el vigésimo día?\n",
    "\n",
    "b) ¿Cuántas abejas había a los 30 días?"
   ]
  },
  {
   "cell_type": "markdown",
   "metadata": {},
   "source": [
    "# Solución"
   ]
  },
  {
   "cell_type": "markdown",
   "metadata": {},
   "source": [
    "$a_1 = 3$ y $d = 9 - 3 = 6$"
   ]
  },
  {
   "cell_type": "code",
   "execution_count": 9,
   "metadata": {},
   "outputs": [],
   "source": [
    "a_1 = 3\n",
    "d = 6\n",
    "\n",
    "def a(n): \n",
    "   return a_1 + d * (n - 1)"
   ]
  },
  {
   "cell_type": "markdown",
   "metadata": {},
   "source": [
    "**a)**"
   ]
  },
  {
   "cell_type": "code",
   "execution_count": 10,
   "metadata": {},
   "outputs": [
    {
     "name": "stdout",
     "output_type": "stream",
     "text": [
      "Habían 117 abejas el vigésimo día\n"
     ]
    }
   ],
   "source": [
    "print(f\"Habían {a(20)} abejas el vigésimo día\")"
   ]
  },
  {
   "cell_type": "markdown",
   "metadata": {},
   "source": [
    "**b)**"
   ]
  },
  {
   "cell_type": "code",
   "execution_count": 11,
   "metadata": {},
   "outputs": [
    {
     "name": "stdout",
     "output_type": "stream",
     "text": [
      "Habían 177 abejas a los 30 días\n"
     ]
    }
   ],
   "source": [
    "print(f\"Habían {a(30)} abejas a los 30 días\")"
   ]
  },
  {
   "cell_type": "markdown",
   "metadata": {},
   "source": [
    "# Problema 10"
   ]
  },
  {
   "cell_type": "markdown",
   "metadata": {},
   "source": [
    "Un electricista tiene un contrato por un sueldo fijo de $\\$500.000$ y le ofrecen $\\$2.000$ de aumento mensual desde el siguiente mes de ser contratado (a modo de incentivo para que no se cambie de empresa).\n",
    "\n",
    "a) ¿Cuál será su sueldo, durente el vigésimo mes de trabajar en esa empresa?\n",
    "\n",
    "b) ¿Cuál será el total de dinero recibido en $22$ meses de trabajo en la misma empresa?"
   ]
  },
  {
   "cell_type": "markdown",
   "metadata": {},
   "source": [
    "# Solución"
   ]
  },
  {
   "cell_type": "markdown",
   "metadata": {},
   "source": [
    "$a_1 = 500.000$ y $d = 2.000$"
   ]
  },
  {
   "cell_type": "code",
   "execution_count": 13,
   "metadata": {},
   "outputs": [],
   "source": [
    "a_1 = 500000\n",
    "d = 2000\n",
    "\n",
    "def a(n):\n",
    "   return a_1 + d * (n - 1)"
   ]
  },
  {
   "cell_type": "markdown",
   "metadata": {},
   "source": [
    "**a)**"
   ]
  },
  {
   "cell_type": "code",
   "execution_count": 14,
   "metadata": {},
   "outputs": [
    {
     "name": "stdout",
     "output_type": "stream",
     "text": [
      "Durante el vigésimo mes su sueldo será de $538_000\n"
     ]
    }
   ],
   "source": [
    "print(f\"Durante el vigésimo mes su sueldo será de ${a(20):_}\")"
   ]
  },
  {
   "cell_type": "markdown",
   "metadata": {},
   "source": [
    "**b)**"
   ]
  },
  {
   "cell_type": "code",
   "execution_count": 15,
   "metadata": {},
   "outputs": [
    {
     "name": "stdout",
     "output_type": "stream",
     "text": [
      "El total de dinero recibido en 22 meses de trabajo es de $11_462_000\n"
     ]
    }
   ],
   "source": [
    "suma = 0\n",
    "for i in range(1,23):\n",
    "   suma += a(i)\n",
    "\n",
    "print(f\"El total de dinero recibido en 22 meses de trabajo es de ${suma:_}\")"
   ]
  },
  {
   "cell_type": "markdown",
   "metadata": {},
   "source": [
    "# Problema 11"
   ]
  },
  {
   "cell_type": "markdown",
   "metadata": {},
   "source": [
    "Se reparte un bono de Navidad a los $10$ mejores vendedores de una empresa. Se sabe que, a mayor venta mayor bono, y que la diferencia entre $2$ bonos consecutivos es siempre constante. Además, el primer vendedor recibe el menor bono y el décimo vendedor recibe el mayor bono. Si el tercer vendedor recibe un bono de $\\$200.000$ y el séptimo vendedor recibe $\\$300.000$, ¿Cuánto recibe el mejor vendedor?"
   ]
  },
  {
   "cell_type": "markdown",
   "metadata": {},
   "source": [
    "# Solución"
   ]
  },
  {
   "cell_type": "markdown",
   "metadata": {},
   "source": [
    "Calculando $d$:\n",
    "\n",
    "$d = \\frac{300.000 - 200.000}{7-3} = \\frac{100.000}{4} = 25.000$\n",
    "\n",
    "Calculando $a_1$:\n",
    "\n",
    "$$\\begin{array}{l}\n",
    "300.000 = a_1 + 25.000 \\cdot (7 - 1) \\\\ \\\\\n",
    "a_1 = 150.000\n",
    "\\end{array}$$"
   ]
  },
  {
   "cell_type": "code",
   "execution_count": 1,
   "metadata": {},
   "outputs": [],
   "source": [
    "a_1 = 150000\n",
    "d = 25000\n",
    "\n",
    "def a(n):\n",
    "   return a_1 + d * (n - 1)"
   ]
  },
  {
   "cell_type": "code",
   "execution_count": 2,
   "metadata": {},
   "outputs": [
    {
     "name": "stdout",
     "output_type": "stream",
     "text": [
      "El mejor vendedor recibe 375000\n"
     ]
    }
   ],
   "source": [
    "print(f\"El mejor vendedor recibe {a(10)}\")"
   ]
  },
  {
   "cell_type": "markdown",
   "metadata": {},
   "source": [
    "# Problema 12"
   ]
  },
  {
   "cell_type": "markdown",
   "metadata": {},
   "source": [
    "Una casa se arrienda por $2$ años, considerenado que durante este período el arriendo se incrementará todos los meses en una cantidad constante. Si el quinto mes de arriendo se pagará $\\$204.000$ y el décimo tercer mes $\\$252.000$, ¿Cuál será el valor del arriendo del primer y último mes?"
   ]
  },
  {
   "cell_type": "markdown",
   "metadata": {},
   "source": [
    "# Solución"
   ]
  },
  {
   "cell_type": "markdown",
   "metadata": {},
   "source": [
    "$a_5 = \\$204.000$ y $a_{13} = \\$252.000$\n",
    "\n",
    "Calculando $d$:\n",
    "$$\n",
    "\\begin{array}{l}\n",
    "d = \\frac{252.000 - 204.000}{13 - 5} \\\\ \\\\\n",
    "d = 6.000\n",
    "\\end{array}$$"
   ]
  },
  {
   "cell_type": "markdown",
   "metadata": {},
   "source": [
    "Calculando $a_1$\n",
    "$$\\begin{array}{l}\n",
    "204.000 = a_1 + 6.000 \\cdot (5 - 1) \\\\ \\\\\n",
    "a_1 = 180.000\n",
    "\\end{array}$$"
   ]
  },
  {
   "cell_type": "code",
   "execution_count": 3,
   "metadata": {},
   "outputs": [],
   "source": [
    "a_1 = 180000\n",
    "d = 6000\n",
    "\n",
    "def a(n):\n",
    "   return a_1 + d * (n - 1)"
   ]
  },
  {
   "cell_type": "code",
   "execution_count": 7,
   "metadata": {},
   "outputs": [
    {
     "name": "stdout",
     "output_type": "stream",
     "text": [
      "El valor del arriendo del primer mes es $180_000\n",
      "El valor del arriendo del último mes es $318_000\n"
     ]
    }
   ],
   "source": [
    "print(f\"El valor del arriendo del primer mes es ${a(1):_}\")\n",
    "print(f\"El valor del arriendo del último mes es ${a(24):_}\")"
   ]
  },
  {
   "cell_type": "markdown",
   "metadata": {},
   "source": [
    "# Problema 13"
   ]
  },
  {
   "cell_type": "markdown",
   "metadata": {},
   "source": [
    "Un nuevo consultorio de salud comenzó a atender el primero de septiembre del año pasado. El $3$ de septiembre fueron atendidos $175$ pacientes y el $11$ de septiembre $535$ pacientes. Los encargados del consultorio notaron que la cantidad de pacientes atendidos aumentaba día a día en forma constante. ¿Cuántos pacientes fueron atendidos el 26 de septiembre?"
   ]
  },
  {
   "cell_type": "markdown",
   "metadata": {},
   "source": [
    "$a_3 = 175$ y $a_{11} = 535$\n",
    "\n",
    "Calculando $d$:\n",
    "$$\\begin{array}{l}\n",
    "d = \\frac{535 - 175}{11 - 3} \\\\ \\\\\n",
    "d = 45\n",
    "\\end{array}$$\n",
    "\n",
    "Calculando $a_1$\n",
    "$$\\begin{array}{l}\n",
    "175 = a_1 + 45 * (3 - 1) \\\\ \\\\\n",
    "175 = a_1 + 90 \\\\ \\\\\n",
    "a_1 = 90\n",
    "\\end{array}$$"
   ]
  },
  {
   "cell_type": "code",
   "execution_count": 8,
   "metadata": {},
   "outputs": [],
   "source": [
    "a_1 = 90\n",
    "d = 45 \n",
    "\n",
    "def a(n):\n",
    "   return a_1 + d * (n - 1)"
   ]
  },
  {
   "cell_type": "code",
   "execution_count": 9,
   "metadata": {},
   "outputs": [
    {
     "name": "stdout",
     "output_type": "stream",
     "text": [
      "El 26 de septiembre fueron atendidos 1215 pacientes\n"
     ]
    }
   ],
   "source": [
    "print(f\"El 26 de septiembre fueron atendidos {a(26)} pacientes\")"
   ]
  },
  {
   "cell_type": "markdown",
   "metadata": {},
   "source": [
    "# Problema 14"
   ]
  },
  {
   "cell_type": "markdown",
   "metadata": {},
   "source": [
    "Un alumno de Duoc UC, viendo que está próximo el verano decide inscribirse en un gimnasio. El primer día que asiste al gimnasio, realiza ejercicios durante $40$ minutos y decide que incrementará esta cantidad en $5$ minutos cada día.\n",
    "\n",
    "a) ¿Cuánto tiempo se ejercitará el décimo día?\n",
    "\n",
    "b) ¿Cuánto tiempo se ha dedicado a ejercitarse luego de un mes? (considere 30 días)"
   ]
  },
  {
   "cell_type": "markdown",
   "metadata": {},
   "source": [
    "# Solución"
   ]
  },
  {
   "cell_type": "code",
   "execution_count": 1,
   "metadata": {},
   "outputs": [],
   "source": [
    "a_1 = 40\n",
    "d = 5 \n",
    "\n",
    "def a(n):\n",
    "   return a_1 + d * (n - 1)"
   ]
  },
  {
   "cell_type": "markdown",
   "metadata": {},
   "source": [
    "**a)**"
   ]
  },
  {
   "cell_type": "code",
   "execution_count": 2,
   "metadata": {},
   "outputs": [
    {
     "name": "stdout",
     "output_type": "stream",
     "text": [
      "El décimo día ejercitará 85 minutos\n"
     ]
    }
   ],
   "source": [
    "print(f\"El décimo día ejercitará {a(10)} minutos\")"
   ]
  },
  {
   "cell_type": "markdown",
   "metadata": {},
   "source": [
    "**b)**"
   ]
  },
  {
   "cell_type": "code",
   "execution_count": 3,
   "metadata": {},
   "outputs": [
    {
     "name": "stdout",
     "output_type": "stream",
     "text": [
      "Ha dedicado 3375 minutos en ejercitarse luego de un mes\n"
     ]
    }
   ],
   "source": [
    "suma = 0\n",
    "for i in range(1, 31):\n",
    "   suma += a(i)\n",
    "\n",
    "print(f\"Ha dedicado {suma} minutos en ejercitarse luego de un mes\")"
   ]
  },
  {
   "cell_type": "markdown",
   "metadata": {},
   "source": [
    "# Problema 15"
   ]
  },
  {
   "cell_type": "markdown",
   "metadata": {},
   "source": [
    "Un trabajador del área de la construcción, debe llevar una carretilla llena con arena al pie de cada uno de los $30$ árboles de una calzada. Se sabe que los árboles se encuentran a una distancia de $6$ m y que del primer árbol al montón de arena hay una distancia de $10$ m. Considere que los árboles y el montón de arena están en línea recta.\n",
    "\n",
    "a) ¿Qué distancia recorre desde el montón de arena hasta el último árbol?\n",
    "\n",
    "b) ¿Qué distancia habrá recorredo desde que comenzó hasta que depositó la carretilla en el montón de arena tras el último viaje?"
   ]
  },
  {
   "cell_type": "markdown",
   "metadata": {},
   "source": [
    "# Solución"
   ]
  },
  {
   "cell_type": "code",
   "execution_count": 4,
   "metadata": {},
   "outputs": [],
   "source": [
    "a_1 = 10\n",
    "d = 6\n",
    "\n",
    "def a(n):\n",
    "   return a_1 + d * (n -1)"
   ]
  },
  {
   "cell_type": "markdown",
   "metadata": {},
   "source": [
    "**a)**"
   ]
  },
  {
   "cell_type": "code",
   "execution_count": 5,
   "metadata": {},
   "outputs": [
    {
     "name": "stdout",
     "output_type": "stream",
     "text": [
      "Recorre 184 metros desde el montón de arena hasta el último árbol\n"
     ]
    }
   ],
   "source": [
    "print(f\"Recorre {a(30)} metros desde el montón de arena hasta el último árbol\")"
   ]
  },
  {
   "cell_type": "markdown",
   "metadata": {},
   "source": [
    "**b)**"
   ]
  },
  {
   "cell_type": "code",
   "execution_count": 6,
   "metadata": {},
   "outputs": [
    {
     "name": "stdout",
     "output_type": "stream",
     "text": [
      "recorre 5636 metros\n"
     ]
    }
   ],
   "source": [
    "suma = 0\n",
    "for i in range(1, 30):\n",
    "   suma += a(i)\n",
    "\n",
    "print(f\"recorre {suma*2 + a(30)} metros\")"
   ]
  },
  {
   "cell_type": "markdown",
   "metadata": {},
   "source": [
    "# Problema 16"
   ]
  },
  {
   "cell_type": "markdown",
   "metadata": {},
   "source": [
    "Se sabe que la velocidad de un cuerpo en caída libre aumenta por cada segundo en una cantidad constante $g \\approx 9,8 m/s$. Además si un proyectil es lanzado verticalmente hacia arriba con una velocidad inicial de $76 m/s$, su velocidad disminuye por cada segundo en una cantidad constante $g \\approx 9,8 m/s$.\n",
    "\n",
    "a) Si el objeto cae en caída libre, ¿Cuál será la velocidad a los 5 segundos?\n",
    "\n",
    "b) Si el proyectil es lanzado verticalmente hacia arriba, ¿Cuál será su velocidad a las 4 segundos?"
   ]
  },
  {
   "cell_type": "markdown",
   "metadata": {},
   "source": [
    "# Solución"
   ]
  },
  {
   "cell_type": "markdown",
   "metadata": {},
   "source": [
    "**a)**"
   ]
  },
  {
   "cell_type": "markdown",
   "metadata": {},
   "source": [
    "$v = v_0 + g \\cdot t$, con $v_0 = 0 m/s$ (caída libre), $g \\approx 9,8 m/s^2$ y $t = 5s$"
   ]
  },
  {
   "cell_type": "code",
   "execution_count": 1,
   "metadata": {},
   "outputs": [
    {
     "name": "stdout",
     "output_type": "stream",
     "text": [
      "La velocidad del objeto a los 5 segundos de caer es de 49.0 m/s\n"
     ]
    }
   ],
   "source": [
    "v_0 = 0\n",
    "g = 9.8\n",
    "\n",
    "def v(t):\n",
    "   return v_0 + g * t\n",
    "\n",
    "print(f\"La velocidad del objeto a los 5 segundos de caer es de {v(5)} m/s aproximadamente\")"
   ]
  },
  {
   "cell_type": "markdown",
   "metadata": {},
   "source": [
    "**b)**"
   ]
  },
  {
   "cell_type": "markdown",
   "metadata": {},
   "source": [
    "$v = v_0 + g \\cdot t$, con $v_0 = 76 m/s$, $g \\approx -9.8 m/s^2$ y $t = 4s$"
   ]
  },
  {
   "cell_type": "code",
   "execution_count": 2,
   "metadata": {},
   "outputs": [
    {
     "name": "stdout",
     "output_type": "stream",
     "text": [
      "La velocidad del objeto a los 4 segundos de ser lanzado es de 36.8 m/s\n"
     ]
    }
   ],
   "source": [
    "v_0 = 76\n",
    "g = -9.8\n",
    "\n",
    "def v(t):\n",
    "   return v_0 + g * t\n",
    "\n",
    "print(f\"La velocidad del objeto a los 4 segundos de ser lanzado es de {v(4)} m/s\")"
   ]
  },
  {
   "cell_type": "markdown",
   "metadata": {},
   "source": [
    "# Problema 17"
   ]
  },
  {
   "cell_type": "markdown",
   "metadata": {},
   "source": [
    "A partir del año $2001$ la población de una localidad nortina ha ido aumentando durante cada año en una cantidad constante de habitantes. Si en el año $2004$ la cantidad de habitantes fue de $20.650$ y en el año $2011$ la cantidad fue de $25.900$ habitantes, ¿Cuántos habitantes se estiman para el año $2020$?"
   ]
  },
  {
   "cell_type": "markdown",
   "metadata": {},
   "source": [
    "# Solución"
   ]
  },
  {
   "cell_type": "markdown",
   "metadata": {},
   "source": [
    "$a_4 = 20.650$ y $a_{11} = 25.900$\n",
    "\n",
    "\n",
    "Calculando $d$:\n",
    "$$\n",
    "\\begin{align}\n",
    "d &= \\frac{25.900 - 20.650}{11 - 4} \\\\\n",
    "d &= \\frac{5250}{7} \\\\\n",
    "d &= 750\n",
    "\\end{align}\n",
    "$$\n",
    "\n",
    "Calculando $a_1$:\n",
    "$$\n",
    "\\begin{align}\n",
    "20.650 &= a_1 + 750 \\cdot (4 - 1) \\\\\n",
    "a_1 &= 20.650 - 2.250 \\\\ \n",
    "a_1 &= 18.400\n",
    "\\end{align}$$"
   ]
  },
  {
   "cell_type": "code",
   "execution_count": 8,
   "metadata": {},
   "outputs": [],
   "source": [
    "a_1 = 18400\n",
    "d = 750\n",
    "\n",
    "def a(n):\n",
    "   return a_1 + d * (n - 1)"
   ]
  },
  {
   "cell_type": "code",
   "execution_count": 10,
   "metadata": {},
   "outputs": [
    {
     "name": "stdout",
     "output_type": "stream",
     "text": [
      "Se estiman 32650 habitantes para el año 2020\n"
     ]
    }
   ],
   "source": [
    "print(f\"Se estiman {a(20)} habitantes para el año 2020\")"
   ]
  },
  {
   "cell_type": "markdown",
   "metadata": {},
   "source": [
    "# Problema 18"
   ]
  },
  {
   "cell_type": "markdown",
   "metadata": {},
   "source": [
    "Al llenar un tambor con agua, se observa que en el minuto $4$ el tambor recibe $128$ litros y en el minuto $9$ recibe $88$ litros. Sabiendo que en cada minuto recibe una cantidad \"d\" de litros de agua menos que en el minuto anterior. ¿En qué minuto el tambor deja de recibir agua?"
   ]
  },
  {
   "cell_type": "markdown",
   "metadata": {},
   "source": [
    "# Solución"
   ]
  },
  {
   "cell_type": "markdown",
   "metadata": {},
   "source": [
    "$a_4 = 128$ y $a_9 = 88$ \n",
    "\n",
    "Calculando $d$:\n",
    "$$\\begin{align}\n",
    "d &= \\frac{88 - 128}{9 - 4} \\\\\n",
    "d &= \\frac{-40}{5} \\\\\n",
    "d &= -8\n",
    "\\end{align}$$\n",
    "\n",
    "Calculando $a_1$:\n",
    "$$\\begin{align}\n",
    "128 &= a_1 - 8 \\cdot (4 - 1) \\\\\n",
    "a_1 &= 128 + 24 \\\\\n",
    "a_1 &= 152\n",
    "\\end{align}$$"
   ]
  },
  {
   "cell_type": "code",
   "execution_count": 13,
   "metadata": {},
   "outputs": [],
   "source": [
    "a_1 = 152\n",
    "d = -8\n",
    "\n",
    "def a(n):\n",
    "   return a_1 + d * (n - 1)"
   ]
  },
  {
   "cell_type": "code",
   "execution_count": 14,
   "metadata": {},
   "outputs": [
    {
     "name": "stdout",
     "output_type": "stream",
     "text": [
      "El tambor deja de recibir agua a los 20 minutos\n"
     ]
    }
   ],
   "source": [
    "n = 1\n",
    "a_n = 0\n",
    "\n",
    "while a(n) >= a_n:\n",
    "   if a(n) == a_n:\n",
    "      print(f\"El tambor deja de recibir agua a los {n} minutos\")\n",
    "      break\n",
    "   n += 1"
   ]
  },
  {
   "cell_type": "markdown",
   "metadata": {},
   "source": [
    "# Problema 19"
   ]
  },
  {
   "cell_type": "markdown",
   "metadata": {},
   "source": [
    "En un cine la segunda fila está a 10 metros de la pantalla y la séptima fila a 16 metros ¿En qué fila debe sentarse una persona que le gusta ver películas a una distancia de 22 metros?"
   ]
  },
  {
   "cell_type": "markdown",
   "metadata": {},
   "source": [
    "# Solución"
   ]
  },
  {
   "cell_type": "markdown",
   "metadata": {},
   "source": [
    "$a_2 = 10$ y $a_7 = 16$\n",
    "\n",
    "Calculando $d$:\n",
    "$$\\begin{align}\n",
    "d &= \\frac{16-10}{7-2} \\\\\n",
    "d &= \\frac{6}{5} \\\\\n",
    "d &= 1,2\n",
    "\\end{align}$$\n",
    "\n",
    "Calculando $a_1$:\n",
    "$$\\begin{align}\n",
    "10 &= a_1 + 1,2 \\cdot (2 - 1) \\\\\n",
    "a_1 &= 8,8\n",
    "\\end{align}$$"
   ]
  },
  {
   "cell_type": "code",
   "execution_count": 15,
   "metadata": {},
   "outputs": [],
   "source": [
    "a_1 = 8.8\n",
    "d = 1.2\n",
    "\n",
    "def a(n):\n",
    "   return a_1 + d * (n - 1)"
   ]
  },
  {
   "cell_type": "code",
   "execution_count": null,
   "metadata": {},
   "outputs": [
    {
     "name": "stdout",
     "output_type": "stream",
     "text": [
      "La persona se debe sentar en la fila 12\n"
     ]
    }
   ],
   "source": [
    "n = 1\n",
    "a_n = 22\n",
    "\n",
    "while a(n) <= a_n:\n",
    "   if a(n) == a_n:\n",
    "      print(f\"La persona se debe sentar en la fila {n}\")\n",
    "      break\n",
    "   n += 1\n",
    "else:\n",
    "   print(f\"No hay una fila que se encuentra a {a_n} metros de distancia de la pantalla\")"
   ]
  },
  {
   "cell_type": "code",
   "execution_count": null,
   "metadata": {},
   "outputs": [],
   "source": []
  }
 ],
 "metadata": {
  "kernelspec": {
   "display_name": "Python 3",
   "language": "python",
   "name": "python3"
  },
  "language_info": {
   "codemirror_mode": {
    "name": "ipython",
    "version": 3
   },
   "file_extension": ".py",
   "mimetype": "text/x-python",
   "name": "python",
   "nbconvert_exporter": "python",
   "pygments_lexer": "ipython3",
   "version": "3.12.6"
  }
 },
 "nbformat": 4,
 "nbformat_minor": 2
}
