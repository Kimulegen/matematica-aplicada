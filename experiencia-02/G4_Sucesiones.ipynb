{
  "cells": [
    {
      "cell_type": "markdown",
      "metadata": {
        "id": "Jsg7AmugfdN3"
      },
      "source": [
        "# Problema 1"
      ]
    },
    {
      "cell_type": "markdown",
      "metadata": {
        "id": "_IzpNklvfgKe"
      },
      "source": [
        "Considere la sucesión $a_{n} = 3n^{2} + 7$. Por medio de un código en *Python* despliega en pantalla:\n",
        "\n",
        "1. Los primeros $5$ términos.\n",
        "2. Los $5$ términos que vienen inmediatamente después del decimoquinto término."
      ]
    },
    {
      "cell_type": "markdown",
      "metadata": {},
      "source": [
        "# Solución"
      ]
    },
    {
      "cell_type": "markdown",
      "metadata": {},
      "source": [
        "**1)**"
      ]
    },
    {
      "cell_type": "code",
      "execution_count": 3,
      "metadata": {},
      "outputs": [
        {
          "name": "stdout",
          "output_type": "stream",
          "text": [
            "a_1: 10\n",
            "a_2: 19\n",
            "a_3: 34\n",
            "a_4: 55\n",
            "a_5: 82\n"
          ]
        }
      ],
      "source": [
        "for i in range(1,6):\n",
        "   print(f\"a_{i}: {3 * i**2 + 7}\")"
      ]
    },
    {
      "cell_type": "markdown",
      "metadata": {},
      "source": [
        "**2)**"
      ]
    },
    {
      "cell_type": "code",
      "execution_count": 5,
      "metadata": {},
      "outputs": [
        {
          "name": "stdout",
          "output_type": "stream",
          "text": [
            "a_16: 775\n",
            "a_17: 874\n",
            "a_18: 979\n",
            "a_19: 1090\n",
            "a_20: 1207\n"
          ]
        }
      ],
      "source": [
        "for i in range(16,21):\n",
        "   print(f\"a_{i}: {3 * i ** 2 + 7}\")"
      ]
    },
    {
      "cell_type": "markdown",
      "metadata": {
        "id": "MpHLoYWfk97E"
      },
      "source": [
        "# Problema 2"
      ]
    },
    {
      "cell_type": "markdown",
      "metadata": {
        "id": "TdrPqS7Mk_l0"
      },
      "source": [
        "Considere la sucesión $g_{n} = 5n^{3}$. Implemente un código en *Python* que muestre en pantalla:\n",
        "\n",
        "1. Los primeros $4$ términos de la sucesión.\n",
        "2. Los $4$ términos que vienen inmediatamente después del octavo término.\n",
        "3. Determinar si el término $40.000$ pertenece a la sucesión. Si es así, indicar en qué posición se encuentra."
      ]
    },
    {
      "cell_type": "markdown",
      "metadata": {},
      "source": [
        "# Solución"
      ]
    },
    {
      "cell_type": "markdown",
      "metadata": {},
      "source": [
        "**1)**"
      ]
    },
    {
      "cell_type": "code",
      "execution_count": 8,
      "metadata": {},
      "outputs": [
        {
          "name": "stdout",
          "output_type": "stream",
          "text": [
            "a_1: 5\n",
            "a_2: 40\n",
            "a_3: 135\n",
            "a_4: 320\n"
          ]
        }
      ],
      "source": [
        "def g(n):\n",
        "   return 5 * n ** 3\n",
        "\n",
        "for i in range(1,5):\n",
        "   print(f\"a_{i}: {g(i)}\")"
      ]
    },
    {
      "cell_type": "markdown",
      "metadata": {},
      "source": [
        "**2)**"
      ]
    },
    {
      "cell_type": "code",
      "execution_count": 9,
      "metadata": {},
      "outputs": [
        {
          "name": "stdout",
          "output_type": "stream",
          "text": [
            "a_9: 3645\n",
            "a_10: 5000\n",
            "a_11: 6655\n",
            "a_12: 8640\n"
          ]
        }
      ],
      "source": [
        "for i in range(9, 13):\n",
        "   print(f\"a_{i}: {g(i)}\")"
      ]
    },
    {
      "cell_type": "markdown",
      "metadata": {},
      "source": [
        "**3)**"
      ]
    },
    {
      "cell_type": "code",
      "execution_count": 25,
      "metadata": {},
      "outputs": [
        {
          "name": "stdout",
          "output_type": "stream",
          "text": [
            "40000 pertenece a la sucesión y está en la posición 20\n"
          ]
        }
      ],
      "source": [
        "a_n = 40000\n",
        "n = 1\n",
        "while g(n) <= a_n:\n",
        "   if g(n) == a_n:\n",
        "      print(f\"{g(n)} pertenece a la sucesión y está en la posición {n}\")\n",
        "      break\n",
        "   n += 1\n",
        "else:\n",
        "   print(f\"{a_n} no pertenece a la sucesión\")"
      ]
    },
    {
      "cell_type": "markdown",
      "metadata": {
        "id": "7GDU-KDLuR7i"
      },
      "source": [
        "# Problema 3"
      ]
    },
    {
      "cell_type": "markdown",
      "metadata": {
        "id": "GG1duXd1uU6Z"
      },
      "source": [
        "La sucesión de Fibonacci es una serie de números en la que cada número, desde el tercero en adelante, es la suma de los dos anteriores. Comienza con el $0$ y $1$, tal como se observa a continuación:\n",
        "\n",
        "$$0, 1, 1, 2, 3, 5, 8, 13, ...$$\n",
        "\n",
        "Formalmente, la sucesión se define de la siguiente manera:\n",
        "\n",
        "\\begin{split}\n",
        "F(0) &= 0\\\\\n",
        "F(1) &= 1\\\\\n",
        "F(n) &= F(n - 1) + F(n - 2), \\ \\text{ para $n \\geq 2$}\n",
        "\\end{split}\n",
        "\n",
        "Esta sucesión se utiliza en una variedad de contextos en informática y algoritmos debido a sus propiedades matemáticas y patrones.\n",
        "\n",
        "1. Implementa un código en *Python* que muestre en pantalla los primeros $20$ términos de la sucesión.\n",
        "2. Calcula, utilizando un ciclo *for*, la suma de los primeros $30$ términos de la sucesión de Fibonacci."
      ]
    },
    {
      "cell_type": "markdown",
      "metadata": {},
      "source": [
        "# Solución"
      ]
    },
    {
      "cell_type": "markdown",
      "metadata": {},
      "source": [
        "**1)**"
      ]
    },
    {
      "cell_type": "code",
      "execution_count": 6,
      "metadata": {},
      "outputs": [
        {
          "name": "stdout",
          "output_type": "stream",
          "text": [
            "a_1: 1\n",
            "a_2: 1\n",
            "a_3: 2\n",
            "a_4: 3\n",
            "a_5: 5\n",
            "a_6: 8\n",
            "a_7: 13\n",
            "a_8: 21\n",
            "a_9: 34\n",
            "a_10: 55\n",
            "a_11: 89\n",
            "a_12: 144\n",
            "a_13: 233\n",
            "a_14: 377\n",
            "a_15: 610\n",
            "a_16: 987\n",
            "a_17: 1597\n",
            "a_18: 2584\n",
            "a_19: 4181\n",
            "a_20: 6765\n"
          ]
        }
      ],
      "source": [
        "def fibonacci(n):\n",
        "   if n == 0:\n",
        "      return 0\n",
        "   elif n == 1:\n",
        "      return 1\n",
        "   return fibonacci(n-1) + fibonacci(n-2)\n",
        "\n",
        "for i in range(1, 21):\n",
        "   print(f\"a_{i}: {fibonacci(i)}\")"
      ]
    },
    {
      "cell_type": "markdown",
      "metadata": {},
      "source": [
        "**2)**"
      ]
    },
    {
      "cell_type": "code",
      "execution_count": 4,
      "metadata": {},
      "outputs": [
        {
          "name": "stdout",
          "output_type": "stream",
          "text": [
            "La suma de los primeros 30 términos de la serie fibonacci es 2_178_308\n"
          ]
        }
      ],
      "source": [
        "def suma_fibonacci(n):\n",
        "    return sum(fibonacci(i) for i in range(1, n+1))  # Suma desde el término 1 hasta el n-ésimo\n",
        "\n",
        "print(f\"La suma de los primeros 30 términos de la serie fibonacci es {suma_fibonacci(30):_}\")  # Esto suma los primeros 30 términos"
      ]
    },
    {
      "cell_type": "markdown",
      "metadata": {
        "id": "OFL3b7nt8Rq_"
      },
      "source": [
        "# Problema 4"
      ]
    },
    {
      "cell_type": "markdown",
      "metadata": {
        "id": "j5QlZQwJSDsZ"
      },
      "source": [
        "Implementa un código que permita guardar en una lista la sucesión de los primeros $n$ números pares, con $n \\geq 1$. Luego, determina:\n",
        "\n",
        "1. ¿Cuál es el valor del décimo término?\n",
        "2. Calcula, utilizando un ciclo *for*, la suma de los primeros $100$ números pares.\n",
        "3. ¿En qué posición se encuentra el número $58$ dentro de la sucesión?"
      ]
    },
    {
      "cell_type": "markdown",
      "metadata": {},
      "source": [
        "# Solución"
      ]
    },
    {
      "cell_type": "code",
      "execution_count": 27,
      "metadata": {},
      "outputs": [],
      "source": [
        "def even_list(n):\n",
        "   return [i*2 for i in range(n)]\n",
        "list = even_list(100)"
      ]
    },
    {
      "cell_type": "markdown",
      "metadata": {},
      "source": [
        "**1)**"
      ]
    },
    {
      "cell_type": "code",
      "execution_count": 28,
      "metadata": {},
      "outputs": [
        {
          "name": "stdout",
          "output_type": "stream",
          "text": [
            "El décimo término es 18\n"
          ]
        }
      ],
      "source": [
        "print(f\"El décimo término es {list[9]}\")"
      ]
    },
    {
      "cell_type": "markdown",
      "metadata": {},
      "source": [
        "**2)**"
      ]
    },
    {
      "cell_type": "code",
      "execution_count": 29,
      "metadata": {},
      "outputs": [
        {
          "name": "stdout",
          "output_type": "stream",
          "text": [
            "La suma de los primeros 100 números pares es 9900\n"
          ]
        }
      ],
      "source": [
        "suma = 0\n",
        "for i in list:\n",
        "   suma += i\n",
        "\n",
        "print(f\"La suma de los primeros 100 números pares es {suma}\")\n"
      ]
    },
    {
      "cell_type": "markdown",
      "metadata": {},
      "source": [
        "**3)**"
      ]
    },
    {
      "cell_type": "code",
      "execution_count": 30,
      "metadata": {},
      "outputs": [
        {
          "name": "stdout",
          "output_type": "stream",
          "text": [
            "58 está en la posición 30\n"
          ]
        }
      ],
      "source": [
        "print(f\"58 está en la posición {list.index(58) + 1}\")"
      ]
    },
    {
      "cell_type": "markdown",
      "metadata": {
        "id": "gBcDYpK2Z3GT"
      },
      "source": [
        "# Problema 5"
      ]
    },
    {
      "cell_type": "markdown",
      "metadata": {
        "id": "eS3i68R4Z6YQ"
      },
      "source": [
        "Un nuevo software tiene $500$ usuarios y se espera que el número de usuarios crezca un $15\\%$ respecto al mes anterior. Considere que $b_{n}$ es el número de usuarios transcurridos $n$ meses.\n",
        "\n",
        "1. Calcula cuántos usuarios tendrá el software al cabo de tres meses. ¿Y al cabo de seis meses?\n",
        "2. Mediante un código en *Pyhton* muestra la cantidad de usuarios que tendrá el software cada mes durante el primer año.\n",
        "2. ¿Cuántos usuarios tendrá en total el software luego de un año? Utilice ciclos *for* para calcular."
      ]
    },
    {
      "cell_type": "markdown",
      "metadata": {},
      "source": [
        "# Solución"
      ]
    },
    {
      "cell_type": "markdown",
      "metadata": {},
      "source": [
        "$$a_{0} = 500$$\n",
        "$$a_{1} = 575$$"
      ]
    },
    {
      "cell_type": "markdown",
      "metadata": {},
      "source": [
        "**1)**"
      ]
    },
    {
      "cell_type": "code",
      "execution_count": 34,
      "metadata": {},
      "outputs": [
        {
          "name": "stdout",
          "output_type": "stream",
          "text": [
            "Al cabo de 3 meses el software tendrá 760 usuarios\n",
            "Al cabo de 6 meses el software tendrá 1157 usuarios\n"
          ]
        }
      ],
      "source": [
        "a_1 = 575\n",
        "r = 1.15\n",
        "def f(n):\n",
        "   return a_1 *  r ** (n -1)\n",
        "\n",
        "print(f\"Al cabo de 3 meses el software tendrá {f(3):.0f} usuarios\")\n",
        "print(f\"Al cabo de 6 meses el software tendrá {f(6):.0f} usuarios\")"
      ]
    },
    {
      "cell_type": "markdown",
      "metadata": {},
      "source": [
        "**2)**"
      ]
    },
    {
      "cell_type": "code",
      "execution_count": 36,
      "metadata": {},
      "outputs": [
        {
          "name": "stdout",
          "output_type": "stream",
          "text": [
            "a_1: 575\n",
            "a_2: 661\n",
            "a_3: 760\n",
            "a_4: 875\n",
            "a_5: 1006\n",
            "a_6: 1157\n",
            "a_7: 1330\n",
            "a_8: 1530\n",
            "a_9: 1759\n",
            "a_10: 2023\n",
            "a_11: 2326\n",
            "a_12: 2675\n"
          ]
        }
      ],
      "source": [
        "for i in range(1,13):\n",
        "   print(f\"a_{i}: {f(i):.0f}\")"
      ]
    },
    {
      "cell_type": "markdown",
      "metadata": {},
      "source": [
        "**3)**"
      ]
    },
    {
      "cell_type": "code",
      "execution_count": 37,
      "metadata": {},
      "outputs": [
        {
          "name": "stdout",
          "output_type": "stream",
          "text": [
            "El software tendrá 2675 ususarios dentro de un año\n"
          ]
        }
      ],
      "source": [
        "print(f\"El software tendrá {f(12):.0f} ususarios dentro de un año\")"
      ]
    },
    {
      "cell_type": "markdown",
      "metadata": {
        "id": "s2hruXWnJDbS"
      },
      "source": [
        "# Problema 6"
      ]
    },
    {
      "cell_type": "markdown",
      "metadata": {
        "id": "hH_VNmA_Og0U"
      },
      "source": [
        "Un estudiante de ingeniería informática planea ahorrar para un proyecto personal. Para esto, el primer mes deposita $\\$12.000$ y cada mes aumenta el depósito en $\\$2.000$. Considere que $a_{i}$ corresponde al depósito mensual del estudiante. Determine:\n",
        "\n",
        "1. Implementa un código que permita mostrar en pantalla lo que depositó mensualmente durante el primer año.\n",
        "2. ¿Cuánto depositó el estudiante en febrero del segundo año?\n",
        "3. ¿Cuál será el total ahorrado al finalizar dos años?"
      ]
    },
    {
      "cell_type": "markdown",
      "metadata": {},
      "source": [
        "# Solución"
      ]
    },
    {
      "cell_type": "markdown",
      "metadata": {},
      "source": [
        "$$a_{1} = 12000$$\n",
        "$$r = 1 + \\frac{2000}{12000} = 1.17$$"
      ]
    },
    {
      "cell_type": "code",
      "execution_count": 46,
      "metadata": {},
      "outputs": [],
      "source": [
        "a_1 = 12000\n",
        "r = 1.16667\n",
        "\n",
        "def f(n):\n",
        "   return a_1 * r ** (n - 1)"
      ]
    },
    {
      "cell_type": "markdown",
      "metadata": {},
      "source": [
        "**1)**"
      ]
    },
    {
      "cell_type": "code",
      "execution_count": 51,
      "metadata": {},
      "outputs": [
        {
          "name": "stdout",
          "output_type": "stream",
          "text": [
            "a_1: 12_000\n",
            "a_2: 14_000\n",
            "a_3: 16_333\n",
            "a_4: 19_056\n",
            "a_5: 22_232\n",
            "a_6: 25_937\n",
            "a_7: 30_260\n",
            "a_8: 35_303\n",
            "a_9: 41_188\n",
            "a_10: 48_052\n",
            "a_11: 56_061\n",
            "a_12: 65_405\n"
          ]
        }
      ],
      "source": [
        "for i in range(1, 13):\n",
        "   print(f\"a_{i}: {f(i):_.0f}\")"
      ]
    },
    {
      "cell_type": "markdown",
      "metadata": {},
      "source": [
        "**2)**"
      ]
    },
    {
      "cell_type": "markdown",
      "metadata": {},
      "source": [
        "Febrero 2do año:\n",
        "$$n = 14$$"
      ]
    },
    {
      "cell_type": "code",
      "execution_count": 52,
      "metadata": {},
      "outputs": [
        {
          "name": "stdout",
          "output_type": "stream",
          "text": [
            "El estudiante depositó $89_024\n"
          ]
        }
      ],
      "source": [
        "print(f\"El estudiante depositó ${f(14):_.0f}\")"
      ]
    },
    {
      "cell_type": "markdown",
      "metadata": {},
      "source": [
        "**3)**"
      ]
    },
    {
      "cell_type": "markdown",
      "metadata": {},
      "source": [
        "2 años: $$n = 24$$"
      ]
    },
    {
      "cell_type": "code",
      "execution_count": 53,
      "metadata": {},
      "outputs": [
        {
          "name": "stdout",
          "output_type": "stream",
          "text": [
            "El estudiante ahorró $2_839_232 al cabo de 2 años\n"
          ]
        }
      ],
      "source": [
        "suma = 0\n",
        "for i in range(1, 25):\n",
        "   suma += f(i)\n",
        "\n",
        "print(f\"El estudiante ahorró ${suma:_.0f} al cabo de 2 años\")"
      ]
    },
    {
      "cell_type": "markdown",
      "metadata": {
        "id": "G9sEfl4rB3e8"
      },
      "source": [
        "# Problema 7"
      ]
    },
    {
      "cell_type": "markdown",
      "metadata": {
        "id": "KZUNnG20CT4F"
      },
      "source": [
        "Por lo general, los proyectos son organizados en varias etapas que deben completarse secuencialmente.\n",
        "\n",
        "La fase inicial de un proyecto de software tiene una duración de $3$ meses y cada fase subsecuente reduce su duración en un $10 \\%$ debido a la experiencia ganada. Determine:\n",
        "\n",
        "1. ¿Cuánto dura la quinta fase?\n",
        "2. Calcula la duración total del proyecto después de $10$ fases."
      ]
    },
    {
      "cell_type": "markdown",
      "metadata": {},
      "source": [
        "# Solución"
      ]
    },
    {
      "cell_type": "code",
      "execution_count": 54,
      "metadata": {},
      "outputs": [],
      "source": [
        "a_1 = 3\n",
        "r = 0.9\n",
        "\n",
        "def f(n):\n",
        "   return a_1 * r ** (n - 1)"
      ]
    },
    {
      "cell_type": "markdown",
      "metadata": {},
      "source": [
        "**1)**"
      ]
    },
    {
      "cell_type": "code",
      "execution_count": 55,
      "metadata": {},
      "outputs": [
        {
          "name": "stdout",
          "output_type": "stream",
          "text": [
            "La quinta fase duró 2.0 meses\n"
          ]
        }
      ],
      "source": [
        "print(f\"La quinta fase duró {f(5):.1f} meses\")"
      ]
    },
    {
      "cell_type": "markdown",
      "metadata": {},
      "source": [
        "**2)**"
      ]
    },
    {
      "cell_type": "code",
      "execution_count": 56,
      "metadata": {},
      "outputs": [
        {
          "name": "stdout",
          "output_type": "stream",
          "text": [
            "La duración total del proyecto fue de 19.5 meses\n"
          ]
        }
      ],
      "source": [
        "suma = 0\n",
        "for i in range(1, 11):\n",
        "   suma += f(i)\n",
        "\n",
        "print(f\"La duración total del proyecto fue de {suma:.1f} meses\")"
      ]
    },
    {
      "cell_type": "markdown",
      "metadata": {
        "id": "keVOy_xIlU1E"
      },
      "source": [
        "# Problema 8"
      ]
    },
    {
      "cell_type": "markdown",
      "metadata": {
        "id": "QXrNG-zulXil"
      },
      "source": [
        "En una sucesión aritmética, la diferencia entre un término y el anterior es $4$ y el décimo término es $-20$. Determine:\n",
        "\n",
        "1. El primer término de la sucesión.\n",
        "2. La expresión del término de lugar $n$.\n",
        "3. Utilice un código en *Python* para calcular el término que ocupa el lugar $100$.\n",
        "4. Determinar la posición del número $1.680$ en la secuencia. Calcule utilizando un ciclo *while*."
      ]
    },
    {
      "cell_type": "markdown",
      "metadata": {},
      "source": [
        "# Solución"
      ]
    },
    {
      "cell_type": "markdown",
      "metadata": {},
      "source": [
        "**1)**"
      ]
    },
    {
      "cell_type": "markdown",
      "metadata": {},
      "source": [
        "$$a_{4} = -20$$\n",
        "$$d = 4$$\n",
        "$$n = 10$$\n",
        "Según la fórmula\n",
        "$$a_{n} = a_{1} \\pm d\\cdot(n-1)$$\n",
        "Reemplazando\n",
        "$$-20 = a_{1} \\pm 4\\cdot(10 -1)$$\n",
        "$$-20 = a_{1} \\pm 36$$\n",
        "$$a_{1} = -36\\ \\lor\\ a_{1} = 16$$"
      ]
    },
    {
      "cell_type": "markdown",
      "metadata": {},
      "source": [
        "**2)**"
      ]
    },
    {
      "cell_type": "markdown",
      "metadata": {},
      "source": [
        "La expresión general de la sucesión es:\n",
        "$$a_{n} = 16 - 4\\cdot(n - 1)$$\n",
        "<div style=\"text-align: center\">o</div>\n",
        "\n",
        "$$a_{n} = -56 + 4\\cdot (n - 1)$$"
      ]
    },
    {
      "cell_type": "markdown",
      "metadata": {},
      "source": [
        "**3)**"
      ]
    },
    {
      "cell_type": "code",
      "execution_count": 1,
      "metadata": {},
      "outputs": [
        {
          "name": "stdout",
          "output_type": "stream",
          "text": [
            "a_100: -380 o 340\n"
          ]
        }
      ],
      "source": [
        "def f1(n):\n",
        "   return 16 - 4 * (n - 1)\n",
        "\n",
        "def f2(n):\n",
        "   return -56 + 4 * (n - 1)\n",
        "\n",
        "print(f\"a_100: {f1(100)} o {f2(100)}\")"
      ]
    },
    {
      "cell_type": "markdown",
      "metadata": {},
      "source": [
        "**4)**"
      ]
    },
    {
      "cell_type": "code",
      "execution_count": 15,
      "metadata": {},
      "outputs": [
        {
          "name": "stdout",
          "output_type": "stream",
          "text": [
            "1680 está en la posición 435\n"
          ]
        }
      ],
      "source": [
        "n = 1\n",
        "a_n = 1680\n",
        "while f2(n) <= a_n:\n",
        "   if f2(n) == a_n:\n",
        "      print(f\"1680 está en la posición {n}\")\n",
        "      break\n",
        "   n += 1\n"
      ]
    },
    {
      "cell_type": "markdown",
      "metadata": {
        "id": "gFYqGSbdqoqT"
      },
      "source": [
        "# Problema 9"
      ]
    },
    {
      "cell_type": "markdown",
      "metadata": {
        "id": "UtblbNCYqxOM"
      },
      "source": [
        "El tercer término de una sucesión geométrica es $5$ y el sexto término es $40$. Determine:\n",
        "\n",
        "1. La razón geométrica de la sucesión.\n",
        "2. El primer término de la sucesión.\n",
        "3. La expresión del término de lugar $n$.\n",
        "4. Utilice un código en *Python* para calcular el término que ocupa el lugar $8$.\n",
        "4. ¿Qué lugar ocupa en esta sucesión el término $20.480$? Calcule utilizando un ciclo *while*."
      ]
    },
    {
      "cell_type": "markdown",
      "metadata": {},
      "source": [
        "# Solución"
      ]
    },
    {
      "cell_type": "markdown",
      "metadata": {},
      "source": [
        "**1)**"
      ]
    },
    {
      "cell_type": "markdown",
      "metadata": {},
      "source": [
        "$a_{3} = 5$ y $a_{6} = 40$\n",
        "$$a_{n} = a_{1} \\cdot r ^ {(n - 1)}$$\n",
        "$$5 = a_{1} \\cdot r ^ {2}$$\n",
        "$$40 = a_{1} \\cdot r ^ {5}$$\n",
        "$$\\frac{40}{5} = \\frac{a_{1}\\cdot r^5}{a_{1}\\cdot r^2}$$\n",
        "$$8 = r^3$$\n",
        "$$r = 2$$"
      ]
    },
    {
      "cell_type": "markdown",
      "metadata": {},
      "source": [
        "**2)**"
      ]
    },
    {
      "cell_type": "markdown",
      "metadata": {},
      "source": [
        "$a_{3} = 5$ y $r = 2$\n",
        "$$a_n = a_1 \\cdot r ^ {(n-1)}$$\n",
        "$$5 = a_1 \\cdot 2 ^ 2$$\n",
        "$$5 = a_1 \\cdot 4$$\n",
        "$$a_1 = 1,25$$"
      ]
    },
    {
      "cell_type": "markdown",
      "metadata": {},
      "source": [
        "**3)**"
      ]
    },
    {
      "cell_type": "markdown",
      "metadata": {},
      "source": [
        "La expresión general de la sucesión es:\n",
        "$$a_n = 1,25 \\cdot 2 ^ {(n - 1)}"
      ]
    },
    {
      "cell_type": "markdown",
      "metadata": {},
      "source": [
        "**4)**"
      ]
    },
    {
      "cell_type": "code",
      "execution_count": 29,
      "metadata": {},
      "outputs": [
        {
          "name": "stdout",
          "output_type": "stream",
          "text": [
            "a_8: 160.0\n"
          ]
        }
      ],
      "source": [
        "def f(n):\n",
        "   return 1.25 * 2 ** (n - 1)\n",
        "\n",
        "print(f\"a_8: {f(8)}\")"
      ]
    },
    {
      "cell_type": "markdown",
      "metadata": {},
      "source": [
        "**5)**"
      ]
    },
    {
      "cell_type": "code",
      "execution_count": 35,
      "metadata": {},
      "outputs": [
        {
          "name": "stdout",
          "output_type": "stream",
          "text": [
            "20480 ocupa la posición 15\n"
          ]
        }
      ],
      "source": [
        "n = 1\n",
        "a_n = 20480\n",
        "while f(n) <= a_n:\n",
        "   if f(n) == a_n:\n",
        "      print(f\"{a_n} ocupa la posición {n}\")\n",
        "      break\n",
        "   n +=1\n",
        "else:\n",
        "   print(f\"{a_n} no se encuentra en la sucesión\")"
      ]
    },
    {
      "cell_type": "markdown",
      "metadata": {
        "id": "Ju4J8uWfxQKk"
      },
      "source": [
        "# Problema 10"
      ]
    },
    {
      "cell_type": "markdown",
      "metadata": {
        "id": "F6FPVCXQxTMj"
      },
      "source": [
        "Una empresa de tecnología está optimizando sus servidores. Para ello, mide cada mes las transacciones por segundo (TPS) de sus servidores. Se ha obtenido que el segundo mes, el rendimiento del servidor es $1,2$ miles de TPS y el quinto mes, el rendimiento es de $2,7$ miles de TPS. Determina utilizando un código en *Python*:\n",
        "\n",
        "1. ¿Cuál es el rendimiento el noveno mes?\n",
        "2. ¿En qué mes el rendimiento es de $23,4$ miles de TPS?\n",
        "\n",
        "Utilice dos decimales para el cálculo."
      ]
    },
    {
      "cell_type": "markdown",
      "metadata": {},
      "source": [
        "# Solución"
      ]
    },
    {
      "cell_type": "code",
      "execution_count": 68,
      "metadata": {},
      "outputs": [
        {
          "name": "stdout",
          "output_type": "stream",
          "text": [
            "0.92\n"
          ]
        }
      ],
      "source": [
        "import numpy as np\n",
        "print(round(1.2/np.power(2.25,1/3),2))"
      ]
    },
    {
      "cell_type": "markdown",
      "metadata": {},
      "source": [
        "**1)**"
      ]
    },
    {
      "cell_type": "markdown",
      "metadata": {},
      "source": [
        "$a_2 = 1,2$ y $a_5 = 2,7$ Asumiendo que es una sucesión geométrica:\n",
        "\n",
        "\n",
        "calculando $r$\n",
        "$$a_n = a_1 \\cdot r ^ {(n-1)}$$\n",
        "$$2,7 = a_1 \\cdot r ^ 4$$\n",
        "$$1,2 = a_1 \\cdot r$$\n",
        "$$\\frac{2,7}{1,2} = \\frac{a_1 \\cdot r ^ 4}{a_1 \\cdot r}$$\n",
        "$$2.25 = r^3$$\n",
        "$$r \\approx 1.31$$\n",
        "\n",
        "calculando $a_1$\n",
        "$$1,2 = a_1 \\cdot 1.31$$\n",
        "$$a_1 \\approx 0.92 $$"
      ]
    },
    {
      "cell_type": "code",
      "execution_count": 85,
      "metadata": {},
      "outputs": [
        {
          "name": "stdout",
          "output_type": "stream",
          "text": [
            "El rendimiento del noveno mes es de 7.96 miles de TPS\n"
          ]
        }
      ],
      "source": [
        "import numpy as np\n",
        "\n",
        "r = np.power(2.25, 1/3)\n",
        "a_1 = 1.2 / r\n",
        "def f(n):\n",
        "   return a_1 * np.power(r, (n - 1))\n",
        "\n",
        "print(f\"El rendimiento del noveno mes es de {f(9):.2f} miles de TPS\")"
      ]
    },
    {
      "cell_type": "markdown",
      "metadata": {},
      "source": [
        "**2)**"
      ]
    },
    {
      "cell_type": "code",
      "execution_count": 84,
      "metadata": {},
      "outputs": [
        {
          "name": "stdout",
          "output_type": "stream",
          "text": [
            "Al mes 13 es cuando se tiene un rendimiento aproximado de 23.4 miles de TPS\n"
          ]
        }
      ],
      "source": [
        "import math\n",
        "n = 1\n",
        "a_n = 23.4\n",
        "\n",
        "def truncate_number(n, n_decimals):\n",
        "   factor = 10 ** n_decimals\n",
        "   tmp = math.trunc(n * factor)\n",
        "   return tmp / factor\n",
        "\n",
        "\n",
        "while f(n) <= a_n + 1:\n",
        "   if truncate_number(f(n), 1) == a_n:\n",
        "      print(f\"Al mes {n} es cuando se tiene un rendimiento aproximado de {truncate_number(f(n), 1)} miles de TPS\")\n",
        "      break\n",
        "   n += 1\n",
        "else:\n",
        "   print(f\"{a_n} no se encuentra en la sucesión\")"
      ]
    },
    {
      "cell_type": "markdown",
      "metadata": {
        "id": "jxQyaJXUCW7m"
      },
      "source": [
        "# Problema 11"
      ]
    },
    {
      "cell_type": "markdown",
      "metadata": {
        "id": "8LdxsBUwDfbf"
      },
      "source": [
        "Una aplicación de redes sociales inició el $1$ de enero y comenzó a ganar usuarios rápidamente. El $3$ de enero tenía $500$ usuarios y el $10$ de enero tenía $1.501$ usuarios. Si el número de usuarios sigue creciendo de manera constante, determine:\n",
        "\n",
        "1. ¿Con cuántos usuarios comenzó a funcionar la aplicación?\n",
        "2. ¿Cuántos usuarios tendrá la aplicación el $31$ de enero?\n",
        "3. Si la aplicación tiene $5.505$ usuarios, ¿cuántos meses lleva funcionando?\n",
        "\n"
      ]
    },
    {
      "cell_type": "markdown",
      "metadata": {},
      "source": [
        "# Solución"
      ]
    },
    {
      "cell_type": "markdown",
      "metadata": {},
      "source": [
        "**1)**"
      ]
    },
    {
      "cell_type": "markdown",
      "metadata": {},
      "source": [
        "$a_3 = 500$ y $a_10 = 1501$. Como el crecimiento es constante es una sucesión aritmética:\n",
        "\n",
        "$$a_n = a_1 + d \\cdot (n - 1)$$\n",
        "$$500 = a_1 + 2\\cdot d$$\n",
        "$$1501 = a_1 + 9 \\cdot d$$\n",
        "\n",
        "Calculand $d$\n",
        "$$1001 = 7 \\cdot d$$\n",
        "$$d = 143$$\n",
        " \n",
        "Calculando $a_1$\n",
        "$$500 = a_1 + 2 \\cdot 143$$\n",
        "$$500 = a_1 + 286$$\n",
        "$$a_1 = 214$$\n",
        "\n",
        "La aplicación comenzó a funcionar con 214 usuarios"
      ]
    },
    {
      "cell_type": "markdown",
      "metadata": {},
      "source": [
        "**2)**"
      ]
    },
    {
      "cell_type": "code",
      "execution_count": 44,
      "metadata": {},
      "outputs": [
        {
          "name": "stdout",
          "output_type": "stream",
          "text": [
            "La aplicación tendrá 4504 usuarios el 31 de enero\n"
          ]
        }
      ],
      "source": [
        "def f(n):\n",
        "   return 214 + 143 * (n - 1)\n",
        "\n",
        "print(f\"La aplicación tendrá {f(31)} usuarios el 31 de enero\")"
      ]
    },
    {
      "cell_type": "markdown",
      "metadata": {},
      "source": [
        "**3)**"
      ]
    },
    {
      "cell_type": "code",
      "execution_count": 46,
      "metadata": {},
      "outputs": [
        {
          "name": "stdout",
          "output_type": "stream",
          "text": [
            "La aplicación lleva funcionando 38 días, o aproximadamente 1.23 meses\n"
          ]
        }
      ],
      "source": [
        "n = 1\n",
        "a_n = 5505\n",
        "\n",
        "while f(n) <= a_n:\n",
        "   if f(n) == a_n:\n",
        "      print(f\"La aplicación lleva funcionando {n} días, o aproximadamente {n/31:.2f} meses\")\n",
        "      break\n",
        "   n += 1\n",
        "else:\n",
        "   print(f\"{a_n} no se encuentra en la sucesión\")"
      ]
    },
    {
      "cell_type": "markdown",
      "metadata": {
        "id": "zBN3BhYVLLSe"
      },
      "source": [
        "# Problema 12"
      ]
    },
    {
      "cell_type": "markdown",
      "metadata": {
        "id": "kszkhh_GLQN1"
      },
      "source": [
        "Una empresa de publicidad ofrece para un puesto de trabajo un salario inicial y un aumento mensual en una razón constante. Javier se presenta a la entrevista, y el encargado del departamento de recursos humanos le explica que en el segundo mes de trabajo su sueldo será de $\\$402.000$, y que en el tercer mes de trabajo será de $\\$404.010$. Determine:\n",
        "\n",
        "1. El salario aproximado que Javier recibiría en el décimo mes de trabajo en la empresa.\n",
        "2. ¿Cuál sería el ingreso total recibido por los sueldos de Javier durante el tercer año de trabajo?"
      ]
    },
    {
      "cell_type": "markdown",
      "metadata": {},
      "source": [
        "# Solución"
      ]
    },
    {
      "cell_type": "markdown",
      "metadata": {},
      "source": [
        "**1)**"
      ]
    },
    {
      "cell_type": "markdown",
      "metadata": {},
      "source": [
        "Se trata de una sucesión geométrica donde $a_2 = 402000$ y $a_3 = 404010$\n",
        "\n",
        "Calculando $r$\n",
        "$$a_n = a_1 \\cdot r ^{(n-1)}$$\n",
        "$$402000 = a_1 \\cdot r$$\n",
        "$$404010 = a_1 \\cdot r ^ 2$$\n",
        "$$\\frac{404010}{402000} = \\frac{a_1 \\cdot r ^2}{a_1 \\cdot r}$$\n",
        "$$r = 1005$$\n",
        "\n",
        "Calculando $a_1$\n",
        "$$402000 = a_1 \\cdot 1,005$$\n",
        "$$a_1 = 400000$$"
      ]
    },
    {
      "cell_type": "code",
      "execution_count": 55,
      "metadata": {},
      "outputs": [
        {
          "name": "stdout",
          "output_type": "stream",
          "text": [
            "El trabajador recibirá $418_364 el décimo mes\n"
          ]
        }
      ],
      "source": [
        "a_1 = 400000\n",
        "r = 1.005\n",
        "def f(n):\n",
        "   return a_1 * r ** (n - 1) \n",
        "\n",
        "print(f\"El trabajador recibirá ${f(10):_.0f} el décimo mes\")"
      ]
    },
    {
      "cell_type": "markdown",
      "metadata": {},
      "source": [
        "**2)**"
      ]
    },
    {
      "cell_type": "markdown",
      "metadata": {},
      "source": [
        "Para saber el ingreso total durante el tercer año hay que sumar desde el mes $25$ hasta el $36$"
      ]
    },
    {
      "cell_type": "code",
      "execution_count": 54,
      "metadata": {},
      "outputs": [
        {
          "name": "stdout",
          "output_type": "stream",
          "text": [
            "El ingreso total fue de $5_561_660 pesos\n"
          ]
        }
      ],
      "source": [
        "suma = 0\n",
        "\n",
        "for i in range(25,37):\n",
        "   suma += f(i)\n",
        "\n",
        "print(f\"El ingreso total fue de ${suma:_.0f} pesos\")\n"
      ]
    },
    {
      "cell_type": "markdown",
      "metadata": {
        "id": "-lx5k4b9Y8sD"
      },
      "source": [
        "# Problema 13"
      ]
    },
    {
      "cell_type": "markdown",
      "metadata": {
        "id": "OVuWQuXsY_pp"
      },
      "source": [
        "Una empresa de ciberseguridad capacita trabajadores cada trimestre. En el primer trimestre capacitaron a $30$ trabajadores, en el segundo trimestre a $60$ trabajadores, y en el tercer trimestre a $120$ trabajadores. Si en los siguientes trimestres la empresa mantiene el mismo patrón de crecimiento, determine utilizando *Python*:\n",
        "\n",
        "1. ¿A cuántos trabajadores capacitarán en el octavo trimestre?\n",
        "2. Si la empresa lleva en el mercado $3$ años, ¿a cuántos trabajadores han capacitado en total?"
      ]
    },
    {
      "cell_type": "markdown",
      "metadata": {},
      "source": [
        "# Solución"
      ]
    },
    {
      "cell_type": "markdown",
      "metadata": {},
      "source": [
        "**1)**"
      ]
    },
    {
      "cell_type": "markdown",
      "metadata": {},
      "source": [
        "Siendo una sucesión geométrica con $a_1 = 30$, $a_2 = 60$ y $a_3 = 120$, se calcula r:\n",
        "\n",
        "$$a_n = a_1 * r ^ {(n - 1)}$$\n",
        "$$60 = 30 * r$$\n",
        "$$r = 2$$"
      ]
    },
    {
      "cell_type": "code",
      "execution_count": 57,
      "metadata": {},
      "outputs": [
        {
          "name": "stdout",
          "output_type": "stream",
          "text": [
            "Se capacitarán 3840 trabajadores el octavo semestre\n"
          ]
        }
      ],
      "source": [
        "a_1 = 30\n",
        "r = 2\n",
        "def f(n):\n",
        "   return a_1 * 2 ** (n - 1)\n",
        "\n",
        "print(f\"Se capacitarán {f(8)} trabajadores el octavo semestre\")"
      ]
    },
    {
      "cell_type": "markdown",
      "metadata": {},
      "source": [
        "**2)**"
      ]
    },
    {
      "cell_type": "markdown",
      "metadata": {},
      "source": [
        "Hay $4$ trimestres en un año, entonces en $3$ años hay que calcular la suma de los primeros $12$ trimestres:"
      ]
    },
    {
      "cell_type": "code",
      "execution_count": 59,
      "metadata": {},
      "outputs": [
        {
          "name": "stdout",
          "output_type": "stream",
          "text": [
            "Se han capacitado 122_850 trabajadores en total\n"
          ]
        }
      ],
      "source": [
        "suma = 0\n",
        "for i in range(1, 13):\n",
        "   suma += f(i)\n",
        "\n",
        "print(f\"Se han capacitado {suma:_} trabajadores en total\")"
      ]
    },
    {
      "cell_type": "markdown",
      "metadata": {
        "id": "IM7Xf51G6AXs"
      },
      "source": [
        "# Problema 14"
      ]
    },
    {
      "cell_type": "markdown",
      "metadata": {
        "id": "Ni_4WMQl6OeV"
      },
      "source": [
        "Al llenar un tambor con agua, se registra que durante el minuto $4$ el tambor recibe $128$ litros, y durante el minuto $9$ recibe $88$ litros. Sabiendo que en cada minuto recibe una cantidad $d$ de litros de agua menos que en el minuto anterior, determine:\n",
        "\n",
        "1. ¿En qué instante el tambor deja de recibir agua?\n",
        "2. ¿Cuántos litros recibe en total el tambor?\n",
        "\n",
        "Realice los cálculos anteriores utilizando *Python*."
      ]
    },
    {
      "cell_type": "markdown",
      "metadata": {},
      "source": [
        "# Solución"
      ]
    },
    {
      "cell_type": "markdown",
      "metadata": {},
      "source": [
        "**1)**"
      ]
    },
    {
      "cell_type": "markdown",
      "metadata": {},
      "source": [
        "Se trata de una sucesión aritmética donde $a_4 = 128$ y $a_9 = 88$. Entonces:\n",
        "\n",
        "Calculando $d$\n",
        "$$a_n = a_1 + d \\cdot (n - 1)$$\n",
        "$$128 = a_1 + 3 \\cdot d$$\n",
        "$$88 = a_1 + 8 \\cdot d$$\n",
        "$$40 = -5 \\cdot d$$\n",
        "$$d = -8$$\n",
        "\n",
        "Calculando $a_1$\n",
        "$$128 = a_1 + 3 \\cdot -8$$\n",
        "$$a_1 = 152$$\n",
        "\n",
        "Así:\n",
        "$$a_n = 152 - 8 (n - 1)$$"
      ]
    },
    {
      "cell_type": "code",
      "execution_count": 61,
      "metadata": {},
      "outputs": [
        {
          "name": "stdout",
          "output_type": "stream",
          "text": [
            "se deja de recibir agua en el minuto 20\n"
          ]
        }
      ],
      "source": [
        "a_1 = 152\n",
        "d = -8\n",
        "def f(n):\n",
        "   return a_1 + d * (n - 1)\n",
        "\n",
        "n = 1\n",
        "a_n = 0\n",
        "\n",
        "while f(n) >= a_n:\n",
        "   if f(n) == a_n:\n",
        "      print(f\"se deja de recibir agua en el minuto {n}\")\n",
        "      break\n",
        "   n += 1"
      ]
    },
    {
      "cell_type": "markdown",
      "metadata": {},
      "source": [
        "**2)**"
      ]
    },
    {
      "cell_type": "code",
      "execution_count": 62,
      "metadata": {},
      "outputs": [
        {
          "name": "stdout",
          "output_type": "stream",
          "text": [
            "El tambor recibe 1520 litros en total\n"
          ]
        }
      ],
      "source": [
        "suma = 0\n",
        "\n",
        "for i in range(1, 21):\n",
        "   suma += f(i)\n",
        "\n",
        "print(f\"El tambor recibe {suma} litros en total\")"
      ]
    }
  ],
  "metadata": {
    "colab": {
      "provenance": []
    },
    "kernelspec": {
      "display_name": "Python 3",
      "name": "python3"
    },
    "language_info": {
      "codemirror_mode": {
        "name": "ipython",
        "version": 3
      },
      "file_extension": ".py",
      "mimetype": "text/x-python",
      "name": "python",
      "nbconvert_exporter": "python",
      "pygments_lexer": "ipython3",
      "version": "3.12.6"
    }
  },
  "nbformat": 4,
  "nbformat_minor": 0
}
