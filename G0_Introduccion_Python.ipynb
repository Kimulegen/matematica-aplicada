{
  "cells": [
    {
      "cell_type": "markdown",
      "metadata": {
        "id": "t48ZzDLtux0T"
      },
      "source": [
        "# Problema 1"
      ]
    },
    {
      "cell_type": "markdown",
      "metadata": {
        "id": "cWCfLm-fvNTx"
      },
      "source": [
        "Escribe un código que pida al usuario ingresar un número real y determine si el número ingresado es positivo, negativo o cero."
      ]
    },
    {
      "cell_type": "code",
      "execution_count": null,
      "metadata": {},
      "outputs": [],
      "source": [
        "def evaluate_sign(n):\n",
        "    if n == 0:\n",
        "        return \"Es 0\"\n",
        "    return \"Es positivo\" if n > 0 else \"Es negativo\"\n",
        "\n",
        "def main():\n",
        "    try:\n",
        "        number = float(input(\"Ingresa un número\"))\n",
        "        print(evaluate_sign(number))\n",
        "    except ValueError:\n",
        "        print(\"Error, ingresaste un número?\")\n",
        "    \n",
        "main()"
      ]
    },
    {
      "cell_type": "markdown",
      "metadata": {
        "id": "6civkm_Pwf1B"
      },
      "source": [
        "# Problema 2"
      ]
    },
    {
      "cell_type": "markdown",
      "metadata": {
        "id": "rjeAxtJ4x9h6"
      },
      "source": [
        "Escribe un código que pida al usuario ingresar un número entero y que determine si el número ingresado es par o impar.\n"
      ]
    },
    {
      "cell_type": "code",
      "execution_count": null,
      "metadata": {},
      "outputs": [],
      "source": [
        "def check_odd_even(n):\n",
        "    return \"Es par\" if n % 2 == 0 else \"Es impar\"\n",
        "    \n",
        "def main():\n",
        "    try:\n",
        "        number = int(input(\"Ingrese un número entero\"))\n",
        "        print(check_odd_even(number))\n",
        "    except ValueError:\n",
        "        print(\"Error, ingresaste un número entero?\")\n",
        "    \n",
        "main()"
      ]
    },
    {
      "cell_type": "markdown",
      "metadata": {
        "id": "rLA34mTgxuSf"
      },
      "source": [
        "# Problema 3"
      ]
    },
    {
      "cell_type": "markdown",
      "metadata": {
        "id": "6E3zFuZSwigv"
      },
      "source": [
        "Escribe un código que, mediante un ciclo *while*, sume los primeros $100$ números naturales."
      ]
    },
    {
      "cell_type": "code",
      "execution_count": null,
      "metadata": {},
      "outputs": [],
      "source": [
        "def sum_first_100():\n",
        "    n = 1\n",
        "    sum = 0\n",
        "    while n < 101:\n",
        "        sum += n\n",
        "        n +=1\n",
        "    return sum\n",
        "\n",
        "def main():\n",
        "    print(sum_first_100())\n",
        "    \n",
        "main()"
      ]
    },
    {
      "cell_type": "markdown",
      "metadata": {
        "id": "pZpuARSKz4zw"
      },
      "source": [
        "# Problema 4"
      ]
    },
    {
      "cell_type": "markdown",
      "metadata": {
        "id": "SxGOLjlnz6y_"
      },
      "source": [
        "Escribe un código que almacene en una variable el *string* \"Contraseña\". Luego, el programa debe solicitar al usuario \"Introducir contraseña\", hasta que la palabra ingresada sea correcta. <sup><a href=\"#footnote1\" id=\"ref1\">1</a></sup>\n",
        "\n",
        "\n",
        "<p id=\"footnote1\"><sup>1</sup> String: Tipo de dato que almacena texto."
      ]
    },
    {
      "cell_type": "code",
      "execution_count": null,
      "metadata": {},
      "outputs": [],
      "source": [
        "def check_pwd():\n",
        "    pwd = \"Contraseña\"\n",
        "    while True:\n",
        "        user_input = input(\"Introducir constraseña\")\n",
        "        if user_input == pwd:\n",
        "            print(\"Bienvenido\")\n",
        "            break\n",
        "        print(\"Contraseña incorrecta, intente de nuevo\")\n",
        "    \n",
        "check_pwd()"
      ]
    },
    {
      "cell_type": "markdown",
      "metadata": {
        "id": "bXAO6t1V1psK"
      },
      "source": [
        "# Problema 5"
      ]
    },
    {
      "cell_type": "markdown",
      "metadata": {
        "id": "nXwlwVHI11wC"
      },
      "source": [
        "Escribe un código que, utilizando un ciclo *for*, pida al usuario ingresar un número entero y muestre la tabla de multiplicar desde el 1 al 12 de dicho número."
      ]
    },
    {
      "cell_type": "code",
      "execution_count": null,
      "metadata": {},
      "outputs": [],
      "source": [
        "def mult_table(multiplicand, multiplier):\n",
        "    for i in range(1, multiplier + 1):\n",
        "        print(f\"{multiplicand} x {str(i).rjust(2)} = {multiplicand * i}\")\n",
        "        \n",
        "        \n",
        "def main():\n",
        "    try:\n",
        "        number = int(input(\"Ingresa un número entero\"))\n",
        "        mult_table(number, 12)\n",
        "    except ValueError:\n",
        "        print(\"Error, ingresaste un número entero?\")\n",
        "\n",
        "main()"
      ]
    },
    {
      "cell_type": "markdown",
      "metadata": {
        "id": "UroIuMyFCKax"
      },
      "source": [
        "# Problema 6"
      ]
    },
    {
      "cell_type": "markdown",
      "metadata": {
        "id": "VoiJyh0zCMzX"
      },
      "source": [
        "1. Escribe una función que reciba dos números y retorne el producto de los números recibidos.\n",
        "1. Escribe una nueva función que tome el producto calculado en el ítem anterior y redondee el valor al entero.\n",
        "1. Pide al usuario que ingrese dos números, y utiliza ambas funciones para imprimir el valor de la multiplicación redondeado al entero."
      ]
    },
    {
      "cell_type": "code",
      "execution_count": 7,
      "metadata": {},
      "outputs": [
        {
          "name": "stdout",
          "output_type": "stream",
          "text": [
            "372\n"
          ]
        }
      ],
      "source": [
        "def mult(a, b):\n",
        "    return a * b\n",
        "\n",
        "def round_number (n):\n",
        "    return int(n)\n",
        "\n",
        "def main():\n",
        "    n1 = float(input(\"Ingresa el primer número\"))\n",
        "    n2 = float(input(\"Ingresa el segundo número\"))\n",
        "    \n",
        "    print(round_number(mult(n1,n2)))\n",
        "\n",
        "main()"
      ]
    },
    {
      "cell_type": "markdown",
      "metadata": {
        "id": "GHMOEBgQDvUw"
      },
      "source": [
        "# Problema 7"
      ]
    },
    {
      "cell_type": "markdown",
      "metadata": {
        "id": "I77oq5plD50H"
      },
      "source": [
        "La fórmula que permite convertir los grados Celsius a Fahrenheit es la siguiente:\n",
        "\n",
        "$$ F = \\frac{9}{5} C + 32$$\n",
        "\n",
        "1. Crea una función que permita realizar esta conversión.\n",
        "1. Luego, pide al usuario que ingrese la temperatura en grados Celsius y utiliza la función para calcular su equivalente en grados Fahrenheit.\n",
        "1. Imprime el resultado redondeado a la centésima."
      ]
    },
    {
      "cell_type": "code",
      "execution_count": null,
      "metadata": {},
      "outputs": [],
      "source": [
        "def c_to_f(c):\n",
        "    return (9/5)*c + 32\n",
        "\n",
        "def main():\n",
        "    try:\n",
        "        c = float(input(\"Ingresa la temperatura en celsius a convertir\"))\n",
        "        f = c_to_f(c)\n",
        "        print(f\"La temperatura en Fahrenheit es {round(f, 2)}\")\n",
        "    except ValueError:\n",
        "        print(\"Error, ingresaste un número?\")\n",
        "        \n",
        "main()"
      ]
    },
    {
      "cell_type": "markdown",
      "metadata": {
        "id": "yC4Sju1KGQFn"
      },
      "source": [
        "# Problema 8"
      ]
    },
    {
      "cell_type": "markdown",
      "metadata": {
        "id": "Qw6j4zbSG0NH"
      },
      "source": [
        "1. Escribe un código que importe el módulo *random* y utiliza la función *randint()* para generar diez números aleatorios entre $1$ y $100$, y almacénalos en una lista.\n",
        "1. Imprime en pantalla la lista con los diez números generados.\n",
        "1. Utiliza la indexación en *Python* para acceder al segundo y sexto elemento de la lista. Ten en cuenta que en *Python* los índices comienzan en $0$. ¿Cómo imprimirías estos elementos?"
      ]
    },
    {
      "cell_type": "code",
      "execution_count": null,
      "metadata": {},
      "outputs": [],
      "source": [
        "from random import randint\n",
        "\n",
        "def generate_randints(n):\n",
        "    random_ints = []\n",
        "    for i in range(n):\n",
        "        random_ints.append(randint(1, 100))\n",
        "    \n",
        "    return random_ints\n",
        "def main():\n",
        "    rand_ints = generate_randints(10)\n",
        "    for n in rand_ints:\n",
        "        print(n)\n",
        "    \n",
        "    print(f\"El segundo elemento es {rand_ints[1]}\")\n",
        "    print(f\"El sexto elemento es {rand_ints[5]}\")\n",
        "    \n",
        "main()"
      ]
    },
    {
      "cell_type": "markdown",
      "metadata": {
        "id": "qlwdqEfzHrL_"
      },
      "source": [
        "# Problema 9"
      ]
    },
    {
      "cell_type": "markdown",
      "metadata": {
        "id": "iqH0iITmJH-P"
      },
      "source": [
        "El Índice de Masa Corporal (IMC) es una medida que se utiliza para evaluar si una persona se encuentra en un peso saludable con respecto a su estatura. La fórmula para calcular esta medida es:\n",
        "\n",
        "<br>\n",
        "\n",
        "$$ \\textrm{IMC} = \\frac{\\textrm{peso} \\ \\ (\\textrm{kg})}{(\\textrm{altura} \\ \\ (\\textrm{m}))^{2}}$$\n",
        "\n",
        "<br>\n",
        "\n",
        "El valor obtenido con el IMC, de acuerdo con la Organización Mundial de la Salud (OMS) indica si la persona tiene un peso bajo, normal, sobrepeso u obesidad. La clasificación es la siguiente:\n",
        "\n",
        "<br>\n",
        "\n",
        "* Bajo peso: IMC menor a $18,5 \\ \\  \\textrm{kg/m}^{2}$\n",
        "* Peso normal: IMC entre $18,5 \\ \\ \\textrm{kg/m}^{2}$ y $24,9 \\ \\ \\textrm{kg/m}^{2}$\n",
        "* Sobrepeso: IMC entre $25 \\ \\ \\textrm{kg/m}^{2}$ y $29,9 \\ \\ \\textrm{kg/m}^{2}$\n",
        "* Obesidad: IMC de $30 \\ \\ \\textrm{kg/m}^{2}$ o mayor\n",
        "\n",
        "<br>\n",
        "\n",
        "Aunque el IMC es una forma eficaz de evaluar el peso, no tiene en cuenta factores como la distribución de grasa, la masa muscular y otros rasgos de la salud física.\n",
        "\n",
        "<br>\n",
        "\n",
        "1. Considerando la información entregada, implementa un código que permita calcular mediante una función, el valor del IMC de una persona. Luego, solicita al usuario valores de masa y altura e indica, mediante el uso de condicionales, la categoría de la persona según el IMC calculado.\n",
        "1. Considera la siguiente tabla de valores, que muestra el peso y el IMC de once estudiantes. Guarda los valores del IMC en una lista e imprime en pantalla los estudiantes que, según el criterio de la OMS, están en **bajo peso**. Además, para cada IMC que esté en bajo peso, índica también el índice en la lista donde se encuentra.\n",
        "\n",
        "<p><center>\n",
        "\n",
        "| N°      | Peso $(\\textrm{kg})$ | IMC $(\\textrm{kg/m}^{2})$|\n",
        "|---------|----------------------|--------------------------|\n",
        "|$$ 1 $$  | $$29,5 $$            | $$16,43$$                |\n",
        "|$$ 2 $$  | $$37,3 $$            | $$19,31$$                |\n",
        "|$$ 3 $$  | $$38   $$            | $$10,25$$                |\n",
        "|$$ 4 $$  | $$31   $$            | $$18,63$$                |\n",
        "|$$ 5 $$  | $$36   $$            | $$17,85$$                |\n",
        "|$$ 6 $$  | $$40,4 $$            | $$19,76$$                |\n",
        "|$$ 7 $$  | $$47   $$            | $$23,64$$                |\n",
        "|$$ 8 $$  | $$43   $$            | $$21,94$$                |\n",
        "|$$ 9 $$  | $$36   $$            | $$21,3 $$                |\n",
        "|$$ 10$$  | $$40,1 $$            | $$22,67$$                |\n",
        "|$$ 11$$  | $$27   $$            | $$16,48$$                |\n",
        "\n",
        "</center></p>\n",
        "\n"
      ]
    },
    {
      "cell_type": "code",
      "execution_count": 19,
      "metadata": {},
      "outputs": [
        {
          "name": "stdout",
          "output_type": "stream",
          "text": [
            "El Índice de Masa Corporal de la persona es 0.08333333333333333\n",
            "Pertenece a la categoría: Bajo peso\n",
            "El estudiante n° 1 está bajo de peso\n",
            "El estudiante n° 3 está bajo de peso\n",
            "El estudiante n° 5 está bajo de peso\n",
            "El estudiante n° 12 está bajo de peso\n"
          ]
        }
      ],
      "source": [
        "def calculate_bmi(weight, height):\n",
        "    return (weight) / (height ** 2)\n",
        "\n",
        "def cat_bmi(bmi):\n",
        "    if bmi < 18.5:\n",
        "        return \"Bajo peso\"\n",
        "    elif bmi < 24.9:\n",
        "        return \"Peso normal\"\n",
        "    elif bmi < 29.9:\n",
        "        return \"Sobrepeso\"\n",
        "    else:\n",
        "        return \"Obesidad\"\n",
        "\n",
        "def calculate_user_bmi():\n",
        "    try:\n",
        "        weight = float(input(\"Ingresa el peso de la persona en kilogramos\"))\n",
        "        height = float(input(\"Ingresa la altura de la persona en metros\"))\n",
        "        bmi = calculate_bmi(weight, height)\n",
        "        print(f\"El Índice de Masa Corporal de la persona es {bmi}\\nPertenece a la categoría: {cat_bmi(bmi)}\")\n",
        "        \n",
        "    except ValueError:\n",
        "        print(\"Error, ingresaste datos numéricos?\")\n",
        "\n",
        "\n",
        "def main():\n",
        "    students_bmi = [16.43, 19.31,10.25, 18.63, 17,85, 19.76, 23.64, 21.94, 21.3, 22.67, 16.48]\n",
        "    \n",
        "    calculate_user_bmi()\n",
        "    \n",
        "    for i, bmi in enumerate(students_bmi):\n",
        "        if cat_bmi(bmi) == \"Bajo peso\":\n",
        "            print(f\"El estudiante n° {i+1} está bajo de peso\")\n",
        "            \n",
        "main()"
      ]
    }
  ],
  "metadata": {
    "colab": {
      "provenance": [],
      "toc_visible": true
    },
    "kernelspec": {
      "display_name": "Python 3",
      "name": "python3"
    },
    "language_info": {
      "codemirror_mode": {
        "name": "ipython",
        "version": 3
      },
      "file_extension": ".py",
      "mimetype": "text/x-python",
      "name": "python",
      "nbconvert_exporter": "python",
      "pygments_lexer": "ipython3",
      "version": "3.10.12"
    }
  },
  "nbformat": 4,
  "nbformat_minor": 0
}
