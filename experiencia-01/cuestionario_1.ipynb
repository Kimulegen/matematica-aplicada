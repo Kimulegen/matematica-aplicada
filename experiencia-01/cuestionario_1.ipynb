{
 "cells": [
  {
   "cell_type": "code",
   "execution_count": 6,
   "metadata": {},
   "outputs": [],
   "source": [
    "from scipy.optimize import fsolve\n",
    "import numpy as np"
   ]
  },
  {
   "cell_type": "markdown",
   "metadata": {},
   "source": [
    "# Pregunta 1"
   ]
  },
  {
   "cell_type": "markdown",
   "metadata": {},
   "source": [
    "De un mismo hogar han sido robados simultáneamente, una moto y un automóvil, los cuales están siendo monitoreados por su dueño a través de dispositivos de rastreo GPS. Al cabo de x minutos del robo, la moto se desplaza con una velocidad en km/h dada por la función $r(x)$, mientras que, en ese mismo instante, el automóvil tiene una velocidad también medida en km/h dada por la función $s(x)$.\n",
    "\n",
    "$$r(x) = 1.4x^2 - 5.6x + 12.6$$\n",
    "$$s(x) = -1.6x^2 + 1.3x + 141.3$$"
   ]
  },
  {
   "cell_type": "code",
   "execution_count": 1,
   "metadata": {},
   "outputs": [
    {
     "name": "stdout",
     "output_type": "stream",
     "text": [
      "[-5.5  7.8]\n"
     ]
    }
   ],
   "source": [
    "def r(x):\n",
    "   return 1.4 * x ** 2 - 5.6 * x + 12.6\n",
    "\n",
    "def s(x):\n",
    "   return -1.6 * x ** 2 + 1.3 * x + 141.3\n",
    "\n",
    "def inter(x):\n",
    "   return r(x) - s(x)\n",
    "\n",
    "x = np.linspace(-100,100,2)\n",
    "\n",
    "roots = fsolve(inter, x)\n",
    "\n",
    "print(roots)"
   ]
  },
  {
   "cell_type": "markdown",
   "metadata": {},
   "source": [
    "# Pregunta 2"
   ]
  },
  {
   "cell_type": "markdown",
   "metadata": {},
   "source": [
    "Una empresa desarrolladora de aplicaciones móviles utiliza campañas de marketing digital para aumentar la cantidad de usuarios activos diarios en su aplicación. El número de usuarios activos diarios U(x) en función del número de campañas publicitarias x que se realizan está modelado por la función:\n",
    "\n",
    "$$U(x) = 150x + 100$$\n",
    "\n",
    "donde $U(x)$ representa el número de usuarios activos diarios y ﻿x﻿ es el número de campañas publicitarias.\n",
    "\n",
    "La empresa ha decidido invertir en un máximo de 15 campañas publicitarias para promocionar la aplicación.\n",
    "\n",
    "¿Cuál es el dominio contextualizado de la función $U(x)$?"
   ]
  },
  {
   "cell_type": "markdown",
   "metadata": {},
   "source": [
    "# Solución"
   ]
  },
  {
   "cell_type": "markdown",
   "metadata": {},
   "source": [
    "$$D:{x|\\\\0\\leq x \\leq 15}"
   ]
  },
  {
   "cell_type": "markdown",
   "metadata": {},
   "source": [
    "# Pregunta 3"
   ]
  },
  {
   "cell_type": "markdown",
   "metadata": {},
   "source": [
    "Una empresa de tecnología está experimentando un crecimiento exponencial en la cantidad de datos almacenados en su servidor. La cantidad de datos (en terabytes) almacenados después de t meses está modelada por la función exponencial:\n",
    "\n",
    "$$D(t) = 50{e}^{0.3t}$$\n",
    "\n",
    "donde $D(t)$ es la cantidad de datos almacenados y $t$ es el tiempo en meses.\n",
    "\n",
    "\n",
    "\n",
    "¿En cuántos meses el servidor alcanzará los 551 terabytes de datos almacenados?"
   ]
  },
  {
   "cell_type": "code",
   "execution_count": 3,
   "metadata": {},
   "outputs": [
    {
     "name": "stdout",
     "output_type": "stream",
     "text": [
      "[7.99903935]\n"
     ]
    }
   ],
   "source": [
    "def d(t):\n",
    "   return 50 * np.exp(0.3*t)\n",
    "\n",
    "def d_551(t):\n",
    "   return d(t) - 551\n",
    "\n",
    "t = np.linspace(0,100,1)\n",
    "\n",
    "roots = fsolve(d_551,t)\n",
    "\n",
    "print(roots)"
   ]
  },
  {
   "cell_type": "markdown",
   "metadata": {},
   "source": [
    "# Pregunta 4"
   ]
  },
  {
   "cell_type": "markdown",
   "metadata": {},
   "source": [
    "Una empresa de tecnología está experimentando un crecimiento exponencial en la cantidad de datos almacenados en su servidor. La cantidad de datos (en terabytes) almacenados después de t meses está modelada por la función exponencial:\n",
    "\n",
    "$$D(t) = 50{e}^{0.3t}$$\n",
    "\n",
    "donde $D(t)$ es la cantidad de datos almacenados y $t$ es el tiempo en meses.\n",
    "\n",
    "\n",
    "¿Cuántos datos, en terabytes, habrá aproximadamente almacenados después de 6 meses?"
   ]
  },
  {
   "cell_type": "code",
   "execution_count": 4,
   "metadata": {},
   "outputs": [
    {
     "name": "stdout",
     "output_type": "stream",
     "text": [
      "302.4823732206472\n"
     ]
    }
   ],
   "source": [
    "def d(t):\n",
    "   return 50 * np.exp(0.3*t)\n",
    "\n",
    "print(d(6))"
   ]
  },
  {
   "cell_type": "markdown",
   "metadata": {},
   "source": [
    "# Pregunta 5"
   ]
  },
  {
   "cell_type": "markdown",
   "metadata": {},
   "source": [
    "El siguiente gráfico representa la temperatura de un producto industrial. Al hacer el análisis resultó que el valor de la temperatura, en °C, depende del tiempo transcurrido desde que inicia el proceso productivo (en minutos).\n",
    "\n",
    "![[imagen6]]"
   ]
  },
  {
   "cell_type": "markdown",
   "metadata": {},
   "source": [
    "# Solución"
   ]
  },
  {
   "cell_type": "markdown",
   "metadata": {},
   "source": [
    "A los $0$ minutos la temperatura es de $6$ °C"
   ]
  },
  {
   "cell_type": "markdown",
   "metadata": {},
   "source": [
    "# Pregunta 6"
   ]
  },
  {
   "cell_type": "markdown",
   "metadata": {},
   "source": [
    "# Solución"
   ]
  },
  {
   "cell_type": "markdown",
   "metadata": {},
   "source": [
    "# Pregunta 7"
   ]
  },
  {
   "cell_type": "markdown",
   "metadata": {},
   "source": [
    "# Solución"
   ]
  },
  {
   "cell_type": "code",
   "execution_count": 5,
   "metadata": {},
   "outputs": [
    {
     "name": "stdout",
     "output_type": "stream",
     "text": [
      "650\n"
     ]
    }
   ],
   "source": [
    "def m(x):\n",
    "   return x ** 3 - 4 * x **2 + 5 * x\n",
    "\n",
    "print(m(10))"
   ]
  },
  {
   "cell_type": "markdown",
   "metadata": {},
   "source": [
    "# Pregunta 8"
   ]
  },
  {
   "cell_type": "markdown",
   "metadata": {},
   "source": [
    "Una empresa de tecnología utiliza un servicio en la nube para procesar datos. El costo mensual de procesamiento de datos está dado por la función lineal:\n",
    "\n",
    "$$C(n) = 50n + 200$$\n",
    "\n",
    "\n",
    "Donde $C(n)$ es el costo mensual en dólares y $n$ es la cantidad de terabytes (TB) de datos procesados.\n",
    "\n",
    "\n",
    "Si el costo de procesar datos es de 1.500 dólares, ¿cuántos terabytes de datos fueron procesados?"
   ]
  },
  {
   "cell_type": "markdown",
   "metadata": {},
   "source": [
    "# Solución"
   ]
  },
  {
   "cell_type": "code",
   "execution_count": 7,
   "metadata": {},
   "outputs": [
    {
     "name": "stdout",
     "output_type": "stream",
     "text": [
      "[26.]\n"
     ]
    }
   ],
   "source": [
    "def c(n):\n",
    "   return 50*n + 200\n",
    "\n",
    "def c_1500(n):\n",
    "   return c(n) - 1500\n",
    "\n",
    "n = np.linspace(0,100,1)\n",
    "\n",
    "roots = fsolve(c_1500, n)\n",
    "\n",
    "print(roots)"
   ]
  },
  {
   "cell_type": "markdown",
   "metadata": {},
   "source": [
    "# Pregunta 9"
   ]
  },
  {
   "cell_type": "markdown",
   "metadata": {},
   "source": [
    "Una empresa de tecnología utiliza un servicio en la nube para procesar datos. El costo mensual de procesamiento de datos está dado por la función lineal:\n",
    "\n",
    "$$C(n) = 50n + 200$$\n",
    "\n",
    "\n",
    "Donde $C(n)$ es el costo mensual en dólares y $n$ es la cantidad de terabytes (TB) de datos procesados.\n",
    "\n",
    "\n",
    "¿Cuál es el costo de procesamiento, si se procesan 20 TB de datos?"
   ]
  },
  {
   "cell_type": "markdown",
   "metadata": {},
   "source": [
    "# Solución"
   ]
  },
  {
   "cell_type": "code",
   "execution_count": 8,
   "metadata": {},
   "outputs": [
    {
     "name": "stdout",
     "output_type": "stream",
     "text": [
      "1200\n"
     ]
    }
   ],
   "source": [
    "print(c(20))"
   ]
  },
  {
   "cell_type": "markdown",
   "metadata": {},
   "source": [
    "# Pregunta 10"
   ]
  },
  {
   "cell_type": "markdown",
   "metadata": {},
   "source": [
    "# Solución"
   ]
  },
  {
   "cell_type": "markdown",
   "metadata": {},
   "source": [
    "# Pregunta 11"
   ]
  },
  {
   "cell_type": "markdown",
   "metadata": {},
   "source": [
    "Un sistema de base de datos tiene un esquema de almacenamiento cuyo tamaño en gigabytes está dado por la función: \n",
    "\n",
    "$$S(n) = 2n^2 + 3n +5$$\n",
    "\n",
    "donde $n$ es el número de registros almacenados en la base de datos.\n",
    "\n",
    "\n",
    "El administrador de la base de datos necesita saber, ¿cuántos registros se pueden almacenar sin que el tamaño supere los 500 gigabytes?"
   ]
  },
  {
   "cell_type": "markdown",
   "metadata": {},
   "source": [
    "# Solución"
   ]
  },
  {
   "cell_type": "code",
   "execution_count": 9,
   "metadata": {},
   "outputs": [
    {
     "name": "stdout",
     "output_type": "stream",
     "text": [
      "[15.]\n"
     ]
    }
   ],
   "source": [
    "def s(n):\n",
    "   return 2 * n ** 2 + 3 * n + 5\n",
    "\n",
    "def s_500(n):\n",
    "   return s(n) - 500\n",
    "\n",
    "n = np.linspace(0,100,1)\n",
    "\n",
    "roots = fsolve(s_500, n)\n",
    "\n",
    "print(roots)"
   ]
  },
  {
   "cell_type": "markdown",
   "metadata": {},
   "source": [
    "# Pregunta 12"
   ]
  },
  {
   "cell_type": "markdown",
   "metadata": {},
   "source": [
    "Un sistema de base de datos tiene un esquema de almacenamiento cuyo tamaño en gigabytes está dado por la función: \n",
    "\n",
    "$$S(n) = 2n^2 + 3n +5$$\n",
    "\n",
    "donde $n$ es el número de registros almacenados en la base de datos.\n",
    "\n",
    "\n",
    "Si la base de datos posee 50 registros, ¿cuál es el tamaño de almacenamiento?"
   ]
  },
  {
   "cell_type": "markdown",
   "metadata": {},
   "source": [
    "# Solución"
   ]
  },
  {
   "cell_type": "code",
   "execution_count": 10,
   "metadata": {},
   "outputs": [
    {
     "name": "stdout",
     "output_type": "stream",
     "text": [
      "5155\n"
     ]
    }
   ],
   "source": [
    "print(s(50))"
   ]
  },
  {
   "cell_type": "markdown",
   "metadata": {},
   "source": [
    "# Pregunta 13"
   ]
  },
  {
   "cell_type": "markdown",
   "metadata": {},
   "source": [
    "# Solución"
   ]
  },
  {
   "cell_type": "markdown",
   "metadata": {},
   "source": [
    "# Pregunta 14"
   ]
  },
  {
   "cell_type": "markdown",
   "metadata": {},
   "source": [
    "A continuación, se presenta una tabla que muestra la relación entre el número de horas de capacitación (en horas) que un equipo de desarrollo ha recibido y su productividad.\n",
    "\n",
    "\n",
    "​Horas de Capacitación ﻿t﻿\n",
    "\n",
    "​Productividad ﻿P paréntesis izquierdo t paréntesis derecho﻿\n",
    "\n",
    "​5\n",
    "\n",
    "​50\n",
    "\n",
    "​10\n",
    "\n",
    "​80\n",
    "\n",
    "​15\n",
    "\n",
    "​110\n",
    "\n",
    "​20\n",
    "\n",
    "​140\n",
    "\n"
   ]
  },
  {
   "cell_type": "markdown",
   "metadata": {},
   "source": [
    "# Solución"
   ]
  },
  {
   "cell_type": "code",
   "execution_count": 14,
   "metadata": {},
   "outputs": [
    {
     "name": "stdout",
     "output_type": "stream",
     "text": [
      "6.000000000000001 19.999999999999986\n"
     ]
    }
   ],
   "source": [
    "horas_cap = np.array([5,10,15,20])\n",
    "prod = np.array([50,80,110,140])\n",
    "\n",
    "m, n = np.polyfit(horas_cap, prod, 1)\n",
    "\n",
    "print(m,n)"
   ]
  },
  {
   "cell_type": "markdown",
   "metadata": {},
   "source": [
    "# Pregunta 15"
   ]
  },
  {
   "cell_type": "markdown",
   "metadata": {},
   "source": [
    "Imagina que estás desarrollando una plataforma en línea que ofrece servicios premium a sus usuarios mediante un modelo de suscripción. Como parte del equipo de análisis de negocio, te han solicitado que determines el punto de equilibrio, es decir, el momento en que los ingresos generados por las suscripciones igualan los costos operativos.\n",
    "\n",
    "La función $I(x) = 50x + 0.5x^2$ permite calcular el ingreso por suscriptores, y la función $C(x) = 10x + 450$ representa los costos operativos (ambos en miles de pesos), donde $x$ es el número de suscriptores (en miles).\n",
    "\n",
    "Encuentra el valor del número de suscriptores en el cual los ingresos $I(x)$ son iguales a los costos $C(x)$."
   ]
  },
  {
   "cell_type": "markdown",
   "metadata": {},
   "source": [
    "# Solución"
   ]
  },
  {
   "cell_type": "code",
   "execution_count": 13,
   "metadata": {},
   "outputs": [
    {
     "name": "stdout",
     "output_type": "stream",
     "text": [
      "[10.]\n",
      "550.0\n",
      "550\n"
     ]
    }
   ],
   "source": [
    "def i(x):\n",
    "   return 50 * x + 0.5 * x ** 2\n",
    "\n",
    "def c(x):\n",
    "   return 10 * x + 450\n",
    "\n",
    "def inter(x): \n",
    "   return i(x) - c(x)\n",
    "\n",
    "x = np.linspace(0,1000,1)\n",
    "\n",
    "roots = fsolve(inter, x)\n",
    "\n",
    "print(roots)"
   ]
  },
  {
   "cell_type": "code",
   "execution_count": null,
   "metadata": {},
   "outputs": [],
   "source": []
  }
 ],
 "metadata": {
  "kernelspec": {
   "display_name": "Python 3",
   "language": "python",
   "name": "python3"
  },
  "language_info": {
   "codemirror_mode": {
    "name": "ipython",
    "version": 3
   },
   "file_extension": ".py",
   "mimetype": "text/x-python",
   "name": "python",
   "nbconvert_exporter": "python",
   "pygments_lexer": "ipython3",
   "version": "3.12.6"
  }
 },
 "nbformat": 4,
 "nbformat_minor": 2
}
