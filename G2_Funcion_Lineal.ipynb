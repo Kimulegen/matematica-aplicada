{
  "cells": [
    {
      "cell_type": "markdown",
      "metadata": {
        "id": "gRtMetIT6PBg"
      },
      "source": [
        "# Problema 1"
      ]
    },
    {
      "cell_type": "markdown",
      "metadata": {
        "id": "Od61scS56S0Q"
      },
      "source": [
        "Un equipo de desarrollo está evaluando la eficiencia de un nuevo algoritmo implementado en *Python*. Han medido el tiempo de ejecución del algoritmo en función de la cantidad de elementos de entrada, obteniendo los resultados que se muestran en la siguiente tabla:\n",
        "\n",
        "<p><center>\n",
        "\n",
        "| Cantidad de elementos (unidades) | Tiempo de ejecución (ms) |\n",
        "|----------------------------------|--------------------------|\n",
        "|$$ 100 $$                         | $$2 $$                   |\n",
        "|$$ 200 $$                         | $$4 $$                   |\n",
        "|$$ 500 $$                         | $$10 $$                  |\n",
        "|$$ 1.000 $$                        | $$20 $$                  |\n",
        "|$$ 2.000 $$                        | $$40 $$                  |\n",
        "\n",
        "</center></p>\n",
        "\n",
        "1. Defina variable dependiente e independiente, indicando unidad de medida.\n",
        "2. Encuentra la función que relaciona el tamaño de la entrada con el tiempo de ejecución del algoritmo, para esto utiliza la función *polyfit* de *Numpy*.\n",
        "3. Calcula el tiempo de ejecución para una entrada de $1.500$ elementos.\n",
        "4. Utiliza la función *fsolve* de *Scipy* para determinar el tamaño de entrada que haría que el tiempo de ejecución sea de $50$ milisegundos.\n"
      ]
    },
    {
      "cell_type": "markdown",
      "metadata": {},
      "source": [
        "# Solución"
      ]
    },
    {
      "cell_type": "markdown",
      "metadata": {},
      "source": [
        "**1)**"
      ]
    },
    {
      "cell_type": "markdown",
      "metadata": {},
      "source": [
        "**Variable dependiente**: tiempo de ejecución (ms)<br/>\n",
        "**Variable independiente**: Cantidad de elementos (unidades)"
      ]
    },
    {
      "cell_type": "markdown",
      "metadata": {},
      "source": [
        "**2)**"
      ]
    },
    {
      "cell_type": "code",
      "execution_count": 1,
      "metadata": {},
      "outputs": [
        {
          "name": "stdout",
          "output_type": "stream",
          "text": [
            "La función buscada es y = 0.02 * x + 0.0\n"
          ]
        }
      ],
      "source": [
        "import numpy as np\n",
        "\n",
        "n_elements = np.array([100, 200, 500, 1_000, 2_000])\n",
        "ms = np.array([2, 4, 10, 20, 40])\n",
        "\n",
        "m, n = np.polyfit(n_elements, ms, 1)\n",
        "\n",
        "print(f\"La función buscada es y = {m:.2f} * x + {n:.1f}\")"
      ]
    },
    {
      "cell_type": "markdown",
      "metadata": {},
      "source": [
        "**3)**"
      ]
    },
    {
      "cell_type": "code",
      "execution_count": 2,
      "metadata": {},
      "outputs": [
        {
          "name": "stdout",
          "output_type": "stream",
          "text": [
            "El tiempo de ejecución para una entrada de 1500 elementos es de 30.0 ms\n"
          ]
        }
      ],
      "source": [
        "def exec_time(n_elem):\n",
        "    return m * n_elem + n\n",
        "\n",
        "print(f\"El tiempo de ejecución para una entrada de 1500 elementos es de {exec_time(1500):.1f} ms\")"
      ]
    },
    {
      "cell_type": "markdown",
      "metadata": {},
      "source": [
        "**4)**"
      ]
    },
    {
      "cell_type": "code",
      "execution_count": 13,
      "metadata": {},
      "outputs": [
        {
          "name": "stdout",
          "output_type": "stream",
          "text": [
            "Deben haber aproximadamente 2500 elementos para que el tiempo de ejecución sea de 50 ms\n"
          ]
        }
      ],
      "source": [
        "from scipy.optimize import fsolve\n",
        "import numpy as np\n",
        "\n",
        "def exec_time_50(n_elem):\n",
        "    return exec_time(n_elem) - 50\n",
        "\n",
        "x = np.linspace(0,3000,1)\n",
        "\n",
        "root = fsolve(exec_time_50,x)\n",
        "\n",
        "print(f\"Deben haber aproximadamente {root[0]:.0f} elementos para que el tiempo de ejecución sea de 50 ms\")"
      ]
    },
    {
      "cell_type": "markdown",
      "metadata": {
        "id": "QG_oWvQfygn6"
      },
      "source": [
        "# Problema 2"
      ]
    },
    {
      "cell_type": "markdown",
      "metadata": {
        "id": "_NzqHeMyyysX"
      },
      "source": [
        "Un equipo de TI está monitoreando el tráfico de datos en la red de la empresa. Han registrado el volumen de los datos transferidos y el tiempo que tomó cada transferencia en la siguiente tabla de datos:\n",
        "\n",
        "<p><center>\n",
        "\n",
        "|Datos transferidos (GB) | Tiempo de transferencia (min)|\n",
        "|------------------------|------------------------------|\n",
        "|$$5$$                   |$$10$$                        |\n",
        "|$$10$$                  |$$20$$                        |\n",
        "|$$25$$                  |$$50$$                        |\n",
        "|$$50$$                  |$$100$$                       |\n",
        "|$$100$$                 |$$200$$                       |\n",
        "\n",
        "</center></p>\n",
        "\n",
        "1. Defina variable dependiente e independiente, indicando unidad de medida.\n",
        "2. Utilizando la función *polyfit* de *Numpy* encuentra la función que modela el tiempo de transferencia $T(x)$ en función del volumen de los datos transferidos.\n",
        "3. Interprete la pendiente en el contexto del problema.\n",
        "4. ¿Cuánto tiempo toma una transferencia de $73,2$ GB?\n",
        "5. Utiliza la función *fsolve* de *Scipy* para determinar la cantidad de datos que se puedan transferir en $123,5$ minutos.\n",
        "6. Grafica la función $T(x)$ indicando el nombre de los ejes y su unidad de medida. Interpreta lo observado. *Para graficar utiliza la biblioteca Matplotlib.*"
      ]
    },
    {
      "cell_type": "markdown",
      "metadata": {},
      "source": [
        "# Solución"
      ]
    },
    {
      "cell_type": "markdown",
      "metadata": {},
      "source": [
        "**1)**"
      ]
    },
    {
      "cell_type": "markdown",
      "metadata": {},
      "source": [
        "**Variable dependiente**: Tiempo (min)<br />\n",
        "**Variable independiente**: Datos transferidos (GB)"
      ]
    },
    {
      "cell_type": "markdown",
      "metadata": {},
      "source": [
        "**2)**"
      ]
    },
    {
      "cell_type": "code",
      "execution_count": 4,
      "metadata": {},
      "outputs": [
        {
          "name": "stdout",
          "output_type": "stream",
          "text": [
            "La función buscada es y = 2.0 * x + 0.0\n"
          ]
        }
      ],
      "source": [
        "import numpy as np\n",
        "\n",
        "data = [5, 10, 25, 50, 100]\n",
        "time = [10, 20, 50 ,100 ,200]\n",
        "\n",
        "m, n = np.polyfit(data, time, 1)\n",
        "\n",
        "print(f\"La función buscada es y = {m:.1f} * x + {n:.1f}\")"
      ]
    },
    {
      "cell_type": "markdown",
      "metadata": {},
      "source": [
        "**3)**"
      ]
    },
    {
      "cell_type": "markdown",
      "metadata": {},
      "source": [
        "Cuánto aumenta la transferencia de datos en una unidad de tiempo, en este caso, minutos."
      ]
    },
    {
      "cell_type": "markdown",
      "metadata": {},
      "source": [
        "**4)**"
      ]
    },
    {
      "cell_type": "code",
      "execution_count": 5,
      "metadata": {},
      "outputs": [
        {
          "name": "stdout",
          "output_type": "stream",
          "text": [
            "Una transferencia de 72,3 BG demora aproximadamente 144.6 minutos\n"
          ]
        }
      ],
      "source": [
        "def calc_time(data):\n",
        "    return m * data + n\n",
        "\n",
        "print(f\"Una transferencia de 72,3 BG demora aproximadamente {calc_time(72.3):.1f} minutos\")\n"
      ]
    },
    {
      "cell_type": "markdown",
      "metadata": {},
      "source": [
        "**5)**"
      ]
    },
    {
      "cell_type": "code",
      "execution_count": 10,
      "metadata": {},
      "outputs": [
        {
          "name": "stdout",
          "output_type": "stream",
          "text": [
            "La cantidad de datos que se puede transferir en 123.5 minutos es de aproximadamente 61.7 GB\n"
          ]
        }
      ],
      "source": [
        "from scipy.optimize import fsolve\n",
        "import numpy as np\n",
        "\n",
        "def t(d):\n",
        "    return m * d + n - 123.5\n",
        "\n",
        "d = np.linspace(0, 100, 1)\n",
        "\n",
        "roots = fsolve(t,d)\n",
        "\n",
        "print(f\"La cantidad de datos que se puede transferir en 123.5 minutos es de aproximadamente {roots[0]:.1f} GB\")"
      ]
    },
    {
      "cell_type": "markdown",
      "metadata": {},
      "source": [
        "**6)**"
      ]
    },
    {
      "cell_type": "code",
      "execution_count": 13,
      "metadata": {},
      "outputs": [
        {
          "data": {
            "image/png": "[encoded data removed]",
            "text/plain": [
              "<Figure size 640x480 with 1 Axes>"
            ]
          },
          "metadata": {},
          "output_type": "display_data"
        }
      ],
      "source": [
        "import matplotlib.pyplot as plt\n",
        "import numpy as np\n",
        "\n",
        "gb = np.arange(0, 100, 1)\n",
        "\n",
        "plt.plot(calc_time(gb), gb)\n",
        "plt.xlabel(\"Datos transferidos (GB)\")\n",
        "plt.ylabel(\"Tiempo de transferencia (min)\")\n",
        "plt.title(\"Relación entre los datos transferidos y el tiempo de transferecia\")\n",
        "\n",
        "plt.show()"
      ]
    },
    {
      "cell_type": "markdown",
      "metadata": {
        "id": "Kdy9eJaO_jsM"
      },
      "source": [
        "# Problema 3\n"
      ]
    },
    {
      "cell_type": "markdown",
      "metadata": {
        "id": "Pj0dH2c-_qzk"
      },
      "source": [
        "Una empresa de tecnología quiere optimizar el tiempo de carga y descarga de archivos en su servicio de almacenamiento en la nube. Los tiempos medios para diferentes tamaños de archivos son los siguientes:\n",
        "\n",
        "<p><center>\n",
        "\n",
        "| Tamaño del archivo (MB) | Tiempo de carga (s) | Tiempo de descarga (s)|\n",
        "|-------------------------|---------------------|-----------------------|\n",
        "|$$50$$                   |$$10$$               |$$8$$                  |\n",
        "|$$100$$                  |$$20$$               |$$16$$                 |\n",
        "|$$250$$                  |$$50$$               |$$40$$                 |\n",
        "|$$500$$                  |$$100$$              |$$80$$                 |\n",
        "|$$1.000$$                 |$$200$$              |$$160$$                |\n",
        "\n",
        "</center></p>\n",
        "\n",
        "1. Encuentra las funciones que modelan el tiempo de carga $f(x)$ y el tiempo de descarga $g(x)$ en función del tamaño del archivo $x$. Utiliza la función *polyfit* de *Numpy* (debes encontrar dos funciones).\n",
        "2. Define variable dependiente e independiente, para ambas funciones, indicando su unidad de medida.\n",
        "3. Calcula el tiempo de carga y descarga para un archivo de $750$ MB.\n",
        "4. Utiliza la función *fsolve* de *Scipy* para determinar el tamaño del archivo si el tiempo de carga es de $163$ segundos.\n",
        "5. Un trabajador insiste en que si el tiempo de descarga es de $195$ segundos, el tamaño del archivo es $1.200$ MB. ¿Tiene razón? Utiliza *Python* para determinar.\n",
        "6. Grafica ambas funciones en el mismo gráfico, indicando nombre de los ejes y unidades de medida. Utiliza la librería *Matplotlib* para graficar."
      ]
    },
    {
      "cell_type": "markdown",
      "metadata": {},
      "source": [
        "# Solución"
      ]
    },
    {
      "cell_type": "markdown",
      "metadata": {},
      "source": [
        "**1)**"
      ]
    },
    {
      "cell_type": "code",
      "execution_count": 18,
      "metadata": {},
      "outputs": [
        {
          "name": "stdout",
          "output_type": "stream",
          "text": [
            "La función que modela el tiempo de carga en función del tamaño del archivo es y = 0.20 * x + 2.542114972925208e-14\n",
            "La función que modela el tiempo de descarga en función del tamaño del archivo es y = 0.16 * x + 1.906586229693906e-14\n"
          ]
        }
      ],
      "source": [
        "import numpy as np\n",
        "\n",
        "file_size = np.array([50, 100, 250, 500, 1000])\n",
        "load_time = np.array([10, 20, 50, 100, 200])\n",
        "download_time = np.array([8, 16, 40, 80, 160])\n",
        "\n",
        "m1, n1 = np.polyfit(file_size, load_time, 1)\n",
        "m2, n2 = np.polyfit(file_size, download_time, 1)\n",
        "\n",
        "print(f\"La función que modela el tiempo de carga en función del tamaño del archivo es y = {m1:.2f} * x + {n1}\")\n",
        "print(f\"La función que modela el tiempo de descarga en función del tamaño del archivo es y = {m2:.2f} * x + {n2}\")"
      ]
    },
    {
      "cell_type": "markdown",
      "metadata": {},
      "source": [
        "**2)**"
      ]
    },
    {
      "cell_type": "markdown",
      "metadata": {},
      "source": [
        "### Para f(x)\n",
        "**Variable dependiente**: Tiempo de carga (s) <br/>\n",
        "**Variable independiente**: Tamaño del archivo (MB)\n",
        "\n",
        "### Para g(x)\n",
        "**Variable dependiente**: Tiempo de descarga (s) <br/>\n",
        "**Variable independiente**: Tamaño del archivo (MB)"
      ]
    },
    {
      "cell_type": "markdown",
      "metadata": {},
      "source": [
        "**3)**"
      ]
    },
    {
      "cell_type": "code",
      "execution_count": 21,
      "metadata": {},
      "outputs": [
        {
          "name": "stdout",
          "output_type": "stream",
          "text": [
            "El tiempo de carga para un archivo de 750MB es de aproximadamente 150.0 segundos\n",
            "El tiempo de descarga para un archivo de 750MB es de aproximadamente 120.0 segundos\n"
          ]
        }
      ],
      "source": [
        "def calc_load_time(x):\n",
        "    return m1 * x + n1\n",
        "\n",
        "def calc_download_time(x):\n",
        "    return m2 * x + n2\n",
        "\n",
        "print(f\"El tiempo de carga para un archivo de 750MB es de aproximadamente {calc_load_time(750):.1f} segundos\")\n",
        "print(f\"El tiempo de descarga para un archivo de 750MB es de aproximadamente {calc_download_time(750):.1f} segundos\")"
      ]
    },
    {
      "cell_type": "markdown",
      "metadata": {},
      "source": [
        "**4)**"
      ]
    },
    {
      "cell_type": "code",
      "execution_count": 23,
      "metadata": {},
      "outputs": [
        {
          "name": "stdout",
          "output_type": "stream",
          "text": [
            "El tamaño del archivo para que el tiempo de carga sea de 163 segundos es aproximadamente 815.0 MB\n"
          ]
        }
      ],
      "source": [
        "from scipy.optimize import fsolve\n",
        "import numpy as np\n",
        "\n",
        "def calc_load_time_163(x):\n",
        "    return m1 * x + n1 - 163\n",
        "\n",
        "mb = np.linspace(0,1000,1)\n",
        "\n",
        "roots = fsolve(calc_load_time_163, mb)\n",
        "\n",
        "print(f\"El tamaño del archivo para que el tiempo de carga sea de 163 segundos es aproximadamente {roots[0]:.1f} MB\")"
      ]
    },
    {
      "cell_type": "markdown",
      "metadata": {},
      "source": [
        "**5)**"
      ]
    },
    {
      "cell_type": "code",
      "execution_count": 27,
      "metadata": {},
      "outputs": [
        {
          "name": "stdout",
          "output_type": "stream",
          "text": [
            "El tamaño del archivo para que el tiempo de descaga sea de 195 segundos es aproximadamente 1218.7 MB\n",
            "El trabajador está equivocado\n"
          ]
        }
      ],
      "source": [
        "from scipy.optimize import fsolve\n",
        "import numpy as np\n",
        "\n",
        "def calc_download_time_195(x):\n",
        "    return m2 * x + n2 - 195\n",
        "\n",
        "mb = np.linspace(0, 1500, 1)\n",
        "\n",
        "roots = fsolve(calc_download_time_195, mb)\n",
        "\n",
        "print(f\"El tamaño del archivo para que el tiempo de descaga sea de 195 segundos es aproximadamente {roots[0]:.1f} MB\")\n",
        "\n",
        "if round(roots[0]) == 1200:\n",
        "    print(\"El trabajador tiene la razón\")\n",
        "else:\n",
        "    print(\"El trabajador está equivocado\")"
      ]
    },
    {
      "cell_type": "markdown",
      "metadata": {},
      "source": [
        "**6)**"
      ]
    },
    {
      "cell_type": "code",
      "execution_count": 37,
      "metadata": {},
      "outputs": [
        {
          "data": {
            "image/png": "[encoded data removed]",
            "text/plain": [
              "<Figure size 640x480 with 1 Axes>"
            ]
          },
          "metadata": {},
          "output_type": "display_data"
        }
      ],
      "source": [
        "import matplotlib.pyplot as plt\n",
        "import numpy as np\n",
        "\n",
        "mb = np.arange(0,1000)\n",
        "\n",
        "plt.plot(mb, calc_download_time(mb), label=\"Tiempo de descarga\")\n",
        "plt.plot(mb, calc_load_time(mb), label=\"Tiempo de carga\")\n",
        "\n",
        "plt.xlabel(\"tamaño del archivo (mb)\")\n",
        "plt.ylabel(\"tiempo (segundos)\")\n",
        "\n",
        "plt.grid(True)\n",
        "plt.legend()\n",
        "plt.show()"
      ]
    },
    {
      "cell_type": "markdown",
      "metadata": {
        "id": "fWF4ozV181nf"
      },
      "source": [
        "# Problema 4"
      ]
    },
    {
      "cell_type": "markdown",
      "metadata": {
        "id": "JIV31hBu9sn2"
      },
      "source": [
        "El uso de memoria $M(x)$ (en GB) de un servidor en función del número de usuarios activos $x$ está dado por la función lineal:\n",
        "\n",
        " $$M(x) = 0.5x + 2$$\n",
        "\n",
        "1. Determina la variable dependiente e independiente, indicando unidad de medida.\n",
        "2. Identifica e interpreta la pendiente de la función.\n",
        "3. ¿Cuánta memoria del servidor está en uso cuando no hay usuarios activos?\n",
        "4. ¿Cuánta memoria del servidor está en uso cuando hay $637$ usuarios activos?\n",
        "5. Utiliza *Python* para determinar cuántos usuarios activos provocan un uso de memoria de $32$ GB.\n",
        "6. ¿Es posible un uso de memoria de $59,8$ GB?"
      ]
    },
    {
      "cell_type": "markdown",
      "metadata": {},
      "source": [
        "# Solución"
      ]
    },
    {
      "cell_type": "markdown",
      "metadata": {},
      "source": [
        "**1)**"
      ]
    },
    {
      "cell_type": "markdown",
      "metadata": {},
      "source": [
        "**Variable dependiente**: Uso de memoria (GB) <br />\n",
        "**Variable independiente**: Número de usuarios activos (unidades)"
      ]
    },
    {
      "cell_type": "markdown",
      "metadata": {},
      "source": [
        "**2)**"
      ]
    },
    {
      "cell_type": "markdown",
      "metadata": {},
      "source": [
        "La pendiente de la función es $0.5$, y representa la variación del uso de memoria por usuario activo"
      ]
    },
    {
      "cell_type": "markdown",
      "metadata": {},
      "source": [
        "**3)**"
      ]
    },
    {
      "cell_type": "markdown",
      "metadata": {},
      "source": [
        "Si hay 0 usuarios activos implica que $x = 0$\n",
        "$$M(x) = 0.5x + 2$$\n",
        "$$M(x) = 0.5\\cdot0 + 2$$\n",
        "$$M(x) = 2$$\n",
        "\n",
        "Hay 2GB de memoria en uso cuando no hay usuarios activos"
      ]
    },
    {
      "cell_type": "markdown",
      "metadata": {},
      "source": [
        "**4)**"
      ]
    },
    {
      "cell_type": "markdown",
      "metadata": {},
      "source": [
        "Con $x = 637$\n",
        "\n",
        "$$M(x) = 0.5x + 2$$\n",
        "$$M(x) = 0.5\\cdot637 + 2$$\n",
        "$$M(x) = 320.5$$\n",
        "\n",
        "Hay 320.5 GB de memoria en unso cuando hay 637 usuarios activos\n"
      ]
    },
    {
      "cell_type": "markdown",
      "metadata": {},
      "source": [
        "**5)**"
      ]
    },
    {
      "cell_type": "code",
      "execution_count": 40,
      "metadata": {},
      "outputs": [
        {
          "name": "stdout",
          "output_type": "stream",
          "text": [
            "Deben existir 60.0 para que el uso de memoria sea de 32GB\n"
          ]
        }
      ],
      "source": [
        "from scipy.optimize import fsolve\n",
        "import numpy as np\n",
        "\n",
        "def memmory_usage(n_users):\n",
        "    return 0.5 * n_users + 2\n",
        "\n",
        "def mem_usage_32(n_users):\n",
        "    return memmory_usage(n_users) - 32\n",
        "\n",
        "users = np.linspace(0,100,1)\n",
        "\n",
        "roots = fsolve(mem_usage_32, users)\n",
        "\n",
        "print(f\"Deben existir {roots[0]:.1f} usuarios activos para que el uso de memoria sea de 32GB\")\n"
      ]
    },
    {
      "cell_type": "markdown",
      "metadata": {},
      "source": [
        "**6)**"
      ]
    },
    {
      "cell_type": "markdown",
      "metadata": {},
      "source": [
        "$59.8$ no pertenece al rango de la función"
      ]
    },
    {
      "cell_type": "code",
      "execution_count": 42,
      "metadata": {},
      "outputs": [
        {
          "name": "stdout",
          "output_type": "stream",
          "text": [
            "Para que hubiese un uso de memoria de 59.8 GB es necesario tener 115.6 usuarios activos, pero 115.6 no pertenece al dominio de la función\n"
          ]
        }
      ],
      "source": [
        "def mem_usage_598(n_users):\n",
        "    return memmory_usage(n_users) - 59.8\n",
        "\n",
        "users = np.linspace(0, 130,1)\n",
        "\n",
        "roots = fsolve(mem_usage_598, users)\n",
        "\n",
        "print(f\"Para que hubiese un uso de memoria de 59.8 GB es necesario tener {roots[0]} usuarios activos, pero {roots[0]} no pertenece al dominio de la función\")"
      ]
    },
    {
      "cell_type": "markdown",
      "metadata": {
        "id": "9eel4hKUEnXE"
      },
      "source": [
        "# Problema 5"
      ]
    },
    {
      "cell_type": "markdown",
      "metadata": {
        "id": "xUzd5mJwEsxu"
      },
      "source": [
        "El costo de operación mensual $C(x)$ (en miles de dólares) de un data center en función del número de servidores $x$ está dado por la función lineal:\n",
        "\n",
        " $$C(x) = 1,5x + 10$$\n",
        "\n",
        "1. Determine la variable dependiente e independiente, indicando unidad de medida.\n",
        "2. ¿Qué representa la pendiente en el contexto del problema?\n",
        "3. ¿Qué representa el intercepto en el contexto del problema?\n",
        "4. Calcula el costo de operación cuando hay $47$ servidores.\n",
        "5. Determina cuántos servidores hay cuando el costo de operación es de $92.500$ dólares. Utiliza *Python* para resolver.\n"
      ]
    },
    {
      "cell_type": "markdown",
      "metadata": {},
      "source": [
        "# Solución"
      ]
    },
    {
      "cell_type": "markdown",
      "metadata": {},
      "source": [
        "**1)**"
      ]
    },
    {
      "cell_type": "markdown",
      "metadata": {},
      "source": [
        "**Variable dependiente**: costo de operación mensual (miles de dólares)<br />\n",
        "**Variable independiente**: número de servidores (unidades)"
      ]
    },
    {
      "cell_type": "markdown",
      "metadata": {},
      "source": [
        "**2)**"
      ]
    },
    {
      "cell_type": "markdown",
      "metadata": {},
      "source": [
        "El aumento del costo (en miles de dólares) por servidor"
      ]
    },
    {
      "cell_type": "markdown",
      "metadata": {},
      "source": [
        "**3)**"
      ]
    },
    {
      "cell_type": "markdown",
      "metadata": {},
      "source": [
        "El costo inicial de operar un data center sin servidores activos"
      ]
    },
    {
      "cell_type": "markdown",
      "metadata": {},
      "source": [
        "**4)**"
      ]
    },
    {
      "cell_type": "code",
      "execution_count": 2,
      "metadata": {},
      "outputs": [
        {
          "name": "stdout",
          "output_type": "stream",
          "text": [
            "El costo de operación de 47 servidores es 80.5 miles de dólares\n"
          ]
        }
      ],
      "source": [
        "def server_cost(n_servers):\n",
        "    return 1.5 * n_servers + 10\n",
        "\n",
        "print(f\"El costo de operación de 47 servidores es {server_cost(47)} miles de dólares\")"
      ]
    },
    {
      "cell_type": "markdown",
      "metadata": {},
      "source": [
        "**5)**"
      ]
    },
    {
      "cell_type": "code",
      "execution_count": 11,
      "metadata": {},
      "outputs": [
        {
          "name": "stdout",
          "output_type": "stream",
          "text": [
            "Hay 55 servidores para que el costo de mantener el data center sea de 92.500\n"
          ]
        }
      ],
      "source": [
        "from scipy.optimize import fsolve\n",
        "import numpy as np\n",
        "\n",
        "def server_cost_92500(n_servers):\n",
        "    return server_cost(n_servers) - 92.5\n",
        "\n",
        "n_servers = np.linspace(0,50,1)\n",
        "\n",
        "roots = fsolve(server_cost_92500, 50)\n",
        "\n",
        "print(f\"Hay {roots[0]:.0f} servidores para que el costo de mantener el data center sea de 92.500 dólares\")"
      ]
    },
    {
      "cell_type": "markdown",
      "metadata": {
        "id": "3yDEREQT5v2c"
      },
      "source": [
        "# Problema 6"
      ]
    },
    {
      "cell_type": "markdown",
      "metadata": {
        "id": "3JV3xspG5yvd"
      },
      "source": [
        "El número de visitas diarias $V(x)$ en un sitio web, en función del número de campañas publicitarias $x$, está modelado por la función:\n",
        "\n",
        "$$V(x) = 300x + 500$$\n",
        "\n",
        "Los administradores del sitio consideran contratar $20$ campañas publicitarias como máximo.\n",
        "\n",
        "1. Defina variable dependiente e independiente del problema, indicando unidad de medida.\n",
        "2. Determine el dominio contextualizado de la función.\n",
        "3. Interprete la pendiente de la función en el contexto del problema.\n",
        "4. Determine la cantidad de visitas diarias cuando se ejecutan $5$ campañas publicitarias.\n",
        "5. Utilizando la función *fsolve* de *Scipy* responde: ¿cuántas campañas publicitarias se deben ejecutar para alcanzar $4.700$ visitas diarias?"
      ]
    },
    {
      "cell_type": "markdown",
      "metadata": {},
      "source": [
        "# Solución"
      ]
    },
    {
      "cell_type": "markdown",
      "metadata": {},
      "source": [
        "**1)**"
      ]
    },
    {
      "cell_type": "markdown",
      "metadata": {},
      "source": [
        "**Variable dependiente**: número de visitas diarias (unidades)<br />\n",
        "**Variable independiente**: número de campañas publicitarias (unidades)"
      ]
    },
    {
      "cell_type": "markdown",
      "metadata": {},
      "source": [
        "**2)**"
      ]
    },
    {
      "cell_type": "markdown",
      "metadata": {},
      "source": [
        "$$D: \\{x \\in \\mathbb{N}\\}"
      ]
    },
    {
      "cell_type": "markdown",
      "metadata": {},
      "source": [
        "**3)**"
      ]
    },
    {
      "cell_type": "markdown",
      "metadata": {},
      "source": [
        "La pendiente de la recta representa el aumento de número de visitas por campaña publicitaria realizada"
      ]
    },
    {
      "cell_type": "markdown",
      "metadata": {},
      "source": [
        "**4)**"
      ]
    },
    {
      "cell_type": "code",
      "execution_count": 13,
      "metadata": {},
      "outputs": [
        {
          "name": "stdout",
          "output_type": "stream",
          "text": [
            "La cantidad de visitas diarias es de 2000 para 5 campañas publicitarias realizadas\n"
          ]
        }
      ],
      "source": [
        "def calc_visits(n_campaigns):\n",
        "    return 300 * n_campaigns + 500\n",
        "\n",
        "print(f\"La cantidad de visitas diarias es de {calc_visits(5)} para 5 campañas publicitarias realizadas\")"
      ]
    },
    {
      "cell_type": "markdown",
      "metadata": {},
      "source": [
        "**5)**"
      ]
    },
    {
      "cell_type": "code",
      "execution_count": 15,
      "metadata": {},
      "outputs": [
        {
          "name": "stdout",
          "output_type": "stream",
          "text": [
            "Para que hayan 4,700 visitas deben realizarse 14 campañas publicitarias\n"
          ]
        }
      ],
      "source": [
        "from scipy.optimize import fsolve\n",
        "import numpy as np\n",
        "\n",
        "def calc_visits_4700(n_campaigns):\n",
        "    return calc_visits(n_campaigns) - 4700\n",
        "\n",
        "n_campaigns = np.linspace(0,15,1)\n",
        "\n",
        "roots = fsolve(calc_visits_4700, n_campaigns)\n",
        "\n",
        "print(f\"Para que hayan 4,700 visitas deben realizarse {roots[0]:.0f} campañas publicitarias\")"
      ]
    },
    {
      "cell_type": "markdown",
      "metadata": {
        "id": "MZsqzzPw_B8v"
      },
      "source": [
        "# Problema 7"
      ]
    },
    {
      "cell_type": "markdown",
      "metadata": {
        "id": "qYmRnDfp3Ayx"
      },
      "source": [
        "La depreciación es el proceso en que los activos físicos, como la maquinaria, vehículos, equipos, etc., pierden valor con el tiempo debido a factores como el desgaste, el uso y la obsolescencia. El valor estimado que tendrá el activo al final de su vida útil se conoce como *valor residual*.\n",
        "\n",
        "En este contexto, sabemos que el valor residual $R(t)$ (en miles de dólares) de un equipo tecnológico está modelado por la función lineal:\n",
        "\n",
        "$$R(t) = -1,2t + 10$$\n",
        "\n",
        "donde $t$ corresponde a la antigüedad del equipo (en años).\n",
        "\n",
        "1. Defina variable dependiente e independiente, indicando unidad de medida.\n",
        "2. ¿Qué representa la pendiente de la función en el contexto del problema?\n",
        "3. ¿Cuál es el valor residual inicial del equipo?\n",
        "4. Determine el dominio contextualizado de la función, si sabe que el valor del equipo al final de su vida útil es de $400$ dólares.\n",
        "5. Determina, utilizando la función *def* de *Python*, el valor residual del equipo con $3$ años y seis meses de antigüedad.\n",
        "6. Determina, utilizando la función *fsolve*  de *Scipy*, la antigüedad del equipo cuando su valor residual es de $4.000$ dólares.\n",
        "7. Grafica la función utilizando la biblioteca *Matplotlib*. Interpreta lo observado."
      ]
    },
    {
      "cell_type": "markdown",
      "metadata": {},
      "source": [
        "# Solución"
      ]
    },
    {
      "cell_type": "markdown",
      "metadata": {},
      "source": [
        "**1)**"
      ]
    },
    {
      "cell_type": "markdown",
      "metadata": {},
      "source": [
        "**Variable dependiente**: valor residual (miles de dólares)<br />\n",
        "**Variable independiente**: antigüedad del equipo (años)"
      ]
    },
    {
      "cell_type": "markdown",
      "metadata": {},
      "source": [
        "**2)**"
      ]
    },
    {
      "cell_type": "markdown",
      "metadata": {},
      "source": [
        "La disminución del valor del equipo por año transcurrido"
      ]
    },
    {
      "cell_type": "markdown",
      "metadata": {},
      "source": [
        "**3)**"
      ]
    },
    {
      "cell_type": "markdown",
      "metadata": {},
      "source": [
        "$10,000$ dólares"
      ]
    },
    {
      "cell_type": "markdown",
      "metadata": {},
      "source": [
        "**4)**"
      ]
    },
    {
      "cell_type": "markdown",
      "metadata": {},
      "source": [
        "Si el valor residual final es de $400$ dólares\n",
        "\n",
        "$$0.4 = -1.2t + 10$$\n",
        "$$-9.6 = -1.2t$$\n",
        "$$t = 8$$\n",
        "\n",
        "Por lo tanto el dominio contextualizado de la función es:\n",
        "\n",
        "$$ D: \\{x \\in \\mathbb{R} \\ | \\ 0 \\leq x \\leq 8  \\}"
      ]
    },
    {
      "cell_type": "markdown",
      "metadata": {},
      "source": [
        "**5)**"
      ]
    },
    {
      "cell_type": "code",
      "execution_count": 17,
      "metadata": {},
      "outputs": [
        {
          "name": "stdout",
          "output_type": "stream",
          "text": [
            "El valor residual transurrido 3 años y 6 meses es de 5800 dólares\n"
          ]
        }
      ],
      "source": [
        "def calc_residual_cost(years):\n",
        "    return -1.2 * years + 10\n",
        "\n",
        "print(f\"El valor residual transurrido 3 años y 6 meses es de {(calc_residual_cost(3.5) * 1000):.0f} dólares\")"
      ]
    },
    {
      "cell_type": "markdown",
      "metadata": {},
      "source": [
        "**6)**"
      ]
    },
    {
      "cell_type": "code",
      "execution_count": 21,
      "metadata": {},
      "outputs": [
        {
          "name": "stdout",
          "output_type": "stream",
          "text": [
            "Tuvieron que pasar 5 años para que el valor residual sea de 4000 dólares\n"
          ]
        }
      ],
      "source": [
        "from scipy.optimize import fsolve\n",
        "import numpy as np\n",
        "\n",
        "def calc_residual_cost_4000(years):\n",
        "    return calc_residual_cost(years) - 4\n",
        "\n",
        "years = np.linspace(0,8,1)\n",
        "\n",
        "roots = fsolve(calc_residual_cost_4000, years)\n",
        "\n",
        "print(f\"Tuvieron que pasar {roots[0]:.0f} años para que el valor residual sea de 4000 dólares\")"
      ]
    },
    {
      "cell_type": "markdown",
      "metadata": {},
      "source": [
        "**7)**"
      ]
    },
    {
      "cell_type": "code",
      "execution_count": 25,
      "metadata": {},
      "outputs": [
        {
          "data": {
            "image/png": "[encoded data removed]",
            "text/plain": [
              "<Figure size 640x480 with 1 Axes>"
            ]
          },
          "metadata": {},
          "output_type": "display_data"
        }
      ],
      "source": [
        "import matplotlib.pyplot as plt\n",
        "import numpy as np\n",
        "\n",
        "fig, ax = plt.subplots()\n",
        "\n",
        "years = np.arange(0,9)\n",
        "\n",
        "ax.plot(years, calc_residual_cost(years))\n",
        "ax.set_xlabel(\"Tiempo (años)\")\n",
        "ax.set_ylabel(\"Valor residual (miles de dólares)\")\n",
        "\n",
        "plt.show()"
      ]
    },
    {
      "cell_type": "markdown",
      "metadata": {
        "id": "3MLcC9e8CeQP"
      },
      "source": [
        "# Problema 8"
      ]
    },
    {
      "cell_type": "markdown",
      "metadata": {
        "id": "6n13Ue-AHwV-"
      },
      "source": [
        "El tiempo de ejecución $T(x)$ (en milisegundos) de un algoritmo depende de la cantidad de elementos de entrada (en unidades) mediante una función lineal cuya gráfica se muestra en la siguiente imagen:\n",
        "\n",
        "<br>\n",
        "\n",
        "![image.png](data:image/png;base64,iVBORw0KGgoAAAANSUhEUgAAApMAAAHFCAYAAACuKXKKAAAAAXNSR0IArs4c6QAAAARnQU1BAACxjwv8YQUAAAAJcEhZcwAADsMAAA7DAcdvqGQAAH25SURBVHhe7d0HeNVUGwfwfyctlJa99957D1FZCsiUIUNQkT0EcX0uUJQlIgXZgiKgspdMBaHsvffem1KgdOfLe8iF23Jbbtelaf+/50mbce46OTl5k5OTOGk6EBERERHFgbPxn4iIiIgo1hhMEhEREVGcMZgkIiIiojhjMElEREREccZgkoiIiIjijMEkEREREcVZig0m9+zZgyFDhuD69evGHCIyozt37qhtefv27cYcIiJypBcSTP73339wcnJS/xPDr7/+qt7/3LlzxpzIbt++jebNmyM4OBhZs2Y15lJsPS+f7SGvHzx4sDGVckieyW+XPHS0l19+WQ1m8Lx8ktvkvv3226ouKV++vDH3xZMyLd87uYpNHZ7Q5S2+205C1FtxJZ+bEus7R+nSpQvy5ctnTJGFI8r8c4NJy5ewDK6ursiZM6daaZcvXzZSmYdl51OnTh189913xtyk68qVK6ry2bdvnzHHfFasWMEKlBLFyJEjVQW5aNEiuLu7G3MpoUyYMCHOQRslb8lh3/QiJNdtyu4zk9988w1+//13TJo0Ca+//jpmzZqlArKgoCAjRdLRqVMnPHr0CHnz5jXmPHX69GnUrl0bv/zyiwqOkzrZYKUJz+zBpPwGW2Q9ffHFF8YUOcKaNWvUYAayDUsZkW06Kql7wsLCVPlKly6dMZcSUnQ7vpdeekmtF/lPKVNy2De9CCk+mJQAsmPHjujatSumTZuGQYMGqcBs6dKlRoqkw8XFBR4eHjaDxUKFCuHTTz9NtmcxAgMDjTFzkPUkZ7vJcaTsm6X8yzYsZUS26ahk/ueff448efIYc8hRnJ2dVf7LfyJKHA8fPjTGkr441wRydk9IQGnt2LFjePPNN5EhQwZV2VSqVMmugNPPzw+tW7dWO4ZUqVIhd+7cGDBggDr6jUo+o02bNsicOTM8PT1RtGhRtVOxsDTNR70+QI4ISpYsqd4/R44c6N27N/z9/Y2lj8m1PaVKlcKRI0fwyiuvIHXq1KpZX5rT7CVnbStWrKi+m+RDu3btcPHiRWPpY/Z8jlyPVLlyZTX+zjvvqN8kg+WoxvIeu3fvVmcI5D3+97//qWVyPejXX3+tgmdLfn788cdqvj2kM8Nrr70GHx8f9b5yFnrz5s3GUvvJ5RA///yzGrd8fxksZDxqE7hcPvHuu++q61nlu8s6mz59urH0Mcs1W3PnzlVHx5J3adOmVWXv3r176nd+8MEHyJIlC7y8vFT+Rf3t8vo+ffpg9uzZqgxJeZX1tnHjRiPFU3v37lUHVN7e3ur96tati23bthlLYyZlTPJB8lLOoHXu3PmZcmcR1+1HRERE4KefflL5Ja+V/OvevTvu3r1rpHjM1jVssSkvUr6rVKmiykX69OlV2bM+02lrnQq5lknywZrkg2znskw+N1euXOoylFu3bqnl0V0ft27dOlUHpUmTRuVps2bNcPToUWPpY/Id5LWnTp1SnyvpZB1IWXjeQZfkhZubG27evGnMeapbt27qvWLbKjNjxgy8+uqrqkzKby1RogQmTpxoLH2+59V758+fR69evdR8WZ4xY0ZVp0atBy31o2zPAwcOVO8n+diiRYtIv1fWyeHDh7FhwwaVXgZLuYnumskpU6agYMGC6vOljEi9HlVISAi++uorta3J+pDPlnW5fv16I8VTsdl2bJHvL3ku30fK1tChQ9V2YsvKlSuflCmpSxo3bqxebw/5TlLfyHYj61a2oxEjRkT7WdYcVd8JR+2bxLx58558VqZMmdTJqKiXxl27dk29XtaN/Pbs2bOrbdmea/sWL16svqfUdfJfLnWxxd56MTr21MkJsU1Z3kOWyXYs61LyRdi7bQt7y/ySJUtUGZdYSPJetttvv/0W4eHhRopY0p5DrwA1SbZz505jzmPjx49X8/XK0JijaYcOHdL0jV7TK0lN35BUGn1Ho+kZpC1cuNBIpWl6paFeK/8t+vbtqzVq1Ej7/vvvtcmTJ2vvvfee5uLioukr0Ujx2P79+zV9h67pmal99tlnKq2+09NKly5tpHj6nc+ePWvM0TR956Dm1atXTxs3bpymBxHq/fUNQtMrNyOVpulBk6ZnrqZXClr//v01PQDV9BWjXrtixQojVfT0Fad+b9u2bdVr9Q1f0zckTS9Eml54jVT2fY6+oWnffPONmqfvwLTff/9dDXoAr5bLe2TLlk3TC67KP8kLfQPT9MKgNWjQQNMrAU2vYNR8+b2urq6avqGq18bk33//1dzd3bXq1atro0eP1saMGaOVKVNGzdODTCOV7XyOasuWLVr9+vVVOsv3l8FC5su6sZDfrG8AKl/kt0v5atq0qUon38PCUobKlSunvqevr6/Wr18/lfd6Bam1b99e04M/TQ9ktU6dOqm0si6syTy9ElLrRz5LymzevHk1fSPUDh48aKR6XK71ikHTKzpN39i04cOHa/nz59f0DVDTA0ojlW36Rqy2AWdnZ02vDFTZk/Us+SmfL3loYe/2E52uXbuqdfz+++9rkyZN0j755BP1vW2VcRksYlNe9ABNfe8aNWpoo0aN0saOHavyWj7LQpZbr1MLyVs9GDCmNO3+/fsq/2U7lO8s61ryV76vHryrNFK2oubT2rVr1XcrUqSIpu/gnmxjemBrc5svX7681rJlS7WNSR7JPKkzYnLy5EmVTtaXNX0HrT5H3/kbc2yzfLY1+V16YKTKsbyv5LmkkfX8PPbUe/rOWytbtqymB2qaHtRp+oGl+q6S7w8fPjRSPd1uJV+kLMp3+fDDD9V60INVI5Wm6TtntS0WK1bsyXarHzSoZbbq8GnTpql5UjZke5SypAeAWoECBSKVN33nqrYlfaer1rmsQ30nqenB+5P1LmKz7dhy9epVVTdKHki5lfJauHDhJ6+3LiszZ85U25l+AK0+R7Y/qbPl+8dUvwnJW3lPWTeS57Lt6QdE6v2kbrcmn/ui6jtH7pssZUzKvPyOTz/9VNWrUT9LyorUeV988YUqP7L/1wNYTQ+ojBS2rV69WpULqT9+/PFHTT+oUu+jB4yqvFuzt160xd46OSG2Kct7yGfJOpD3kH2NsHfbjk2Zb968ufpukkbKnR6cqjSDBg0yUsSO3cHkP//8oyoB/ShGmz9/vvrCsjOVaYu6deuqyk0/YjfmPK4QpMDID7KwVREFBgYaY08NGzZMrTQ9KjfmaGpF6kdkkeYJ+RwLy3e2ZNyNGzdUICSVt+w4LSwBsX4UaMx5vCHJPKlcLGQHIkFbq1atjDm26UcJqvB89913xpzHJDCRwmw9397PkSBe0slvisryHrKBWJMCKhuan5+fMecxSSfp9aMnY86zJB9lXTVs2DBSnsr6kQBKAkOLqPkcnd69e6t0tsh868pVDiJkR3Pr1i1jzmNSYcpGbSknljIklYl1hfDWW2+pMiMVqzWpgKNWMvJ6GXbt2mXM0VS50o8+Nf2I0pjzeKOT8mOpKMWVK1dUOZTyGBMJ7uUzZIdpERYWptWuXVvNt16v9m4/tsi6lvebPXu2MeexVatWPTNfyo0MFvaWFwmwJJ3kjfV2JKzLirzGnmBSKkZJaytQtryflC1JY51PskPVj9q127dvG3MeB1vy3WQnbmEJ6KIGfvL9Zcf/PFJmqlatakw9Jt9V3tO67rLFVjBpq46T7UyCreexp96z9f5bt25V38O6nrFst3Jgbf36AQMGqPrL39/fmKOpnbN1WbGIWofLNijrRNaN1GMWsuOTdNbvIeXfOo2QACNr1qyR1lVsth1bJJiVdNYHwLIvkHpE5lvqLTmokaBRgg1rEjBJ2qjzo5IDIAlOTpw4Ycx5TAIoyc8LFy4Yc15cfefIfZOlLMh3ffTokTFX05YvX67Sy3YvZJ3LtAQzsSXlTPLNuqxKUCbvZ/27Y1Mv2mJvnZwQ25TlPWrVqqXKuTV7t217y7yw9Z7du3dXJxWsf6+97G7m1jNJnbrVj1bUKV85hSuneuU0qpB7vUnTkzTD6BunaqaSQW7Do1eY0HdEMfb+llOyFnKdgLxWX2FSG6smRiGni6UJUpoEol4npW9Qxtiz9EBYNa3oGR3pGh+9klDNln///bcx5zFpJpBT8hZyfZk02Zw5c8aYY5u+o1GnkyUPLL9fBn0jhF7wnmnGievnWJPT09JMYE2aF4oXLw796CfS99CPmNTyqN/DmlxMLetKP9JV687yWlkn0rQr+S+/MTHIul6wYAHeeOMNNW793aUMSXOO3B/UmjSJSnOkhb7zV6+VMmJN5ktzjnTYsKZXuqopxkLKlTSz6Ee+6nS/DNKEK7eS0nf6Riqo5hjJo02bNiEgIMCY+yzpHKJX1ujZs6cx5/E1vX379jWmHovv9iPrXK8woAf7kfJNfpuUs5jWub3lRZqVZN1LE6X1diRi2v6iI+taP9pWTUFRRfd++pG3KqPS9CnNThb6kbf67ZLfUfXo0cMYe0yaMiVfY1pvQsqWXO6hH0QYc6AuiZA6UN8ZGHPsZ13HSVmWPJb3ke1dpqNjb71n/f6hoaHqN0pzqzQPR91uhDTXW79e8kXKuzSpxZZ+QAZ9p6XyWuoxC0sTtTUp/5Y0Up6k7Mt2Kc2H1t/T3m0nOvL6atWqqTrVQvZhHTp0MKYeW7t2rWqm1gOzSOVfPkvqjZi2HSHbj+Rd+vTpI71e9pmSn7YumxGOrO8cuW+ylAVplpVmYQtpUpU6xrK/lfIq7ytN5npgqebZw1IHyCUP1mVLtn+5dMRafOrFuNTJCbFNSVwiZc+avdu2vWVeWL+n5ffJ99WDTNW0H1t2B5Ny3ZtsdPPnz0ejRo3UB0sgYyHXJUmh/vLLL9WXtx70IzGVRgpYdPSjtyc7CFnJ8jpLhW2paC0FWT/iUf/tZVmRRYsWVf8tpCBLgBB1RUuAHHVnJhXF8wq8FC7JA9k4o+aBXM8V9ffH9XOsybUs1pW3kO8h101E/Q5FihRRy2NaD/JaIRtq1NdLxyv9CDXGHV98yE5TKnW57irqZ1sC5qjfPerO1VK5yA7fmsyXyjTqd5d1FZXkk2xQ8n1kkPGoZUdIACbvKZV2dKRsSeApZdpa1PeL7/Yj601+m1xnE/X1Dx48eO5r7SkvElRJEBm1wo4reb+E2paFrA+pl+TAx1rUMiLbmHjedta2bVtVx0kAKSR/ly9frirmqNutPeR6Kgkw5EBcdgKSx5ZrnGPapuyt9+T6cgn0pezL95br1OQzZJuy9f5xzRdbLOsl6vYkgY/1QZjFb7/9pg4AJNiQ67/ke0qQYf097d12oiOvt7V9R329pc6TgydL2bcMciAZ07Yj5PWrVq165rWyrkV0r3dkfSff0VH7ppi2UQkmLculjI4YMUJdqyrXMb700kvqusxr166p5dGJrqwJW+tW8iAu9WJc6uSE2Kby589vjD1l77Ztb5kXUufLgbyUFTmpJu9nOYCwVV88j93BpES6snG0atVKnZGUik3OzMgKEVJwhfTylqDT1iCRtC0SucuRg1Qmn3zyiToDIuktF/Na3ttRoh4VWEjBiol8T9kApWKJ+ttlmDx5spHysbh+jjXrowsL+R6lS5e2+R1kkCPG6FjyetSoUTZfK0PUyj2hWD5bCrStz5WhZs2aKo1FdHmYEHnrSJbfHpftR8jrpcK09ToZvvnmGyPls+JTXmJDtvMXIa5lQXYETZo0eRJMyoG0HExZn7GxlwTOcmZfgt0ff/xR1XWSt9L5SFjWf3zIGTu5d66cSZk7d64KhOQzJFiz9f4vahuRTiBy4kAu+JdbtFnqSwnmEiIfYsvymb///vuTMm89SEeFmMjrZf9l67UyyD7TFsvnOqK+k89y9L7JHtJaeOLECQwbNkwdWEjgJgeFltbI+JLfHZ96UcSmTk6IfLO1T4/ttv08EoTKybr9+/erPFi2bJl6PwnuRVze0+5g0ppkmKx8uc/U+PHj1TzL0acciUrQaWuQ3me2HDx4UBWo0aNHq2BSmhklvfQysmb5jEOHDqn/9spr3G/y+PHj6r+FNH2fPXvW5v0o40IqRyk0cmQR9bfLIKefYysuZ0Dke8gpetl52foeMR3Zy2uFHKnYeq0M1s0s9rD3N8iRkZQRCTpsfa4MUjEkJMtZCWtSFqUHo+UoVMajlh0hTQFypi7qWQFrUrakWcZy0GUR9f3is/0IWW/S9CE7H1uvlebk6NhbXiSdVDLSyzMmEoRJZWVNtjXJB2vyfgm1LQtZH3LELmf+Eoo0K0p52Llzpwoq5Sk70is0tqSylkBUDsSlJ6m07kje2tpxRGVvvSfBrrQoSD0qlyJJgFOrVq1n1kVs2LvtWtZL1O1JmuSkjrUm31N+kzS9yv1DpclQ8iJq73h7t53oyOttbd9RX2+p86RusS73liHqnQ+iktfLd7T1Whminq2ycGR9J9/RUfummLZRmWdZbiHf7cMPP1QBkpRxqSukDEcnurImbK3buNaL8a2ToxOXfbq927a9ZV4uLZB8kRN2/fv3VwfN8nssZ1LjIk7BpJANTM5WSpd7qQSk0Ms8OcKJutMQcko/OpZo3jp6l/GxY8caU4/JxienwuW2CdIsbi2myF8ySZqCfX19I6WTo2I5nSvXciSEli1bqt8yZMiQZ76PTMvKiy3LjjE2OwQ5epFrOaZOnWrMeUpOl0dtBrQm15LIBvjDDz88U4mLmNZjdOz9DZJ3chQv1xHZ2nHG5bOfZ+vWrZGuOZEmazkT0aBBA/V9ZJBxmWd9GwZ5pvucOXPUBi2Bd3QkaJDrliZa3QJGdh7jxo0zph6Lz/YjZJ3L+8qtHaKSz48p7+0tL3LdqATPciQb9cjVurxL+Yl6nZg05UU9MynrWo6Mbd3SI7rtWZo9y5Urp5pJrX+TlBfZGUl+JyS5HZQEqHLELrfsiMtZSWGrjpO6Z8aMGcZU9Oyt9+QzouablLOo+R4bsu3aU/fI9Y7yPSdNmqSCAQvZWUV9va28kGtTZVu0Zu+2Ex15vdy+a8eOHcacx9uR5UyzhQSzsg1///33KviNyp5tT767XGcdlfx2y3WLUUk+OKq+c+S+ScqC1GdSFuQAykKas6VJ3bK/lcuHoh5ASN0hAZr166KyrgOsm2PlzFrUA9341IvxrZOjY+82Zc3ebdveMm9rG5TtdsKECcbUU9KaIgfqsr5ipL9ZjCw9jKLeGkjMmzdPLZNu5eLw4cOqS7r0lJSebNKTT3q66T9QdU23WG+jJ6BeiNRtCqRXmXSJ11ei6gov6ax7i+3bt0/z8vJSnyG3yJDPkG7yktbC8p2tey5ZeldKj27pxS230tEz1OZtU6S3VVTSC1WP+o2p6EkPdPkc6e0lvRAlb+QWHoULF47Ua83ez5HvJj0NixYtqm6d8Mcff2hnzpxRy6J7D72AqTzXj4BUr0DJTz3o13r06KFlyJDB5rq0JutFejTrR9Qq3ySP5b++Q9P0Ixgjle18tmXu3LkqndyyYtasWeo3WMh8eW8L6UEpv196lMltKfQNWeWp3LZAypaFpQxJGbQWXXm1rH99wzLmPP5s6XEo5U5ucyG3fpDPlt8uvYMt9Ipe9dbMmTOnKp+STj9qtevWQLIu9KNi1dNYbm8iZe/VaG5vYu/2Ex3piSfvKT075XYc8lmSh3KbD+t8knIjg0VsysuXX36pPkPKt37AodJKD2r5vhaWXuByOx4p//I+cicAyWcp3xbSi1ZugyHboeW2HXJrkGrVqqntXEjZippP+k5D9UCV22vINiXrTg9kVN5Ztg1ha50Le8uthdwmSdLL95Re/PawfLaFXhmrOwJIz1BZL3LLD6nzLHXc876LPfWerAf5jpbtRm5DJLchkddY53t020jUellImZVyIeVQtlu5bZiwlVY+U+ZJeZdb10hPVqm7ZFuxLm9y9wxJJ7fAkddI2ZF0UpdZ132x2XZskXUlv13KxfNuk6LvbNXnSH0gt9CR7yW3m5Few3I3ipjoB1tahQoVVJns2rWrKvOybUieS70Rtc55UfWdI/dNlu9VtWpVVZdImZXfaH1rILkNlNQvUj9IeZFbENU3biM3f/58lSY6emD6ZH3JrYHk1kI+PrZvDWRvvWiLvXVyQmxT0b2HsHfbtrfM6wGiSiN5Jbf/kzyU2xpZ6iPr72spS9bzbIlXMCkbu1SIMuhRvpp3+vRp9cPlNgJubm5qBywBiHXhsJXB+hGF6lYvFabsdGTnIjt0SSffwZrs3OX2HlKQZccvhVl2chaW7xy1gpZCJDsg+V5yG4qePXtGuueVsHdDiol+pKm690tFIoN8plRIx48fN1LE7nOWLFmidrpSWVnnR3TvIWRDl6BHlkvQIwWnYsWK6t5i+tGckSp6sqFLMCAFU14v30k/yntS8EV0+RyVlA0J3mWHLxuRvMZCxq0rV3H9+nWVX7lz51brSsqS3KJBNmQLSxmKbzApnyMBrmxw8jtlg7K10ezZs0fdxkXKp1SKci80uYemPfSjfhVIe3t7qwpPxiV/5fOjlm17tp+YSB7Jevb09FS3kpHgRXYY1kGQlBsZrMWmvEgwIPlkSSfvJQGehdQLci832Y4lryTfTp06pcqQdcUnJG8kWJPfKcGWVJCSRio7IWXLVj7Jrcok0JDfKfn6xhtvqDrEmq11Luwttxb6Ub5KLwei9rJ8trWlS5eqSl3qLNmpSn5bAit7vsvz6j2py9555x2V71JOJd8liI2a79FtI7bqZQl2GjdurMqSLLOUG1tphQQEcuAgZaNSpUraxo0bnylvERER6qBBvpdlm5Pbxtiq+2Kz7dhy4MAB9dmSX1LGZAf+yy+/qNdHzXP5LZJn8jmSXvZrstO2vnVYdOTASAKmQoUKqXIs68BywGV9skI+90XVd8JR+ybx119/PaknJGjs0KGDdunSJWPp44BGPlu+g3wXyXcJPuXkgz3ktxQvXly9v3wHuW2Xre8o7KkXo2NPnZwQ21R07yHs3baFvWVebvkmB+6SJxJYS37I/Tujfl9LWbKeZ4uT/NETEqU4emCrnoKkH2QYc1IGuf2DXgGrW2bR80lTvDSrzZw50+YzwomIUro4XzNJROYk1//oR7jGFD2PXEvq5eWlrjsjIqJnMZgkSiG2bNmibnNhuU0NxUx6YI8YMUJ1HpIbCacxOhwQEVFkbOamFCulNXPLjZClR6U86WPUqFHq6SIUvXz58qle+w0bNlT3IJRepkRE9CwGk0REREQUZ2zmJiIiIqI4YzBJRERERHHGZu4EIE8DuXLlirqmSq7DIyIioqRPQqD79++rxzfLE74obhhMJoBLly7F+HxmIiIiSrrkUbq5cuUypii2GEwmAHk+aLp06VRhjOk5zXEhz4qVZw7L86Hd3NyMuZTQmM+OwXx2DOaz4zCvHSOx8jkgIECdDJLnZfv4+BhzKbYYTCYAKYxSCCWoTIxgcsWKFeoB7qyoEg/z2TGYz47BfHYc5rVjJFY+J+b+OyXhBQJEREREFGcMJomIiIgozhhMEhEREVGcMZgkIiIiojhjMElEREREccZgkoiIiIjijMEkEREREcUZg0kiIiIiijMGk0REREQUZwwmiYiIiCjOGEzq8uXLBycnp2eG3r17GymIiIiIyBYGk7qdO3fi6tWrT4a1a9eq+a1bt1b/iYiIiMg2BpO6zJkzI1u2bE+G5cuXo2DBgqhTp46RgoiIiF4ETdOw7vhN/b8xg5IcJ30lcfVYCQkJQY4cOTBw4ED873//M+ZGFhwcrAaLgIAA5M6dG7du3YK3t7cxN2GEhoaqM6X169eHm5ubMZcSGvPZMZjPjsF8dhzmdeK6HxSK/y0+glWHr6NFvnB893a9BM1n2X9nypQJ9+7dS/D9d0rCYDKKuXPnon379rhw4YIKKm0ZPHgwhgwZYkw9NWfOHKROndqYIiIiori68AD49YQLbgc7wdlJQ/O8EaiTPWFDlsDAQLXPZzAZPwwmo2jYsCHc3d2xbNkyY86zeGYy+WE+Owbz2TGYz47DvE54Epb8tu0CRq4+gdBwDbnSeeCHViVx/cj2BM9nnplMGAwmrZw/fx4FChTAwoUL0axZM2Pu80lh9PHxSZTCKBXVihUr0KhRI1ZUiYj57BjMZ8dgPjsO8zph+QeG4KP5B7D2yHU13bBkVox8syxSuyJR8jkx998pCTvgWJkxYwayZMmCxo0bG3OIiIjIEfZcuIvGvptUIOnu4owhTUtiUseK8PFkkJ7UMZg0REREqGCyc+fOcHXVD4GIiIgo0UVEaJiy8TTaTNqKy/6PkDdjaizoWQOdazy+BzQlfQwmDf/884/qdPPuu+8ac4iIiCgx3XkYgq4zd+H7FccQpgeVjctkx7K+tVA6l4+RgsyAwaShQYMG6qLfIkWKGHOIiIgosew8dweNff2w7tgNuLs6Y2jzUhj/Vnl4e7BZ22wYTBIREZHDSLP2z+tPod2Ubbh6LwgFMqXB4l410bFaXjZrmxSDSSIiInKIWw+C0XnGDoxafRzhelDZvFwOLO1bCyVysCe1mTGYJCIiokS39fRtNBrrB7+Tt+Dh5oyRrcpgTNty8ErFTq9mx2CSiIiIEo2cgRz7z0l0mLYNN+4Ho1AWLyzpXQttKudms3YywWCSiIiIEsWN+0Ho9Mt2jPnnBPSYEm9WzIWlfWqiaLa0RgpKDhhMEhERUYLbdPKWatbecvo2PN1cMLp1WfygD6nd2ayd3DCYJCIiogQTFh6B0WuOo9P07bj1IARFs6ZV945sVTGXkYKSGwaTRERElCCu3QtC+2nbMW7dKWga8FaV3FjSp6a6TpKSLwaTREREFG//Hb+BRr5+2HH2DtK4u2Bsu3IY1rIMPNxcjBSUXDGYJCIiojgLDY/A8JXH0GXGTvV4xBLZvVWzdrNyOY0UlNwxmCQiIqI4ueL/SD3JZtKG02q6U7W8WNirBgpkZrN2SsJgkoiIiGLtnyPXVbP27vN3kTaVKyZ0qIBvm5dis3YKxGCSiIiI7BYSFoGhy4+g68xd8A8MRZlcPvi7X200Kp3dSEEpDYNJIiIissvFO4FoPXkrpm06q6bfqZkP83pUR56MqdU0pUwMJomIiOi5Vh26hsa+fth/0R/eHq6Y3Kkivn6jJFK5slk7pWMwSURERNEKDgvH4KWH0WPWbgQEhaFc7nRY0b82GpbMZqSglI7BJBEREdl0/vZDvDlxK37dck5Nd3upgGrWzpWezdr0FINJIiIiesbyA1fQ2HcTDl6+h3Sp3TC9SyX8r1FxuLkwdKDIWCKIiIjoiaDQcHy+6CD6zNmLB8FhqJQ3PVb0q41Xi2U1UhBFxmCSiIiIlDM3H6DFhC2Yvf2Cmu71ckH82a0acqTzVNNEtjCYJCIiIizeexlNxm3C0asByJjGHb+9WwUfv1YMrmzWpudgCSEiIkrBHoWE45P5B/DBX/sQqI9XK5BB9dauUySzkYIoZgwmiYiIUqhTN+6j+c+b8deui3ByAvrVLYzZXashq7eHkYLo+RhMEhERpUDzd1/CG+M24/j1+8jklQqz3quKgfWLwMVZjyqJYoHBJBERUQryMDgMA+fuw6B5+/EoNBw1C2XEiv619P+ZjBREscNgkoiIKIU4di0ATcdvwsI9lyEnID+sXwQz362KLGnZrE1xx2CSiIgomdM0DX/uuIBm4zfj9M2HyOqdCnPer4a+dQuzWZvijcEkERFRMiY3Hu//5z58uvAggsMiVC9tuQl5tQIZjRRE8cNgkoiIKJk6fOUe3hi3CUv3X1FnID95rRhmdKmMjF6pjBRE8cdgkoiIKJmRZu3ft51XT7M5e+shsvt44K9u1dDz5YJwZrM2JTAGk0RERMlIQFCoeq72l4sPISQsAnWLZVHN2pXyZTBSECUsBpNERETJxIFL/mjiuwl/H7wKV2cnfNG4OKZ1roT0adyNFEQJj8EkERGRyUmz9ozNZ9Fq4hZcuBOInOk8Ma9HdXStXQBO8mgbokTEYJKIiMjE7gWGovvvuzFk2RGEhmtoUCKratYunye9kYIocTGYJCIiMqm9F+6ika8f1hy5DncXZwx+owQmd6oIn9RuRgqixMdgkoiIyGQiIjRM3XgGrSdtxWX/R8iTITUW9KyBLjXzs1mbHI7BJBERkYncfRiCrjN34bsVRxGmB5WNS2fH8n61UDqXj5GCyLEYTBIREZnErnN3VLP2umM34O7qjKHNS2F8+/Lw9mCzNr04pg4mL1y4AD8/P6xevRp79uxBcHCwsYSIiCj5kGbtCf+dQtsp23D1XhDyZ0qDRb1qoGO1vGzWphfOdMHkuXPn8MknnyBv3rzInz8/6tSpg9dffx2VKlWCj48P6tevj3nz5ukbXoTxCiIiIvO69SAYXX7diZGrjiNcDyqblcuBZX1roWQONmtT0mCqYLJfv34oW7Yszp49i6FDh+LIkSO4d+8eQkJCcO3aNaxYsQK1atXCV199hTJlymDnzp3GK4mIiMxn25nbaDTWDxtP3EQqV2eMaFUaP7UtB69UrkYKohfPVMFkmjRpcObMGcydOxedOnVC0aJFkTZtWri6uiJLlix49dVX8fXXX+Po0aP44YcfcPHiReOVRERE5iFnIH3/PYn2U7fhxv1gFMrihaV9aqFt5Txs1qYkx1TB5LBhw5AxY0ZjKmavvfYaWrZsaUwRERGZw437QXh7+nb8uPYE9JgSrSrk0gPJmiiaLa2RgihpMW0HnEePHiEwMNCYAs6fP4+ffvpJdcYhIiIyo82nbqHR2E36/9vwdHPBD63LYnSbskjtzmZtSrpMG0w2a9YMM2fOVOP+/v6oWrUqRo8ejebNm2PixIlqPhERkRmEhUfgxzXH0fGX7arDTdGsabGsb028WTGXkYIo6TJtMCm3Aqpdu7Yanz9/PrJmzarOTkqA6evrq+YTERElddcDgtB+2nb4rjsFTQPaVc6Nxb1rolAWNmuTOZg2mJQmbul8I9asWaOuj3R2dka1atVUUElERJTU/Xf8Bl4f64cdZ+8gjbsLxrYrh+GtysBTHycyC9MGk4UKFcLixYtVj225TrJBgwZq/o0bN+Dt7a3GiYiIkiJp1h6x6hi6zNiJOw9DUDy7t7p3ZLNyOY0UROZh2mBS7iU5aNAg5MuXD1WqVEH16tXVfDlLWb58eTVORESU1Fzxf4R2U7Zh4n+n1XSnannV02wKZPZS00RmY9pg8s0331SPU9y1a1ekHtx169bFmDFjjCkiIqKk49+j19WztXedv4u0qVzxc/sK+LZ5KXi4sVmbzMu0waTIli2bOgt55coVXLp0Sc2Ts5TFihVT40RERElBSFgEvvv7CN77bRf8A0NROqcPlverhcZlshspiMzLtMGkPHv7m2++Uc/jlud0y5AuXTp8++23fC43ERElGRfvBKLN5K2Y6ndWTXepkQ/ze1ZH3oxp1DSR2Zk2mPz8888xfvx4DB8+HHv37lXD999/j3HjxuHLL780UhEREb04qw9fQ2NfP+y76A9vD1dM7lQRg5uWRCpXNmtT8mHaYPK3337DtGnT0LNnT5QpU0YNvXr1wtSpU/Hrr78aqYiIiBwvOCwcg5ceRvffdyMgKAzlcqfD3/1qo2HJbEYKouTDtMHknTt3bF4bKfNkGRER0Ytw/vZDvDlxK37dck5Nv187P+Z2r47cGVKraaLkxrTBZNmyZVUzd1QyT5YRERE52t8HrqKJ7yYcvHwP6VK74ZfOlfB54xJwdzXt7pbouUxbukeOHInp06ejRIkSeO+999Qg49LEPWrUKCOVfS5fvoyOHTsiY8aM8PT0ROnSpdUth4iIiOwRHBqOLxYfRO85e3A/OAyV8qbHin61Ubd4ViMFUfJl2mCyTp06OHHiBFq0aAF/f381yCMVjx8//uSZ3fa4e/cuatasCTc3N6xcuRJHjhzB6NGjkT59eiMFERFR9G48At6csgOztl1Q071eLog/ulVDjnSeapoouTP1efccOXLgu+++w4IFC9QwdOhQNS82RowYgdy5c2PGjBnqHpX58+dXj2YsWLCgkYKIiMi2pfuv4ocDLjh27T4ypHHHb+9WwcevFYObC5u1KeVw0nTGeJJ34MABY+z5pHe3PaRpvGHDhuqm5xs2bEDOnDlVr/D333/fSPGs4OBgNVgEBASogPTWrVsJ/lzw0NBQrF27FvXr11dnTylxMJ8dg/nsGMznxPcoJBxDVxzD3N2X1XTlvOkwpk0ZZPX2UNOUsBKrTMv+O1OmTLh3716C779TElMFk87OznBycoJ8ZflvYfkJ1vPCw8ONsZh5eDze8AcOHIjWrVtj586d6N+/PyZNmoTOnTurZVENHjwYQ4YMMaaemjNnDlKnZm89IqLk7Fog8OsJF1x95AR9j4QGOTU0zB0Bl6e7IDKJwMBAtG/fnsFkPJkqmDx//rwxBnWT8kGDBuGjjz5C9erV1bytW7eq6x2lc07z5s3VvOdxd3dHpUqVsGXLFmMO0K9fPxVUyvvZwjOTyQ/z2TGYz47BfE48C/dexuBlR/EoNAKZvNwxvHlxPDy9m3mdyHhmMmkzVTBpTa5vlDOEjRo1MuY8tmLFCvUEnN27dxtzYiaPYZTCKTdAt5g4caK6/lJ6edtDCqM81jExCqNsQPKb5Heyoko8zGfHYD47BvM54QWGhOHLxYexYM8lNV2zUEaMaVsO6T1cmNcOkFhlOjH33ymJaa8QPnjwoOosE5XMkx7Z9pKe3NID3Jr0Epcgk4iI6Pi1+2g6frMKJJ2dgIH1i2Dmu1WRJS2vjyQSpg0mixcvjmHDhiEkJMSYAzUu82SZvQYMGIBt27ap53qfOnVKXfc4ZcoU9O7d20hBREQpkTTc/bnjgh5IbsKpGw/04DEV5rxfDf3qFoaLRJVEpJg2mJQOMqtXr0auXLlQr149Nci4zJNl9qpcuTIWLVqEP/74A6VKlcK3336Ln376CR06dDBSEBFRSvMgOAwf/LUPny48iOCwCLxUJDNW9K+NagUyGimIyMK0waRcM3nmzBl1baPcBkgGueekzJNlsdGkSRPVbB4UFISjR4/GeFsgIiJK3g5fuYem4zZhyb4r6gzkx68Vxa9dKiOTVyojBRFZM/VdVdOkSYNu3brhxx9/VIMEgTKPiIgotqRZ+/dt59FiwhacufUQ2X088Fe3auj1ciE4s1mbKFqmDiZPnjyprm+Us5PffPNNpIGIiMheAUGh6PPHXny5+BBCwiJQt1gW9WztSvkyGCmIKDqmDSanTp2qOtp89dVXmD9/vrru0TIsXrzYSEVERBSzg5fuoYnvJvx94CpcnZ3weaPimNa5EtKncTdSEFFMTBtMytlIuUby2rVr2Ldvn7qJuWXYs2ePkYqIiMg2adb+dfNZtJq4BRfuBCJnOk/M7VEd779UINIT1YgoZqYNJu/evasef0hERBRb9wJD0WPWbgxedgQh4RFoUCKrataukCe9kYKI7GXaYFICyTVr1hhTRERE9tl74S4aj/PD6sPX4ebihK/fKIHJnSrCJzWfYEMUF6YNJgsVKqQem9ilSxf1PG5fX99IAxERkTVp1p7mdwatJ23FpbuPkCdDaizoWQPv1MzPZm2ieDBtMCm9uL28vLBhwwaMHz8eY8aMeTLITceJiIgs7j4MQdffdmHo30cRFqGhUelsWN6vFsrkSmekIKK4Mm0wefbs2WgHuXE5ERGR2HXuDhr7+uHfYzfg7uqMb5uXws/tK8Dbg83aRAnBtMEkERFRTCIiNEz47xTaTtmGK/eCkD9TGizqVQOdquVlszZRAjJtMPnuu+/GOBARUcp1+0Ew3vl1J0auOo5wPahsVi4HlvWthZI5fIwURJRQTBtMyq2BrIcbN25g3bp1WLhwIfz9/Y1URESU0mw/cxuNfP2w4cRNpHJ1xvCWpfFT23LwSuVqpCCihGTaYNL6iTcyLF++XF0r2bZtW1SrVs1IRUREKYWcgRz370m8NXUbrgcEo2DmNFjSpybaVcnDZm2iRJSsrpl0dnbGwIEDVY9uIiJKOW7eD8bb07dj9NoT0GNKtKqQSzVrF8vmbaQgosSS7DrgnD59GmFhYcYUEREld5tP3cLrY/30/7fh6eaCH1qXxeg2ZZHanc3aRI5g2mBSzkBaDwMGDEC7du1UM7cMRESUvEmz9o9rT6DjL9tx60EwimT1wtI+NfFmxVxGCiJyBNMGk3v37o00HDhwQM2Xp+HwpuVERMnb9YAgdJi2Db7/noSmAe0q58aS3rVQOGtaIwUROYppg8n169dHGv7991/8+eef6NatG1xd2bRBRJRcSS/tRmP9sO3MHaRxd8HYduUwvFUZeOrjROR4ye6aSSIiSp7CwiMwYtUxdJ6+A7cfhqB4dm/VyaZZuZxGCiJ6EUwbTJYvXx4VKlR4ZqhYsSJq1qyJzp07qzOWRERkflf8H6HdlG2Y+N9pNd2xWh71NJsCmb3UNBG9OKYNJl977TV1X8k0adLglVdeUYOXl5fqzV25cmVcvXoV9erVw5IlS4xXEBGRGa07dl3dhHzX+bvqxuPj25fH0Oal4eHGZm2ipMC0weStW7fw4Ycfws/PT3W6kWHjxo0YNGgQHj58iDVr1uCLL77At99+a7yCiIjMJDQ8At+vOIp3f90F/8BQlM7pg7/71UKTMjmMFESUFJg2mJw7dy7eeustY+opuT2QLBOy/Pjx42qciIjM49LdQLSetBVTNp5R011q5MP8ntWRN2MaNU1ESYdpg0kPDw9s2bLFmHpK5skyERER8WSciIjMYfXha6q39r6L/vD2cMWkjhUxuGlJpHJlszZRUmTaYLJv377o0aMH+vfvj1mzZqlBxnv27Il+/fqpNKtXr0a5cuXUOBERJW0hYREYsuwwuv++GwFBYSibOx3+7lcbr5XKZqQgoqTItMGkXA85depU7NixQwWPMsi4zPv8889VGgk2ly1bpsaJiCjpunA7EG9O2oIZm8+p6fdr58e87tWRO0NqNU1ESZdpg0nRoUMHbN26FXfu3FGDjLdv395YCnh6erKZm4goiVtx8Coa+/rhwKV7SJfaDdPeroTPG5eAu6upd1FEKYapt1R/f39MmzYN//vf/1QwKfbs2YPLly+rcSIiSrqCQsPx5eJD6DV7D+4Hh6Fi3vRY0a826pXIaqQgIjMwbTApz+IuUqQIRowYgVGjRqnAUixcuBCfffaZGicioqTp7K2HaDlhC37fdl5N93y5IP7sVg050nmqaSIyD9MGkwMHDkSXLl1w8uTJSE3ZjRo1UvebJCKipGnJvsto4uuHI1cDkCGNO359pzI+ea0Y3FzYrE1kRqbdcnfu3Inu3bsbU0/lzJkT165dM6aIiCipkGbtzxYeQP8/9+FhSDiq5M+gmrVfLprFSEFEZmTaYDJVqlQICAgwpp46ceIEMmfObEwREVFScOrGAzQbvxl/7LgIJyeg76uFMKdrVWTzYSdJIrMzbTDZtGlTfPPNNwgNDVXTTnrtdOHCBXzyySdo1aqVmkdERC/egt2X8Ma4TTh+/T4yeaXC7+9WxYcNisKVzdpEyYJpt2R5FveDBw+QJUsWPHr0CHXq1EGhQoWQNm1afPfdd0YqIiJ6UQJDwjBo3n58qA+PQsNRo2BGrOhfC7UKZzJSEFFyYNpg0sfHB2vXrsXy5cvh6+uLPn36YMWKFdiwYQPSpOGzW4mIXqQT1++rZu35uy/B2QkYUK8Ifn+vKrKkZbM2UXJj+jaGmjVrolevXvj4449RqVIlYy4REb0Imqbhr50X0HT8Jpy88UAPHlNhdtdq6F+vMFwkqiSiZMe0waTcX/Kvv/4ypoA2bdogY8aMqjf3/v37jblEROQoD4LDMOCvffhkwUEEhUagduFMWNG/NqoXzGikIKLkyLTB5KRJk5A7d241Ls3dMqxcuRKvv/46PvroIzWfiIgc48iVADQdtwmL911RZyA/fq0ofnuniupwQ0TJm2mDSbmXpCWYlOsm5cxkgwYNVHO33IOSiIgSnzRrz9p2Hs0nbMaZWw+R3cdDPcmm18uF4MxmbaIUwbTBZPr06XHx4kU1vmrVKtSrV0+NS8UWHh6uxomIKPHcDwpFnz/24ovFhxASFoFXi2XB3/1qo3K+DEYKIkoJTBtMtmzZEu3bt0f9+vVx+/Zt1bwt9u7dq24RREREiefgpXtoMm4T/j5wFa7OTvhfo2KY9nYl9XhEIkpZTBtMjhkzRt0OqESJEup6SS8vLzX/6tWrqnc3ERElPGn9+XXzWbSauAXnbwciZzpPzO1RHd1eKshmbaIUyrTBpJubGwYNGoSxY8eifPnyxlxgwIAB6Nq1qzFFREQJ5d6jUPSctQeDlx1BSHgE6pfIqp6tXSFPeiMFEaVEpgomly5d+uTxiTIe00BERAln30V/NPb1w6rD1+Dm4oSvmpTAlE4V4ZPazUhBRCmVqYLJ5s2b4+7du0/GoxtatGih0hARUfxIs/Y0vzN4c+IWXLr7CLkzeGJ+jxp4t1Z+ODmxWZuITBZMRkREqGdxW8ajG9ibm4go/vwDQ/D+zF0Y+vdRhEVoaFQ6m+qtXTZ3OiMFEZGJr5kkIqLEs/v8HTQa64d/jt6Au6szvm1eCj+3rwBvDzZrE1FkpgomfX197R6IiCj2IiI0TNpwGm0mb8OVe0HInykNFvWqgU7V8rJZm4hsctLkghiTyJ8/vzEWM6nwzpw5Y0wlvoCAAPj4+ODevXvw9vY25iYM6XC0YsUKNGrUSPVgp8TBfHYM5rNjxDWfbz8Ixofz9uO/4zfVdNOyOfB9y9LwSuWqpulZLNOOkVj5nJj775TEVGcmz549a9fgyECSiCg52H7mNhr5+qlAMpWrM4bpQeTYduUYSBLRc/GaSSKiFCw8QsO4f0/iranbcD0gGAUzp8GSPjXxVpU8bNYmIruYKpgcOHAgHj58+GQ8poGIiGJ2834wOk/fgdFrT0CPKdGyQk4s7VMLxbKxuY+I7GeqYFKeuy3XTVjGoxv27dun0hARkW1bTt1Szdqb9P+ebi4Y9WYZ/NimHNKwWZuIYslUweT69euRLt3j+5vJeHTDunXrVBoiIopMmrV/XHsCHX7Zrs5MFsnqhaV9aqJ1pdxGCiKi2OE1k0REKcT1gCB0mLYNvv+ehNzHo60eQC7pXQuFs6Y1UhARxZ5pg8mgoCCMGjVK3SagUqVKqFChQqSBiIie2njiproJ+bYzd5Da3QU/tS2HEW+Wgac+TkQUH6YNJt977z2MHDkSefPmRZMmTdCsWbNIQ2wMHjxY9Vq0HooVK2YsJSIyr7DwCIxafQydZ+zA7YchKJ7dG8v71kLz8jmNFERE8WPaYHL58uVYvHgxJk6cqILBr7/+OtIQWyVLlsTVq1efDJs2bTKWEBGZ09V7QeqWPz+vP62atTtUzaOeZlMgs5eRgogo/kwbTObMmRNp0ybcdT6urq7Ili3bkyFTpkzGEiIi8zl81wnNJmzFznN31Y3Hx7cvj+9alIaHG5u1iShhmepxitZWrlypnsE9adIk1dQdH3JmU66/lEcqeXh4oHr16hg2bBjy5MljpIgsODhYDRbyOKbcuXPj1q1bifI4xbVr16J+/fp8VFciYj47BvM58YWGR+CH1ccxfetFNV0yR1qMbVMWeTOmVtOUsFimHSOx8ln233LyiI9TjB/TBpM3b95EmzZtsHHjRqROnfqZwnXnzh1j7PkkMH3w4AGKFi2qmriHDBmCy5cv49ChQzbPfkrwKWmimjNnjvouREQvwh39GPe3Ey449+Dxk2teyhaBZnkj4Mr7dhDZFBgYiPbt2zOYjCfTBpP16tXDhQsXVEecrFmzPvPYr86dOxtjsefv76/Odv7444/q/aPimcnkh/nsGMznxPPP0Rv4dNEh3HsUhrSpXNE6bzAGtavHfE5kLNOOwTOTSZtpg0k5A7h161aULVvWmJOwKleurAJWae5+HimM0kSeGIVRNqAVK1aoWyCxoko8zGfHYD4nvJCwCAxbeRQzNp9T02Vz+WBMm9I4uPU/5rMDsEw7RmLlc2Luv1MS0zZ+yK17Hj16ZEwlLGnyPn36NLJnz27MISJKei7cDsSbk7Y8CSS71sqPeT1qIHd6Xm5DRI5j2mBy+PDh+PDDD/Hff//h9u3b6ujCeoiNQYMGYcOGDTh37hy2bNmCFi1awMXFBW+99ZaRgogoaVl58Coa+/rhwKV78PF0w7S3K+GLJiXgzgskicjBTFvrvPbaa6qZu27dusiSJQvSp0+vBnl2t/yPjUuXLqnAUTrgSKeejBkzYtu2bcicObORgogoaQgKDcdXSw6h5+w9uB8chop502NF/9qoVyKrkYKIyLFMG0yuX79eDevWrYs0WObFxp9//okrV66oTjUSWMp0wYIFjaVEREnD2VsP0WriFszcel5N96hTEH92q4ac6TzVNBHRi2DaYLJOnToxDkREycnS/VfwxrhNOHwlABnSuGPGO5Xx6evF4ObCZm0ierFMVQvJrYBiQ+4VSURkZtKs/dnCg+j3x148CA5DlXwZsKJfbbxSNIuRgojoxTJVMCm36+nevTt27txpzHmWdO+fOnUqSpUqhQULFhhziYjM59SNB2j+82b8seMC5Fa6fV8thDnvV0U2Hw8jBRHRi2eqYPLIkSNIkyaNummpPD+7cePGeP/999G3b1907NgRFSpUUJ1xpk+fjpEjR6Jfv37GK4mIzGXhnktoOn4Tjl27j0xe7pj5bhV82KAoXNmsTURJjKlqJellLU+lkUcejh8/HoULF1ZPnTl58qRa3qFDB+zevVv18pYbmxIRmU1gSBg+mrcfA+fu18fDUb1ARtWsXbsw7y5BREmTKQ9xPT098eabb+Knn37CokWLsGrVKsyaNUvdd1Kat4mIzOjE9ftoNn4z5u2+BGcnYEC9IpjVtSqyeLNZm4iSLraXEBG9YPJU27k7L6pm7ZM3HiBL2lSY3bUa+tcrDBeJKomIkjAGk0REL9DD4DDVpP3xggMICo1A7cKZ1E3IqxfMaKQgIkraGEwSEb0gR68GqHtHLtp7WZ2B/KhhUfz2ThVk8kplpCAiSvoYTBIROZg0a8/efh7Nft6MM7ceIpu3h3qSTe9XCsGZzdpEZDIMJomIHOh+UCj6/rEXny86hJCwCLxSNLNq1q6cL4ORgojIXEwdTMotgaZMmYKhQ4fim2++iTQQESU1hy7fQ5Nxm7D8wFW4Ojvhf42K4ZfOldXjEYmIzMq0waQ85aZ48eL46quvMH/+fHWLIMuwePFiIxUR0Ysnzdq/bTmHlhO24PztQORM54m/uldHt5cKslmbiEzPtMGknI387rvvcO3aNezbtw979+59MuzZs8dIRUT0Yt17FIqes/bg66WHERIegXrFs+LvfrVQMW96IwURkbmZNpi8e/cuWrdubUwRESU9+y76o7GvH1YdvgY3Fyd81aQEpr5dEelSs1mbiJIP0waTEkiuWbPGmCIiSjqkWXua3xm0nrQFl+4+Qu4MnpjfowberZUfTk5s1iai5MW0wWShQoXw5ZdfokuXLhg9ejR8fX0jDUREL4J/YAjen7kbQ/8+itBwDa+XyoblfWujbO50RgoiouTFtMGk9OL28vLChg0bMH78eIwZM+bJIM/sJiJytN3n76LRWD/8c/Q63F2c8W2zkpjQoQJ8PN2MFEREyY9pg8mzZ89GO5w5c8ZIRUSU+CIiNEzacBptJm/FlXtByJcxNRb2qoFO1fOxWZuIkj3TBpPW5PokGYiIHO32g2C8+9tODF95DOF6UPlG2RxY1rcWSuX0MVIQESVvpg4mZ86cidKlS8PT01MNZcqUwe+//24sJSJKXDvO3kEjXz/8d/wmUrk6Y1jL0vBtVw5pPdisTUQph2mCyYULF+LKlSvGFPDjjz+iZ8+eaNSoEebOnauG1157DT169FDXTRIRJRZp1h6/7iTaTdmK6wHBKJA5DRb3rom3quRhszYRpTimCSalGbtWrVo4fPiwmh43bhwmTpyIESNGoGnTpmoYOXIkJkyYwN7cRJRobt4PRucZO/DDmhPQY0q0LJ8Ty/rUQvHs3kYKIqKUxTTBZKtWrfDbb7+hTZs2avrq1auoUaOGGrcm82QZEVFC23LqlmrW9jt5Cx5uzhj5ZhmMblMWaVK5GimIiFIeU10zWbt2bXUrICH3mZSm7aj++usvFC5c2JgiIoo/6VgzZu0JdPhluzozWSSrlzob2aZSbjZrE1GKZ7oOOJkyZVL/hwwZgq+++kpdJ/ntt9+qQcZl/jfffKPSEBHF142AIHScth1j/z0JuWlEm0q5sKR3LRTOmtZIQUSUspkumLSQZu/t27er4HLx4sVqkPEdO3agRYsWRioiorjzO3lTNWtvPXMbqd1dMKZtWYx8syw89XEiInrMtMGkqFixImbNmoXdu3erQcbLly9vLCUiipuw8Aj8sPo43p6+A7cehKBYtrTq3pEtyucyUhARkYWpgsmAgABj7PF4TAMRUVxcvfcI7adux/j1p1SzdvuqedRtfwpm9jJSEBGRNVMFk+nTp8eNGzfUeLp06dR01MEyn4gottYfu6Gerb3j3B14pXLFuLfK4/sWpeHhxmZtIqLomCqYXLduHTJkyKDG169fr6ajDpb5RET2Cg2PwLAVR/HOrztxNzAUpXJ6Y3nfWurRiEREFDNTBZN16tSBq+vj+7nJeEwDEZE9Lvs/QtvJWzF54xk13bl6XizoWQP5MqVR00REFDPTdsCZMWMG5s2bZ0w9JfPk5uZERM+z9sh11ay954I/0nq4YmKHChjSrBRSubJZm4jIXqYNJocNG/bknpPWsmTJgu+//96YIiJ6VkhYBL5ZdgTvz9yFe49CUTaXD1b0q43XS2c3UhARkb1MG0xeuHAB+fPnN6aeyps3r1pGRGTLxTuBaD1pC6ZvPqum36uVH/N61EDuDKnVNBERxY5pg0k5A3ngwAFj6qn9+/cjY8aMxhQR0VOrDl1VNyHff+kefDzdMPXtSviySQm4u5q2KiQieuFMW4O+9dZb6Nevn+q9HR4ergbpxd2/f3+0a9fOSEVEBASFhuPrJYfQY9Ye3A8KQ4U86bCif23UL5HVSEFERHFl2mBSnsVdtWpV1K1bF56enmpo0KABXn31VV4zSURPnLv1EK0mbsFvW8+r6e51CuCv7tWRM52nmiYiovgxbTDp7u6Ov/76C8eOHcPs2bOxcOFCnD59GtOnT1fLiIiW7b+CJuM24fCVAKRP7YYZXSrjs9eLw82FzdpERAnF9DVqkSJF0Lp1azRp0kR1viEikmbtzxYeRN8/9uJBcBiq5MugmrVfKZbFSEFERAnFtMHku+++G+NARCnT6ZsP0PznzfhjxwU4OQF9XimEOe9XRXYfNmsTESUG0waTd+/ejTTIM7ulA440d/v7+xupiCglWbT3Et4YtwnHrt1HJi93zHy3CgY1LApXNmsTESUa09awixYtijQsX74cZ86cQdu2bVGtWjUjFRGlBI9CwvHRvP0Y8Nd+BOrj1QtkVDchr104s5GCiIgSS7I6XHd2dsbAgQMxZswYYw4RJXcnrt9H0/GbMG/3JdWs/UG9wpjVtSqyeHsYKYiIKDElu7Yf6dEdFhZmTBFRcqVpGubuuqgCyZM3HiBz2lSYrQeRH9QrAhdnPaokIiKHMG0wKWcgrYcBAwaom5VLM7cMRJR8PQwOw4dz9+Pj+QcQFBqB2oUzYWX/2qhR8Nnn9RMRUeIybTC5d+/eSIPl0YqjR4/GTz/9pMaJKPk5ejUAb4zfhIV7L0NOQH7UsCh+e6cKMnmlMlIQEZEjmTaYlMcoWg///vsv/vzzT3Tr1g2urq5GKiJKLqRZe872C+q2P2duPkQ2bw/82a06er9SCM5s1iYiemFMG0yePXsWJ0+eNKaeknnnzp0zpogoObgfFIp+f+7D/xYdRHBYBF4umlndhLxK/gxGCiIielFMG0x26dIFW7ZsMaae2r59u1pGRMnDocv31L0j5dGI0rHms9eLYXrnysiQho9NJSJKCkx9zWTNmjWNqafkHpP79u0zpojIrKRZe+bWc2g5YQvO3Q5EznSemNu9OrrXKchmbSKiJMS0waSTkxPu379vTD117949hIeHG1NEZEb3HoWi1+w9+GrJYYSER6Be8az4u18tVMyb3khBRERJhWmDyZdeegnDhg2LFDjKuMyrVauWMYeIzGb/RX80GeeHlYeuwc3FCV82KYGpb1dEutRs1iYiSopMG0yOGDFCPYu7aNGieOedd9Qg4xs3bsSoUaOMVERkFtKs/cums3hz0hZcvPMIuTN4Yn6PGnivVn7VEkFEREmTaYPJEiVKqHtLtmnTBjdu3FBN3m+//TaOHTuGUqVKGamIyAz8A0Pw/szd+Hb5EYSGa3i9VDYs71sbZXOnM1IQEVFSZdpgUuTIkQPff/89/v77b8yfPx9fffUVMmTgrUKIzGT3+bto7LsJ/xy9DncXZ3zTrCQmdKgAH083IwURESVlpg4m/fz80LFjR9SoUQOXL19W837//Xds2rRJjRNR0hURoWHyhtNoO3krLvs/Qt6MqbGwVw28XT0fm7WJiEzEtMHkggUL0LBhQ3h6emLPnj0IDg5W86U3t5ytjKvhw4erHdkHH3xgzCGihHbnYQje+20nhq08hjA9qGxSJjuW962FUjl9jBRERGQWpg0mhw4dikmTJmHq1Klwc3vaHCb3npTgMi527tyJyZMno0yZMsYcIkpopwOAphO2Yv3xm3B3dcb3LUpj3FvlkdaDzdpERGbkpEkXShNKnTo1jhw5gnz58iFt2rTYv38/ChQogDNnzqjOOUFBQUZK+zx48AAVKlTAhAkTVKBarlw5/PTTT8bSyOQsqOVMqAgICEDu3Llx69YteHt7G3MTRmhoKNauXYv69etHCpopYTGfE580a0/47xTGrT+DCDihQKbUGNu2LIplS2ukoITC8uw4zGvHSKx8lv13pkyZVKtmQu+/UxLTBpMSOE6ZMgX16tWLFEzOnDlTNVVLoBkbnTt3Vp13xowZg5dffjnGYHLw4MEYMmSIMfXUnDlzVJBLRJHdDwV+P+mM4/ceN4ZUyhSBNgUikMpFTRIRvRCBgYFo3749g8l4Mm0wKTcnnzVrFqZPn66OVFasWIHz589jwIAB+PLLL9G3b18j5fP9+eef+O6771Qzt4eHx3ODSZ6ZTH6Yz4ln25k7GDjvAG4+CIGHqzNa5A3FF+3rwt2dNyFPLCzPjsO8dgyemUzaTBtMyteWjjYSVMqRhUiVKhUGDRqEb7/9Vk3b4+LFi6hUqZIqpJZrJZ8XTEYlhdHHxydRCqNsQBIoN2rUiBVVImI+J7zwCA3j1p2E778noY+icBYvjG1TBid3b2Q+JzKWZ8dhXjtGYuVzYu6/UxLTdsCRHteff/457ty5g0OHDmHbtm24efNmrAJJsXv3bnXTc7le0tXVVQ0bNmyAr6+vGudzvoli70ZAEDr9sh0//fM4kGxTKReW9qmFwlm9jBRERJRcmPo+k0KayqTDTZUqVeDlFfsdVd26dXHw4EHs27fvySBnKjt06KDGXVx4URdRbPidvIlGvn7Ycvo2Uru74Mc2ZTHyzbLw1MeJiCj5MVUw2bJlS3VK2jIe0yCPVpTnd8up65hI5x15/KL1kCZNGmTMmJGPZSSKhbDwCPyw+jjenr4Dtx6EqF7acjayZYVcRgoiIkqOTBVMynUNlidjyHhMQ1hYmLoPZadOnVR6Iko81+4Fof3U7Ri//hTkKuz2VfNgce+aKJSFzdpERMmdaTvg2ENuD1S5cmU8fPjQmJM42AHH/JjPcbf++A18OHe/eqqNVypXfN+yNJqWzWEsjYz57BjMZ8dhXjtGYuUzO+AkDNNfM3nq1CmsXr0ajx49UtPWsXHRokWxZcsWY4qIElJoeASGrTyKd2bsVIFkyRzeWNa3VrSBJBERJU+mDSZv376tOs8UKVJEHalcvXpVzX/vvffw4YcfqnHpPFO2bFk1TkQJ57L/I7Sbsg2TN5xR029Xz4sFPWsgf6Y0apqIiFIO0waTcnNyOdV94cKFSE+dadu2LVatWmVMEVFCW3vkOhqN9cPu83eR1sMVEztUwDfNSsHDjb21iYhSItMGk2vWrFG9tXPlitxTtHDhwupJOESUsELCIvDt8iN4f+Yu3HsUirK5fPB339p4vXR2IwUREaVEpg0mpVONredgy03M5Uk4RJRwLt4JROvJW/HLprNq+t2a+TGvRw3kychn0RMRpXSmDSZr166NmTNnGlOPn4gTERGBkSNH4pVXXjHmElF8rTp0Vd2EfP9Ff/h4umHq25Xw1Rsl4O5q2uqDiIgSkGn3BhI0TpkyBa+//jpCQkLw8ccfq5uMb9y4UTV/E1H8BIeF4+slh9Bj1h7cDwpD+Tzp8He/WqhfIquRgoiIyMTBpASOJ06cQK1atdCsWTPV7C1Pvtm7dy8KFixopCKiuDh36yFaTdyC37Y+vv64e50CmNu9OnKlZ7M2ERFFZup2KrnR6Oeff465c+eqm5kOHToU2bOzMwBRfCw/cAVNxm3CocsBSJ/aDTO6VMZnrxeHmwubtYmI6FncOxCREhQajv8tOog+c/biQXAYKudLjxX9a+OVYlmMFERERM9iMElEOH3zAZr/vBlztl+APP6+9ysF8cf71ZDdx9NIQUREZBuDSaIUbtHeS3hj3CYcu3YfGdO447d3quCjhsXgymZtIiKyA/cWRCnUo5BwfDx/Pwb8tR+B+nj1Ahmxsn9tvFQks5GCiIjo+UwdTIaFheGff/7B5MmTcf/+fTXvypUrePDggRonIttOXr+PZj9vwtxdl1Szdv+6hTGra1Vk8fYwUhAREdnHtMGkPDKxdOnS6rZAvXv3xs2bN9V8ucfkoEGD1DgRPWverot4Y/wmnLj+AJnTpsLs96piQP0icHHWo0oiIqJYMm0w2b9/f1SqVAl3796Fp+fTTgItWrTAv//+a0wRkcXD4DAMnLsPH80/gKDQCNQunAkr+tVGjUKZjBRERESxZ9pg0s/PD1988QXc3d2NOY/ly5cPly9fNqaISBy7FoCm4zdh4Z7LkBOQgxoUUR1t5MwkERFRfJg2mJTncIeHhxtTT126dAlp06Y1pohSNk3T8MeOC2g2fjNO33yIrN6p1C1/+rxaGM5s1iYiogRg2mCyQYMG+Omnn4wpwMnJSXW8+frrr9GoUSNjLlHKdT8oFP3+3IfPFh5EcFgEXi6aWTVrVy2Q0UhBREQUf6YNJkePHo3NmzejRIkSCAoKQvv27Z80cUsnHKKU7NDle+rekcv2X1Edaz59vRimd66MjF5s1iYiooRl2mAyV65c2L9/P/73v/9hwIABKF++PIYPH469e/ciSxY+/o1SJmnW/n3rObScsAXnbgcih48H5navhh51CrJZm4iIEoVpg0nh6uqKjh07YuTIkZgwYQK6du0aqWc3UUoSEBSK3nP24MslhxESHoF6xbOqZ2tXzJvBSEFERJTwTBVMLl261O6BKCXZf9EfjX39sOLgNbi5OOGLxsUx9e2KSJc68t0OiIiIEpqpgsnmzZtHGuSekrbmyUCUEkiz9vRNZ/HmpC24eOcRcqX3xLweNdC1dgHVKY2IiCixmSqYlNsBWYY1a9agXLlyWLlyJfz9/dUg4xUqVMCqVauMVxAlX/6BIej2+258s/wIQsM1vFYyG/7uVxvlcqczUhARESU+014z+cEHH2Ds2LFo2LAhvL291SDjP/74I/r162ekIkqe9ly4i8a+m7D2yHW4uzhjSNOSmNixAnw83YwUREREjmHaYPL06dNIl+7ZMzA+Pj44d+6cMUWUvEREaJiy8TTaTNqKy/6PkDdjaizsVQOda+RjszYREb0Qpg0mK1eujIEDB+L69evGHKjxjz76CFWqVDHmECUfdx6GoOvMXfh+xTGE6UFlkzLZsbxvLZTK6WOkICIicjzTBpPTp0/H1atXkSdPHhQqVEgNMi43Lf/ll1+MVETJw85zd1Rv7XXHbsDd1RnftSiFcW+VR1oPNmsTEdGLZdpgUoLHAwcOYNmyZeoaSRmWL1+OgwcPqmVEyYE0a/+8/hTaTdmGq/eCUCBTGizuVRMdquZlszYRESUJpg0mhexM5RndlmCyfv363MFSsnHrQTA6z9iBUauPI1wPKluUz4llfWuhRA5vIwUREdGLZ+pgkii52nr6NhqN9YPfyVvwcHPGyFZl8GObskiTytVIQURElDQwmCRKQuQM5Nh/TqLDtG24cT8YhbN4YWmfWmhTOTfPuhMRUZLEYJIoibhxPwidftmOMf+cgB5TonXFXFjSpyaKZE1rpCAiIkp6GEwSJQGbTt5SzdpbTt9GancX1aQ9qnVZfZzN2kRElLSZOpgMDw/HggULMHToUDUsWrRIzSMyi7DwCIxecxydpm/HrQchKJYtrWrWblkhl5GCiIgoaTNtMHnq1CmUKFECb7/9NhYuXKiGjh07omTJkurpOERJ3bV7QWg/bTvGrTsFTQPeqpIHi3vXRKEsXkYKIiKipM+0waTcCqhAgQK4ePEi9uzZo4YLFy4gf/78ahlRUvbf8Rto5OuHHWfvII27C3zfKo9hLUvDw83FSEFERGQOpg0mN2zYgJEjRyJDhgzGHCBjxowYPny4WkaUFIWGR2D4ymPoMmOnejxiiezeWN6vNpqWzWGkICIiMhfTBpOpUqXC/fv3jamnHjx4AHd3d2OKKOm44v9IPclm0obHl2G8XT0vFvaqgfyZ0qhpIiIiMzJtMNmkSRN069YN27dvh6Zpati2bRt69OiBpk2bGqmIkoZ/jlxXzdq7z99F2lSumNChAr5pVorN2kREZHqmDSZ9fX1RsGBBVK9eHR4eHmqoWbOmei732LFjjVREL1ZIWASGLj+CrjN3wT8wFGVy+eDvfrXRqHR2IwUREZG5mTaYTJcuHZYsWYLjx49j3rx5mD9/vhqX2wP5+PgYqYhenIt3AtF68lZM23RWTb9bMz/m96iBPBlTq2kiIqLkwLTBpEXhwoXxxhtvqGZvOStJlBSsOnRNNWvvv+gPbw9XTOlUEV+9UQLurqbf5IiIiCIx9Z7tl19+QalSpZ40c8v4tGnTjKVEjhccFo7BSw+jx6zduB8UhvJ50mFF/9poUDKbkYKIiCh5MW0w+dVXX6F///7qrKQ0c8sg4wMGDFDLiBzt/O2HeHPiVvy65Zya7v5SAcztXh250rNZm4iIki/TBpMTJ07E1KlTMWzYMNV7WwYZnzJlCiZMmGCkInKM5QeuoLHvJhy8fA/pU7thepdK+KxRcbi5sFmbiIiSN9Pu6UJDQ1GpUiVj6qmKFSsiLCzMmCJKXEGh4fh80UH0mbMXD4LDUDlfetWs/WqxrEYKIiKi5M20wWSnTp3U2cmo5Mxkhw4djCmixHPm5gO0mLAFs7dfgJMT0PuVgvjj/WrI7uNppCAiIkr+TN0GZ+mA07VrVzWULl1aNX07Oztj4MCBTwaihLZ472U0GbcJR68GIGMad/z2ThV81LAYXNmsTUREKYxp93yHDh1ChQoVkDlzZpw+fVoNmTJlUvNk2d69e9Wwb98+4xVE8fcoJByfzD+AD/7ah0B9vFqBDKpZ+6UimY0UREREKYtpg8n169fbNaxbt854BVH8nLx+H81+3oS/dl1Uzdr96xbG7K7VkNXbw0hBRESU8rBNjsgO8/QAsun4zThx/QEyp02F2e9VxYD6ReDirEeVREREKZhpg8mgoCCMGjUKjRo1Ur26pXnbeiBKCA+DwzBw7j58NP8AHoWGo1ahTFjRrzZq6P+JiIjIxMHke++9h5EjRyJv3rzqUYrNmjWLNBDF17FrAWg6fhMW7rkMOQE5qEER/PZuFXVmkoiIiB4zbTC5fPlyLF68WN0eaPDgwfj6668jDURxpWka/txxAc3Gb8bpmw+R1TuVuuVPn1cLs1mbiIgoCtMGkzlz5kTatGmNqfiRgLRMmTLw9vZWQ/Xq1bFy5UpjKaUkcuPx/n/uw6cLDyI4LAJ1imRWzdpVC2Q0UhAREZE10waTo0ePxieffILz588bc+IuV65cGD58OHbv3o1du3bh1VdfVU3lhw8fNlJQSnDpIdBi4jYs3X9FnYH89PVimNGlMjJ6sVmbiIgoOqYNJqXTjXTCKVCggDpDmSFDhkhDbLzxxhuqI0/hwoVRpEgRfPfdd/Dy8sK2bduMFJScSbP27B0XMeagC87dDkQOHw/M7V4NPeoUhDObtYmIiGLkpO9INWPcVOrVq4cLFy6ojjhZs2aFk9z4z0rnzp2NsdgJDw/HvHnz1OvlpuclSpQwljwVHBysBouAgADkzp0bt27dUs3kCUmeQb527VrUr18fbm5uxlxKKPeDQvH54iNYefi6mn6lSEaMaFUa6VO7q2lKWCzPjsF8dhzmtWMkVj7L/lseeHLv3r0E33+nJKYNJlOnTo2tW7eibNmyxpz4OXjwoLpWUs52ylnJOXPmqLOVtkiHnyFDhhhTT8lr5HuROVx4APx6wgW3g53g7KShaZ4IvJxdUzckJyKi5C8wMBDt27dnMBlPpg0m5V6SEyZMQLVq1Yw58RMSEqLOdEqBmj9/PqZNm4YNGzbwzGQyJEV+5rYLGLH6BELDNeRK54EfWpXE9SPbmc+JjOXZMZjPjsO8dgyemUzaTBtMrlmzRp0dlOsbS5cu/Uzhim+hkGb0ggULYvLkycac6Elh9PHxSZTCKBvQihUr1FlSVlTxdy8wFB/N3481Rx43azcsmRUj3yyL1K5gPjsAy7NjMJ8dh3ntGImVz4m5/05JTNsB57XXXlPN3HXr1kWWLFmQPn16NaRLl079j6+IiIhIZx/J/PZeuItGvn4qkHR3ccaQpiUxqWNF+HhyB0BERBRXpg0m169fr4Z169ZFGizzYuOzzz7Dxo0bce7cOXXtpEz/999/6NChg5GCzCwiQsPUjWfQetJWXPZ/hLwZU2NBzxroXCPfMx23iIiIKHZMG0zWqVMnxiE2bty4gbfffhtFixZVZzp37tyJ1atXq2szyNzuPgxB15m78N2KowjTg8rGZbJjWd9aKJ3Lx0hBRERE8WHaYFL4+fmhY8eOqFGjBi5fvqzm/f7779i0aZMat9cvv/yizkpKs7YElv/88w8DyWRg17k7qll73bEbcHd1xnctSmH8W+Xh7cFmbSIiooRi2mBywYIFaNiwITw9PbFnz54n1zfKRbTff/+9GqeUSZq1J/x3Cm2nbMPVe0EokCkNFveqiQ5V87JZm4iIKIGZNpgcOnQoJk2ahKlTp0bq2VWzZk0VXFLKdOtBMLr8uhMjVx1HuB5UNi+XA0v71kKJHOylR0RElBhMG0weP34cL730kjH1lHTx9/f3N6YoJdl25jYajfXDxhM34eHmjJGtymBM23LwSuVqpCAiIqKEZtpgMlu2bDh16pQx9ZRcLynP66aUQ85A+v57Eu2nbsON+8EolMULS3rXQpvKudmsTURElMhMG0y+//776N+/P7Zv364ChitXrmD27NkYNGgQevbsaaSi5O7G/SC8PX07flx7AnpMiTcr5sLSPjVRNFtaIwURERElJtMGk59++ql6nqbcyufBgweqybtr167o3r07+vbta6Si5GzzqVtoNHaT/v82PN1cMLp1WfygD6nd2axNRETkKKYNJuVs5Oeff447d+7g0KFD2LZtG27evIlvv/3WSEHJVVh4BH5ccxwdf9muOtwUzZpW3TuyVcVcRgoiIiJyFNMGkxbu7u4oUaIEqlSpAi8vL2MuJVfXA4LQftp2+K47BXmq/FtVcmNJn5rqOkkiIiJyPFMFky1btlQPZbeMxzRQ8vPf8Rt4fawfdpy9gzTuLhjbrhyGtSwDDzcXIwURERE5mqmCSbntj6V3rozHNFDyIc3aI1YdQ5cZO3HnYQhKZPfG8n610axcTiMFERERvSimCiZnzJiBMWPGIDAwUI3HNFDycMX/EdpN2YaJ/51W052q5cXCXjWQP1MaNU1EREQvlumumRwyZIjqvU3J379Hr6tna+86fxdpU7liQocK+LZ5KTZrExERJSGmCyY16XVByVpIWAS++/sI3vttF/wDQ1Emlw/+7lcbjUpnN1IQERFRUmG6YFLwqSbJ18U7gWgzeSum+p1V0+/UzId5PaojT8bUapqIiIiSFlMGk0WKFEGGDBliHMh8Vh++hsa+fth30R/eHq6Y3Kkivn6jJFK5slmbiIgoqTJlMCnXTUpHnJgGMo/gsHAMXnoY3X/fjYCgMJTLnQ4r+tdGw5LZjBRERESUVJkymGzXrh06d+4c40DmcP72Q7w5cSt+3XJOTXd7qYBq1s6Vns3aREREZmC6YJLXSyYffx+4iia+m3Dw8j2kS+2G6V0q4X+NisPNxZTHOERERCmS6fba7M1tfkGh4fhi8UH0nrMH94PDUClveqzoVxuvFstqpCAiIiKzMF0wGRERgSxZshhTZDZnbj5AiwlbMGvbBTXd6+WC+LNbNeRI56mmiYiIyFzYnkgOs2TfZbwxbhOOXg1AxjTu+O3dKvj4tWJwZbM2ERGRaXEvTonuUUg4Pl1wAP3/3IeH+ni1AhlUb+06RTIbKYiIiMisGExSojp14z6a/7wZf+68COk71a9uYczuWg1ZvT2MFERERGRmDCYp0czffQlvjNuM49fvI5NXKsx6ryoG1i8CF2f2yCciIkouGExSggsMCcOHc/dj0Lz9eBQajpqFMmJF/1r6/0xGCiIiIkouGExSgjp+7b7qZLNgzyXICcgP6xfBzHerIktaNmsTERElRwwmKUHI/T//3HEBTcdvwumbD5HVOxXmvF8NfesWZrM2ERFRMsZgkuLtQXAYPvhrHz5deBDBYRGql7bchLxagYxGCiIiIkquGExSvBy+cg9Nx23Ckn1X1BnIT14rhhldKiOjVyojBRERESVnDCYpTqRZ+/dt59XTbM7ceojsPh74q1s19Hy5IJzZrE1ERJRiMJikWAsICkWfP/biy8WHEBIWgbrFsqhm7Ur5MhgpiIiIKKVgMEmxcvDSPTTx3YS/D1yFq7MTvmhcHNM6V0L6NO5GCiIiIkpJGEySXaRZ+9fNZ9Fq4hZcuBOInOk8Ma9HdXStXQBO8mgbIiIiSpEYTNJz3QsMRY9ZuzF42RGEhEegQYmsqlm7fJ70RgoiIiJKqRhMUoz2XriLxuP8sPrwdbi7OGPwGyUwuVNF+KR2M1IQERFRSsZgkmySZu2pG8+g9aStuHT3EfJkSI0FPWugS838bNYmIiKiJxhM0jPuPgxB19924bsVRxEWoaFx6exY3q8WSufyMVIQERERPcZgkiLZde4OGvv64d9jN+Du6oyhzUthfPvy8PZgszYRERE9i8EkKRERGib8dwptp2zDlXtByJ8pDRb1qoGO1fKyWZuIiIiixWCScPtBMN75dSdGrjqOcD2obFYuB5b1rYWSOdisTURERDFjMJnCbT9zG418/bDhxE2kcnXGiFal8VPbcvBK5WqkICIiIooeg8kUSs5Ajvv3JN6aug3XA4JRKIsXlvaphbaV87BZm4iIiOzGYDIFunk/GG9P347Ra09AjynRqkIuPZCsiaLZ0hopiIiIiOzDYDKF2XzqFl4f66f/vw1PNxf80LosRrcpi9TubNYmIiKi2GMwmUJIs/aPa0+g4y/bcetBMIpmTYtlfWvizYq5jBREREREscdgMgW4HhCE9lO3wfffk9A0oF3l3FjcuyYKZWGzNhEREcUPg8lkTnppNxrrh+1n7yCNuwvGtiuH4a3KwFMfJyIiIoovBpPJVFh4BEasOobO03fg9sMQFM/ure4d2axcTiMFERERUfwxmEyGrvg/Qrsp2zDxv9NqulO1vOppNgUye6lpIiIiooTCYDKZWXfsuroJ+a7zd5E2lSt+bl8B3zYvBQ83NmsTERFRwmMwmUyEhkfg+xVH8e6vu+AfGIrSOX2wvF8tNC6T3UhBRERElPAYTCYDl+4GovWkrZiy8Yya7lIjH+b3rI68GdOoaSIiIqLEwmDS5FYfvqZ6a++76A9vD1dM7lQRg5uWRCpXNmsTERFR4mMwaVLBYeEYsuwwuv++GwFBYSiXOx3+7lcbDUtmM1IQERERJT4GkyZ04XYg3py4FTM2n1PT79fOj7ndqyN3htRqmoiIiMhRGEyazIqDV9HY1w8HL99DutRu+KVzJXzeuATcXbkqiYiIyPEYgeiGDRuGypUrI23atMiSJQuaN2+O48ePG0uThuDQcHy5+BB6zd6D+8FhqJQ3PVb0q426xbMaKYiIiIgcj8GkbsOGDejduze2bduGtWvXIjQ0FA0aNMDDhw+NFC/WjUdA6yk78Pu282q618sF8Ue3asiRzlNNExEREb0oDCZ1q1atQpcuXVCyZEmULVsWv/76Ky5cuIDdu3cbKV6cZQeu4ocDLjh67T4ypHHHb+9WwcevFYObC1cdERERvXhOms4YJ8OpU6dQuHBhHDx4EKVKlTLmPhUcHKwGi4CAAOTOnRu3bt2Ct7e3MTf+hq86jl82Pz4bWTlvOoxpUwZZvT3UNCUsORstZ6Xr168PNzc3Yy4lNOazYzCfHYd57RiJlc+y/86UKRPu3buXoPvvlIbBZBQRERFo2rQp/P39sWnTJmNuZIMHD8aQIUOMqafmzJmD1KkTrkf1vttO+PWEMxrk1NAwdwRcnIwFREREFG+BgYFo3749g8l4YjAZRc+ePbFy5UoVSObKlcuYG5mjzkyKE1fv4dTezTzqTWQ8u+AYzGfHYD47DvPaMXhmMmljMGmlT58+WLJkCTZu3Ij8+fMbc59PCqOPj0+iFEbZgFasWIFGjRqxokpEzGfHYD47BvPZcZjXjpFY+ZyY+++UhL04dBJPSyC5aNEirFu3LlaBJBEREVFKxmBSJ7cFmjVrlrrmUe41ee3aNTU8evTISEFEREREtjCY1E2cOFGd4n755ZeRPXv2J8Nff/1lpCAiIiIiWxhM6qSZ29Yg954kIiIiougxmCQiIiKiOGMwSURERERxxmCSiIiIiOKMwSQRERERxRmDSSIiIiKKMwaTRERERBRnDCaJiIiIKM4YTBIRERFRnDGYJCIiIqI4c9LkUS8UL/IoxnTp0uHixYvw9vY25iaM0NBQrFmzBg0aNICbm5sxlxIa89kxmM+OwXx2HOa1YyRWPgcEBCB37tzw9/eHj4+PMZdii8FkArh06ZIqjERERGQ+cjIoV65cxhTFFoPJBBAREYErV64gbdq0cHJyMuYmDMtRU2Kc9aSnmM+OwXx2DOaz4zCvHSOx8llCoPv37yNHjhxwduaVf3HFYDKJkw1ITr1LUzorqsTDfHYM5rNjMJ8dh3ntGMznpI1hOBERERHFGYNJIiIiIoozl8E6Y5ySKBcXF7z88stwdXU15lBiYD47BvPZMZjPjsO8dgzmc9LFayaJiIiIKM7YzE1EREREccZgkoiIiIjijMEkEREREcUZg0kiIiIiijMGk0nYzz//jHz58sHDwwNVq1bFjh07jCUUF8OGDUPlypXVk4qyZMmC5s2b4/jx48bSx4KCgtC7d29kzJgRXl5eaNWqFa5fv24spbgYPny4ejLUBx98YMxhPieky5cvo2PHjiovPT09Ubp0aezatctY+vgJH1999RWyZ8+ulterVw8nT540lpI9wsPD8eWXXyJ//vwqDwsWLIhvv/1W5a0F8zn2Nm7ciDfeeEM9fUbqiMWLFxtLHrMnT+/cuYMOHTqoG5mnS5cO7733Hh48eGAsJUdhMJlE/fXXXxg4cCC+/vpr7NmzB2XLlkXDhg1x48YNIwXF1oYNG1QAs23bNqxduxahoaFo0KABHj58aKQABgwYgGXLlmHevHkqvTwms2XLlsZSiq2dO3di8uTJKFOmjDHnMeZzwrh79y5q1qwJNzc3rFy5EkeOHMHo0aORPn16IwUwcuRI+Pr6YtKkSdi+fTvSpEmj6hIJ6Mk+I0aMwMSJEzF+/HgcPXpUTUu+jhs3zkjBfI4LqXtl3yYnTmyxJ08lkDx8+LCq05cvX64C1G7duhlLyWH0yJ+SoCpVqmh64GNMaZp+ZKzpR2/asGHDjDkUX3pgLqcVND2YUdP+/v6avlPW9ABHTQt9x6HSbN261ZhD9rp//75WuHBhTa/ktTp16mj9+/dX85nPCeeTTz7RatWqZUw9KyIiQsuWLZs2atQoY87j/E+VKpX2xx9/GHPoeRo3bqy9++67xtRj+sGPpgcyapz5HH+y/S9atMiYsi9P9YMn9Tr9oFVNC/2gSnNyctIuX75szCFH4JnJJCgkJAS7d+9Wp/Qt5AH0Mq3vbI05FF/yjFeRIUMG9V/yXM5WWud7sWLFkCdPHuZ7HMhZYH0nHCk/BfM54SxduhSVKlVC69at1aUb5cuXx9SpU42lwNmzZ3Ht2rVIeS3PN5bLZpjX9qtRowb+/fdfnDhxQk3v378fmzZtwuuvv66mmc8Jz548lf/StC3bgIWkl/2lnMkkx2EwmQTdunVLXaOTNWtWY85jMi0bF8WfftSrruGTJsJSpUqpeZK37u7uqnKyxnyPvT///FNdniHXqUbFfE44Z86cUc2vhQsXxurVq9GzZ0/069cPv/32m1puyU/WJfHz6aefol27duqgRy4pkKBd6g9pYhXM54RnT57KfzmIsiZPx5ETBMx3x2IwSSmSnDU7dOiQCnooYV28eBH9+/fH7NmzVecxSjxyUFShQgV8//33KsCRa8Xef/99dY0ZJZy5c+eq8jxnzhx1kCTB+g8//PAkaCdK6RhMJkGZMmVSzyCN2rtVprNly2ZMUVz16dNHXai9fv165MqVy5gLlbdyiYG/v78x5zHme+xIM7Z0FJMgR84SyCCdbORCehmXMwvM54QhvVxLlChhTD1WvHhxXLhwQY1b8pN1Sfx89NFHT85OSm/5Tp06qU5kljPvzOeEZ0+eyv+onVLDwsJUD2/mu2MxmEyCpAmwYsWK6hodCzkDIdPVq1c35lBsaZqmAslFixZh3bp16jYf1iTPpQnLOt/l1kGyY2a+269u3bo4ePAg9u3b92SQa5qkSdAyznxOGHKZRtTbW8l1fXnz5lXjUsZlp2qd1wEBAep6Mua1/QIDA9V1eNbkgF/qZcF8Tnj25Kn8l4NSOYC1kLpd1otcW0kO9LgfDiU1f/75p+q19uuvv6oea926ddPSpUunXbt2zUhBsdWzZ0/Nx8dH+++//7SrV68+GfQdhZFC03r06KHlyZNH0yskbdeuXZpeWamB4se6N7dgPieMHTt2aK6urtp3332nnTx5Ups9e7aWOnVqbdasWUYKTRs+fLiqO5YsWaIdOHBAa9asmabvqLVHjx4ZKeh5OnfurOXMmVNbvny5dvbsWW3hwoVapkyZtI8//thIwXyOC7njw969e9Ug4ciPP/6oxs+fP6+W25Onr732mla+fHlNDzK1TZs2qTtIvPXWW8ZSchQGk0nYuHHj1A7X3d1d3Spo27ZtxhKKC6msbA0zZswwUmiqkurVq5eWPn16tVNu0aKFCjgpfqIGk8znhLNs2TKtVKlS6uCzWLFi2pQpU4wlj0VERGhffvmlljVrVpWmbt262vHjx42lZI+AgABVfqU+9vDw0AoUKKB9/vnnWnBwsJGC+RwX69evt1knS/Au7MnT27dvq+DRy8tL8/b21t555x0VpJJjOckffeUREREREcUar5kkIiIiojhjMElEREREccZgkoiIiIjijMEkEREREcUZg0kiIiIiijMGk0REREQUZwwmiYiIiCjOGEwSERERUZwxmKQU7dy5c3ByclLPjI7Of//9p9LIM2Dj4+WXX8YHH3xgTNln8ODBKFeunDGVOBLq9yV3Xbp0QfPmzY2p5C0uZdUWeW64PF/5/v37xpyky57t4Ndff0W6dOmMqbjLly8ffvrpJ2MqflatWqXqCMtzwoleBAaT9MJdu3YNffv2RYECBZAqVSrkzp0bb7zxRqQH/CcEW8GAfNbVq1dRqlQpYw4lZfYE/8mdmYLazz77TG3badOmNeYkXTVq1FB1gY+PjzHHHF577TW4ublh9uzZxhwix2MwSS+UBAcVK1bEunXrMGrUKBw8eFAdab/yyivo3bu3kSrxuLi4qDMnrq6uxhyi5CE0NNQYezEuXLiA5cuXq+DXDNzd3VVdIAcrZiN57Ovra0wROR6DSXqhevXqpSrvHTt2oFWrVihSpAhKliyJgQMHYtu2bUYq4Mcff0Tp0qWRJk0adTZRXvfgwQNj6dPmp9WrV6N48eLw8vJSR+xypkFIc/Fvv/2GJUuWqM+TQZq1bJ3pWrFihfoenp6eKqiVNNZu376Nt956Czlz5kTq1KnV9/rjjz+MpY89fPgQb7/9tvoe2bNnx+jRo40lMRs+fDiyZs2qzuS89957CAoKMpY8NW3aNPUbPTw8UKxYMUyYMMFYYps0fw0bNgz58+dXv6ls2bKYP3++sdS2TZs2oXbt2iq95He/fv3Ub7KQZrqhQ4c++Y158+bF0qVLcfPmTTRr1kzNK1OmDHbt2mW84jF73vf777/Hu+++q/IgT548mDJlirEU6jeI8uXLq/UmzbFCfuM333yDXLlyqbPb0uwnByUWISEh6NOnj1oXkm/yfSVPohMeHq7KoJSpjBkz4uOPP4amacbSx+KSr8HBwRg0aJAqO1KWq1atqsqhRXzL8V9//YU6deqo3yhnqhKqrP7++++oVKmSWicScLVv3x43btwwlto2d+5clSfy2dbiWwZssdVsLGVA8stC8ke2nRYtWqi8KFy4sCqzFraauWV9yOdLenmd5Ke106dPq/Iu26zkX+XKlfHPP/8YSx+TfJKWFvm9UlZsnUGUz+zatSsyZ84Mb29vvPrqq9i/f7+xFGpc6iLJD1kuB+DW25a8v0zL9yF6IfQKkuiF0CtmTa+8NX3HYcyJ3pgxY7R169ZpZ8+e1f7991+taNGiWs+ePY2lmjZjxgzNzc1Nq1evnrZz505t9+7dmr4z1vSdnlp+//59rU2bNpq+Y9b0HbMa9B27ej/ZDPbu3avSXbhwQdODEU0PJLRjx45ps2bN0vQdhUpz9+5dlebSpUvaqFGj1Gv0ylvz9fXVXFxctO3bt6vlQr6bvhPS9B2LduDAAa1JkyaaviPQ+vfvb6R4lh4IqM/Wd3jqsz///HP1Gn2HbKTQ1PfRd/jaggULtDNnzqj/GTJk0PSdnpHiWXrQp+lBp6YHV+r7Sl7J5+g7T7V8/fr1kX7fqVOnND3QUXl+4sQJbfPmzZoevGldunRRy4UejKnPnTRpkkojv1ffyan81YMI7fjx41rz5s3VOtCDLvWa2Lzvzz//rJ08eVLTgzXN2dlZ5YfQDzrUd5V8lXUoZUjoBxvq8/VASaXVgz9VHuRzhKwvPXDRNm7cqOmBl+bn56fNmTNHLbNlxIgRWvr06VX+HjlyRNMDe7Uu9MDBSPH8fLVFDxi0GjVqqO8h+SHfS15j+Z7xLcd6UPWkbFy5ciXByuovv/yi6QdZ6j22bt2qVa9eXXv99deNpbY1bdpU69GjhzH1WEKUAVvkNfKe1mS7+frrr40pdSSg6Qcbar3L++pBrKYHgE/KUNTtQD+YVZ8rZUHK89ixYzU90Nd8fHzUcqEfhKpt4ODBg+r3fPHFF5oeyGvnz583Umgqn+S7SL7pAZ9a/3pgGen7yvrWA0K1zuV9PvzwQ00/iHny3fQDbK1jx47a0aNH1XLZxuSzrUk9JeWH6EVgMEkvjOzQpPJeuHChMcd+8+bNU5WthVSi8l6ys7KQnZFUsBadO3eOFAyIqMHkZ599ppUoUUKNW3zyySeRdjK2NG7cWO0AhOzw3d3dVYVvITsF2YHEFEzKDrpXr17G1GNVq1aNFEwWLFjwmSDo22+/Va+1JSgoSEudOrW2ZcsWY85jEhy99dZbajzqTlSWdevWTY1bSPAlO9ZHjx6padl5y87NQoIaeY8vv/zSmKOpnafMk2UiLu8rgWiWLFm0iRMnqumo68siR44c2nfffWdMPVa5cuUn+dm3b1/t1VdffRLYPo8E7CNHjjSmNC00NFQFIpbyY0++RiUBhgRyly9fNuY8VrduXVXuRHzL8U8//WTMiV5ClFUJeuTz5PXRkXL7zTffGFOPJUQZsMXeYFKCPYsHDx6oeStXrlTTUbcDWY+NGjVS4xZt27aNFEzaIoHfuHHj1LgEofKechBkIQGhzLN8X/n9ciAkZcqabOuTJ09W4xLcx3TAKCQoHzx4sDFF5Fhs5qYXRi9/xtjzSdORvtNVTWZ6xYpOnTqpJqfAwEAjBVRTlF4BG1NQTXbPa4qLSq/oVdOjNT1QM8YekyZQPYBTTYYZMmRQzVvSLCnXiInTp0+rZlXr95F0RYsWNaZse95nS1OgvLe+Q1afaRmkuVnm26IHJSqP6tevH+k1M2fOjPY10qQmzXvW6Rs2bKiadfWgxUgF1YxtIc18QvLEwjLPsg7i8r7S7CjNqjGtx4CAAFy5cgU1a9Y05jwm05KnQq4pk0sZZB1Is+qaNWvUfFvu3bunmpWt14VcUyvNvBZxyVe5HljKjlxCYf2aDRs2RHpNfMqx9XcUCVVWd+/erZpSpclXtj9pSheW97FFDw5Vc7u1xCoD9rJ+X7nMQJqMo3tfe+oCudRGLluQSxLk8gT5PfI6S77IuJQdaZa2kEtTJK2F5Im8j1xOYZ0vkh+WciGXXHTt2hX16tVTl8LYKmPSjG5dHxI5EoNJemHkmiXZURw7dsyYY5tcD9akSRO1I1iwYIHasf38889qmewILaRHozV579gErPaSjkJjx47FJ598gvXr16sgRXaI1t8lMViuEZ06dar6TMtw6NChSNeXWrO85u+//470miNHjkR7fZ+8pnv37pHSyw7v5MmTkYIc6/yWvBa25kmgIOLyvkLex/IecVWhQgW1c5bASoKcNm3a4M033zSWxl5c81U6fEn5tX6NBBxSniziU44lQLKWEGVVDmLkNRJ4yfV+O3fuxKJFi9SymN4nU6ZMuHv3rjH1WGKVAWdn52fyyFYHpIQuWxJISl7INZ5+fn7q90jgHpv8lTyRAwbrPJFBbqv00UcfqTRy7efhw4fRuHFj1VmxRIkST9aBxZ07d9Q1l0QvAoNJemHkDIjspCQwtL4A38JyIbzsfKXCl44B1apVU2d25ExUbElvTTlTExM5wyCdgaxFDdQ2b96sLrrv2LGj6mAgtzQ6ceKEsRRqpyg7re3btxtzoHaq1mlskc+2fo2w/mw505cjRw6cOXMGhQoVijRYOqZEJTudVKlSqTMlUV8jnR9skcBLgqKo6WWQPIyrhHhfSzrr9ShBjuSLrBdrMi2/30LStW3bVgXj0lFFDkxkBxyV3BpGdu7W6yIsLEyVQ4u45Kt0GpLvLWfCor5GzrzZy55ybJEQZVUO9qQVQM6ISccZObNmz1lC+b2yvq0lVtmSIErOJlvI2WrrM51x8bztUUj+yllv6ZwjQaSsR+sOe5JXUcuOBInWnXwkT+T2aHIGM2qeSEBuIfXegAED1Fn1li1bYsaMGcYSqI56crZS8pzoRWAwSS+UBJKyY6xSpYraucsZCjlTI7e5sDQpSaUqZxnGjRunAinpWTpp0iS1LDakx+eBAwdUZX7r1i2bZy569OihvoOcEZB0c+bMUc1y1uSM6tq1a7Flyxb1XeVMy/Xr142lUE1U0hQt7yFnEeTMoexw5OxJTPr374/p06ernYTszL/++mt1NsLakCFDVA9iyR9JI02nkl56u9siTZJy9kR2QtILWHY4e/bsUXkp07bIWSz5bdL7Wc6QSH5I72GZjo+EeN8sWbKo5jzpqS15Lk3SQvJ6xIgRKkiU9fbpp5+qz5A8FZI/0otZAiPJt3nz5qkdv3VzozV5nQRPixcvVq+RuwdYBwBxyVcJBjp06KB6Ti9cuFAFO3LgIutTznDay55ybJEQZVWatiXQs2x/0gNazvA+jxwobt26NVLgm1hlS3o/S70gZwdlm+jcubM6CxwfcjmElLMffvhBfc/x48dHukOAkPyVdSm/Rc6wSi936zOdcrmA9MaXfJfAVIJKaa6WMmwhTddS18m9QyVQlGBU8ujzzz9XPbTlTLrkj/Q2P3/+vApg5eywBLsWEuTKwU3UZngih9GIXjDpddq7d291Eb2+09Jy5sypeoLKBfEW0ltXOkVIxwB9J6XNnDlTXcRuuVheOi5EvTB+0aJFKo3FjRs3tPr166senDJf3l/foatx6w4dy5Yt0/QAVvWyrV27tqYHeJE+SzooSAcIeR/pGCAX9esBQqROEdIxQToRSCcN6TwhnTnq1KkTY6cGIZ1IMmXKpN5bOlpIr2TrDjhi9uzZWrly5VReSY/jl156KcZOTPrOTXXM0Hdsqqdw5syZVR5u2LBBLY/a8UBIhwFLXknv2zJlykTq4GKrw4O8h+S5ha28jcv7Ru1IMXXqVNUzWzptSJ4KPWBRnQ+k7MhvlNdYOlaIKVOmqDyTz5TODtLpRQ/+jKXPkg43sq4krfTgld79Udfx8/LVlpCQEO2rr75Sva7lNVKmW7RooXpRi4QsxyKhyqp0+pLvLNuEHrBoekBp8/OsSR5Kxyjp7W4tIcpAVPpBheocI+tLyoZ0Von6Gvm+1uVTSF5Lngtb24H0YpeOV1LvSG9rPbCMtH4k31955RW1XD5XDzifyTvpgCadniTvpNe81F1Rf2NAQIDqJCb5JeVC3ks/8FB3l5De+u3atVPzZJuXNHpw+aTDkpBOTXrAakwROZ6T/NE3ICIiogQlLQ9yJlM6/VDikLPT+gGNOosZ3eUuRImNzdxERJQopHn3pZdeMsWzuc1KmsXlwQUMJOlF4plJIiIiIooznpkkIiIiojhjMElEREREccZgkoiIiIjijMEkEREREcUZg0kiIiIiijMGk0REREQUZwwmiYiIiCjOGEwSERERUZwxmCQiIiKiOAL+D7j+FJOwd8vGAAAAAElFTkSuQmCC)\n",
        "\n",
        "<br>\n",
        "\n",
        "1. Determina la forma algebraica de la función que mejor se ajusta al gráfico. Utiliza la función polyfit de Scipy para calcular.\n",
        "2. Determina el tiempo de ejecución del algoritmo para $67$ elementos de entrada.\n",
        "3. ¿Cuántos elementos de entrada se utilizaron si el tiempo de ejecución fue de $6,4$ milisegundos?"
      ]
    },
    {
      "cell_type": "markdown",
      "metadata": {},
      "source": [
        "# Solución"
      ]
    },
    {
      "cell_type": "markdown",
      "metadata": {},
      "source": [
        "**1)**"
      ]
    },
    {
      "cell_type": "code",
      "execution_count": 4,
      "metadata": {},
      "outputs": [
        {
          "name": "stdout",
          "output_type": "stream",
          "text": [
            "La función que más se ajusta al gráfico es y = 0.05 * x + 2\n"
          ]
        }
      ],
      "source": [
        "import numpy as np\n",
        "\n",
        "exec_time = [2,3,4,5,6,7]\n",
        "n_ele = [0,20,40,60,80,100]\n",
        "\n",
        "m, n = np.polyfit(n_ele, exec_time, 1)\n",
        "\n",
        "print(f\"La función que más se ajusta al gráfico es y = {m:.2f} * x + {n:.0f}\")"
      ]
    },
    {
      "cell_type": "markdown",
      "metadata": {},
      "source": [
        "**2)**"
      ]
    },
    {
      "cell_type": "code",
      "execution_count": 7,
      "metadata": {},
      "outputs": [
        {
          "name": "stdout",
          "output_type": "stream",
          "text": [
            "El tiempo de ejecución del algoritmo para 67 elementos es de 5.35 ms\n"
          ]
        }
      ],
      "source": [
        "def exec_time(n_ele):\n",
        "    return m * n_ele + n\n",
        "\n",
        "print(f\"El tiempo de ejecución del algoritmo para 67 elementos es de {exec_time(67):.2f} ms\")"
      ]
    },
    {
      "cell_type": "markdown",
      "metadata": {},
      "source": [
        "**3)**"
      ]
    },
    {
      "cell_type": "code",
      "execution_count": 10,
      "metadata": {},
      "outputs": [
        {
          "name": "stdout",
          "output_type": "stream",
          "text": [
            "Se utilizaron 88 elementos para que el tiempo de ejecución sea de 6.4 milisegundos\n"
          ]
        }
      ],
      "source": [
        "from scipy.optimize import fsolve\n",
        "import numpy as np\n",
        "\n",
        "def exec_time_64(n_ele):\n",
        "    return exec_time(n_ele) - 6.4\n",
        "\n",
        "n_ele = np.linspace(0, 100, 1)\n",
        "\n",
        "roots = fsolve(exec_time_64, n_ele)\n",
        "\n",
        "print(f\"Se utilizaron {roots[0]:.0f} elementos para que el tiempo de ejecución sea de 6.4 milisegundos\")"
      ]
    },
    {
      "cell_type": "markdown",
      "metadata": {
        "id": "_giW_-O6QhYt"
      },
      "source": [
        "# Problema 9"
      ]
    },
    {
      "cell_type": "markdown",
      "metadata": {
        "id": "_2-dBMbgS2_W"
      },
      "source": [
        "El consumo de energía de un servidor $E(t)$  en función del tiempo $t$ después de implementar una optimización, está modelado por la función lineal que se observa en el siguiente gráfico:\n",
        "\n",
        "<br>\n",
        "\n",
        "![image.png](data:image/png;base64,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)\n",
        "\n",
        "<br>\n",
        "\n",
        "1. Utiliza la función *polyfit* de *Numpy* para determinar la forma algebraica que mejor se ajusta al gráfico.\n",
        "2. Interprete la pendiente en el contexto del problema.\n",
        "3. Determine el consumo de energía luego de un año desde que se implementó la optimización.\n",
        "4. Encuentre el tiempo transcurrido desde la implementación de la optimización para que la energía consumida sea de $200$ kWh."
      ]
    },
    {
      "cell_type": "markdown",
      "metadata": {},
      "source": [
        "# Solución"
      ]
    },
    {
      "cell_type": "markdown",
      "metadata": {},
      "source": [
        "**1)**"
      ]
    },
    {
      "cell_type": "code",
      "execution_count": 66,
      "metadata": {},
      "outputs": [
        {
          "name": "stdout",
          "output_type": "stream",
          "text": [
            "La función que más se ajusta al gráfico es y = -10.0 * x + 500.0\n"
          ]
        }
      ],
      "source": [
        "import numpy as np\n",
        "\n",
        "months = [0, 10, 20, 30, 40, 50]\n",
        "kwh = [500, 400, 300, 200, 100, 0]\n",
        "\n",
        "m, n = np.polyfit(months, kwh, 1)\n",
        "\n",
        "print(f\"La función que más se ajusta al gráfico es y = {m:.1f} * x + {n:.1f}\")"
      ]
    },
    {
      "cell_type": "markdown",
      "metadata": {},
      "source": [
        "**2)**"
      ]
    },
    {
      "cell_type": "markdown",
      "metadata": {},
      "source": [
        "La pendiente de la recta representa la velocidad a la cual el consumo de energía disminuye transcurrido un período de tiempo determinado."
      ]
    },
    {
      "cell_type": "markdown",
      "metadata": {},
      "source": [
        "**3)**"
      ]
    },
    {
      "cell_type": "code",
      "execution_count": 71,
      "metadata": {},
      "outputs": [
        {
          "name": "stdout",
          "output_type": "stream",
          "text": [
            "El consumo de energía luego de un año es de 380.0 KWh\n"
          ]
        }
      ],
      "source": [
        "def calc_energy(months):\n",
        "    return m * months + n\n",
        "\n",
        "print(f\"El consumo de energía luego de un año es de {calc_energy(12)} KWh\")"
      ]
    },
    {
      "cell_type": "markdown",
      "metadata": {},
      "source": [
        "**4)**"
      ]
    },
    {
      "cell_type": "code",
      "execution_count": 73,
      "metadata": {},
      "outputs": [
        {
          "name": "stdout",
          "output_type": "stream",
          "text": [
            "Han transcurrido 30.0 meses para que el consumo de energía sea de 200 KWh\n"
          ]
        }
      ],
      "source": [
        "from scipy.optimize import fsolve\n",
        "import numpy as np\n",
        "\n",
        "def calc_energy_200(months):\n",
        "    return calc_energy(months) - 200\n",
        "\n",
        "months = np.linspace(0, 40, 1)\n",
        "\n",
        "roots = fsolve(calc_energy_200, months)\n",
        "\n",
        "print(f\"Han transcurrido {roots[0]:.1f} meses para que el consumo de energía sea de 200 KWh\")"
      ]
    },
    {
      "cell_type": "markdown",
      "metadata": {
        "id": "_1Ga7d3GXEzr"
      },
      "source": [
        "# Problema 10"
      ]
    },
    {
      "cell_type": "markdown",
      "metadata": {
        "id": "fw4U-tOnXq5u"
      },
      "source": [
        "Dos atletas profesionales corren por un camino recto. Durante los primeros $10$ segundos del trayecto, la distancia recorrida (en metros) por el atleta $1$ está dada por la función:\n",
        "\n",
        "$$g(t) = 0,7t^{2}$$\n",
        "\n",
        "mientras que la distancia recorrida por el atleta $2$ está dada por la función:\n",
        "\n",
        "$$f(t) = 10t $$\n",
        "\n",
        "donde $t$ corresponde al tiempo transcurrido (en segundos) desde el inicio del trayecto.\n",
        "\n",
        "<br>\n",
        "\n",
        "1. ¿Cuál de los dos atletas siempre mantuvo una velocidad constante? Justifique. *Recomendación: grafica las funciones utilizando Matlplotlib.*\n",
        "2. Si la meta se encontraba a $100$ metros de la partida ¿cuál atleta llega primero?\n",
        "3. ¿A qué distancia se encontraban uno del otro cuando transcurren $8$ segundos? ¿Y cuando transcurren $10$ segundos?\n",
        "4. Entre el segundo $8$ y el $10$, ¿cuál atleta iba más rápido? Justifique apropiadamente."
      ]
    },
    {
      "cell_type": "markdown",
      "metadata": {},
      "source": [
        "# Solución"
      ]
    },
    {
      "cell_type": "markdown",
      "metadata": {},
      "source": [
        "**1)**"
      ]
    },
    {
      "cell_type": "code",
      "execution_count": 57,
      "metadata": {},
      "outputs": [
        {
          "data": {
            "image/png": "[encoded data removed]",
            "text/plain": [
              "<Figure size 640x480 with 1 Axes>"
            ]
          },
          "metadata": {},
          "output_type": "display_data"
        }
      ],
      "source": [
        "import matplotlib.pyplot as plt\n",
        "import numpy as np\n",
        "\n",
        "def g(t):\n",
        "    return 0.7 * t ** 2\n",
        "\n",
        "def f(t):\n",
        "    return 10 * t\n",
        "\n",
        "t = np.arange(0,11)\n",
        "\n",
        "fig, ax = plt.subplots()\n",
        "\n",
        "ax.plot(t, g(t), label=\"atleta 1\")\n",
        "ax.plot(t, f(t), label=\"atleta 2\")\n",
        "ax.set_xlim((0,11))\n",
        "ax.set_xticks(range(0,11))\n",
        "\n",
        "ax.legend(loc=\"upper right\")\n",
        "plt.show()"
      ]
    },
    {
      "cell_type": "markdown",
      "metadata": {},
      "source": [
        "El atleta 2 tuvo una velocidad constante a lo largo de la carrera debido a que la función que modela su recorrido en un tiempo determinado es una línea recta ascendente, mientras que el atleta tuvo un aumento gradual en su velocidad."
      ]
    },
    {
      "cell_type": "markdown",
      "metadata": {},
      "source": [
        "**2)**"
      ]
    },
    {
      "cell_type": "code",
      "execution_count": 58,
      "metadata": {},
      "outputs": [
        {
          "name": "stdout",
          "output_type": "stream",
          "text": [
            "El atleta 1 se demoró 11.952286102525933 segundos en alcanzar los 100 metros\n",
            "El atleta 2 se demoró 10.0 segundos en alcanzar los 100 metros\n",
            "El atleta 2 llega primero\n"
          ]
        }
      ],
      "source": [
        "from scipy.optimize import fsolve\n",
        "import numpy as np\n",
        "\n",
        "def g_100(t):\n",
        "    return g(t) - 100\n",
        "\n",
        "def f_100(t):\n",
        "    return f(t) - 100\n",
        "\n",
        "t = np.linspace(0, 10)\n",
        "\n",
        "g_roots = fsolve(g_100, t)\n",
        "f_roots = fsolve(f_100, t)\n",
        "\n",
        "print(f\"El atleta 1 se demoró {g_roots[0]} segundos en alcanzar los 100 metros\")\n",
        "print(f\"El atleta 2 se demoró {f_roots[0]} segundos en alcanzar los 100 metros\")\n",
        "\n",
        "if g_roots[0] > f_roots[0]:\n",
        "    print(\"El atleta 2 llega primero\")\n",
        "else:\n",
        "    print(\"El atleta 1 llega primero\")"
      ]
    },
    {
      "cell_type": "markdown",
      "metadata": {},
      "source": [
        "**3)**"
      ]
    },
    {
      "cell_type": "code",
      "execution_count": 64,
      "metadata": {},
      "outputs": [
        {
          "name": "stdout",
          "output_type": "stream",
          "text": [
            "A los 8 segundos el atleta 1 recorrió 44.8 metros, y el atleta 2 recorrió 80 metros, habia una distancia de 35.2 metros entre ellos\n",
            "A los 10 segundos el atleta 1 recorrió 70.0 metros, y el atleta 2 recorrió 100 metros, habia una distancia de 30.0 metros entre ellos\n"
          ]
        }
      ],
      "source": [
        "print(f\"A los 8 segundos el atleta 1 recorrió {g(8)} metros, y el atleta 2 recorrió {f(8)} metros, habia una distancia de {abs(g(8) - f(8))} metros entre ellos\")\n",
        "print(f\"A los 10 segundos el atleta 1 recorrió {g(10)} metros, y el atleta 2 recorrió {f(10)} metros, habia una distancia de {abs(g(10) - f(10))} metros entre ellos\")"
      ]
    },
    {
      "cell_type": "markdown",
      "metadata": {},
      "source": [
        "**4)**"
      ]
    },
    {
      "cell_type": "markdown",
      "metadata": {},
      "source": [
        "La velocidad se define como la distancia recorrida en un período de tiempo determinado, en este caso, ya calculamos las distancias recorridas, por lo tanto:\n",
        "\n",
        "**Atleta 1**\n",
        "\n",
        "$$v1 = \\frac{70 - 44.8}{2}\\space m/s$$\n",
        "$$v1 = \\frac{25.2}{2}\\space m/s$$\n",
        "$$v1 = 12.6\\space m/s$$\n",
        "\n",
        "**Atleta 2**\n",
        "\n",
        "$$v2 = \\frac{100 - 80}{2}\\space m/s$$\n",
        "$$v2 = \\frac{20}{2}\\space m/s$$\n",
        "$$v2 = 10\\space m/s$$\n",
        "\n",
        "Se puede concluir entonces que el atleta 1 fue más rápido entre el segundo 8 y el 10"
      ]
    },
    {
      "cell_type": "markdown",
      "metadata": {
        "id": "dhOuVu3MfQhJ"
      },
      "source": [
        "# Problema 11"
      ]
    },
    {
      "cell_type": "markdown",
      "metadata": {
        "id": "9KQ8ggNQg9ki"
      },
      "source": [
        "Un *Data Center* ha cotizado el costo de desarrollar un proyecto con dos empresas. El costo (en millones de pesos) entregado por la empresa $1$ está modelado por la función:\n",
        "\n",
        "$$C_{1}(t) = 12t + 50$$\n",
        "\n",
        "y costo (en millones de pesos) entregado por la empresa $2$ está modelado por la función:\n",
        "\n",
        "$$C_{2}(t) = 8t + 100$$\n",
        "\n",
        "donde $t$ corresponde al tiempo que demoren en realizar el proyecto (en semanas).\n",
        "\n",
        "<br>\n",
        "\n",
        "1. Utilizando la biblioteca *Matplotlib* grafique ambas funciones, indicando el nombre de los ejes coordenados junto con su unidad de medida.\n",
        "2. Si con la empresa $1$ pagaron $155$ millones de pesos ¿cuántas semanas duró el trabajo?\n",
        "3. Analizando el gráfico de la pregunta $1$, determine: ¿cuándo conviene desarrollar el proyecto con la empresa $1$? ¿Y la empresa $2$?"
      ]
    },
    {
      "cell_type": "markdown",
      "metadata": {},
      "source": [
        "# Solución"
      ]
    },
    {
      "cell_type": "markdown",
      "metadata": {},
      "source": [
        "**1)**"
      ]
    },
    {
      "cell_type": "code",
      "execution_count": 50,
      "metadata": {},
      "outputs": [
        {
          "data": {
            "image/png": "[encoded data removed]",
            "text/plain": [
              "<Figure size 640x480 with 1 Axes>"
            ]
          },
          "metadata": {},
          "output_type": "display_data"
        }
      ],
      "source": [
        "import matplotlib.pyplot as plt\n",
        "import numpy as np\n",
        "\n",
        "def calc_cost_1(time):\n",
        "    return 12 * time + 50\n",
        "\n",
        "def calc_cost_2(time):\n",
        "    return 8 * time + 100\n",
        "\n",
        "time = np.linspace(0,15)\n",
        "\n",
        "plt.plot(time,calc_cost_1(time), label=\"Costo empresa 1\")\n",
        "plt.plot(time,calc_cost_2(time), label=\"Costo empresa 2\")\n",
        "\n",
        "plt.xlabel(\"tiempo (semanas)\")\n",
        "plt.ylabel(\"costo (millones de pesos)\")\n",
        "\n",
        "plt.grid(True)\n",
        "plt.legend()\n",
        "plt.show()"
      ]
    },
    {
      "cell_type": "markdown",
      "metadata": {},
      "source": [
        "**2)**"
      ]
    },
    {
      "cell_type": "code",
      "execution_count": 47,
      "metadata": {},
      "outputs": [
        {
          "name": "stdout",
          "output_type": "stream",
          "text": [
            "El trabajo duró 8.75 semanas\n"
          ]
        }
      ],
      "source": [
        "from scipy.optimize import fsolve\n",
        "import numpy as np\n",
        "\n",
        "def calc_cost_1_155(time):\n",
        "    return calc_cost_1(time) - 155\n",
        "\n",
        "time = np.linspace(0, 20, 1)\n",
        "\n",
        "roots = fsolve(calc_cost_1_155, time)\n",
        "\n",
        "print(f\"El trabajo duró {roots[0]} semanas\")\n"
      ]
    },
    {
      "cell_type": "markdown",
      "metadata": {},
      "source": [
        "**3)**"
      ]
    },
    {
      "cell_type": "markdown",
      "metadata": {},
      "source": [
        "Analizando el gráfico se puede concluir que desde el principio es más conveniente desarrollar el proyecto con la empresa 1, pero luego de transcurrido 12 semanas resulta más beneficioso utilizar la empresa 2. En concreto es mas conveniente optar por la empresa 2 cuando:\n",
        "\n",
        "$$ 12t + 50 = 8t + 100$$\n",
        "$$ 4t = 50$$\n",
        "$$ t = 12.5$$\n",
        "\n",
        "han transcurrido 12.5 semanas"
      ]
    }
  ],
  "metadata": {
    "colab": {
      "provenance": []
    },
    "kernelspec": {
      "display_name": "Python 3",
      "name": "python3"
    },
    "language_info": {
      "codemirror_mode": {
        "name": "ipython",
        "version": 3
      },
      "file_extension": ".py",
      "mimetype": "text/x-python",
      "name": "python",
      "nbconvert_exporter": "python",
      "pygments_lexer": "ipython3",
      "version": "3.11.7"
    }
  },
  "nbformat": 4,
  "nbformat_minor": 0
}
